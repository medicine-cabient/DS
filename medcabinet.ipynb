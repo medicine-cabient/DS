{
 "cells": [
  {
   "cell_type": "code",
   "execution_count": null,
   "metadata": {
    "colab": {
     "base_uri": "https://localhost:8080/"
    },
    "id": "S6b8w6TBArdV",
    "outputId": "3bf8c004-3f1b-4c2f-b6c3-7921e1fbde85"
   },
   "outputs": [],
   "source": [
    "# INSTALL ANYTHING TO DO WITH SPACY FIRST!!!\n",
    "!python -m spacy download en_core_web_lg"
   ]
  },
  {
   "cell_type": "code",
   "execution_count": 1,
   "metadata": {
    "id": "ydnr8fuHVKR5"
   },
   "outputs": [],
   "source": [
    "import spacy\n",
    "nlp = spacy.load(\"en_core_web_lg\")"
   ]
  },
  {
   "cell_type": "code",
   "execution_count": 2,
   "metadata": {
    "id": "FxagHrmcayH7"
   },
   "outputs": [],
   "source": [
    "import pandas as pd\n",
    "import numpy as np\n",
    "from spacy.tokenizer import Tokenizer\n",
    "\n",
    "# Tokenizer\n",
    "tokenizer = Tokenizer(nlp.vocab)"
   ]
  },
  {
   "cell_type": "markdown",
   "metadata": {
    "id": "21Jws6oC5PFI"
   },
   "source": [
    "# Data Exploration\n"
   ]
  },
  {
   "cell_type": "code",
   "execution_count": 3,
   "metadata": {
    "id": "4yPTnQ6XZJjL"
   },
   "outputs": [],
   "source": [
    "df = pd.read_csv('cannabis.csv')"
   ]
  },
  {
   "cell_type": "code",
   "execution_count": 4,
   "metadata": {
    "colab": {
     "base_uri": "https://localhost:8080/",
     "height": 206
    },
    "id": "ds5Fyvdnazxw",
    "outputId": "25c21df6-2c04-4cd5-a99d-1b59d830300c"
   },
   "outputs": [
    {
     "data": {
      "text/html": [
       "<div>\n",
       "<style scoped>\n",
       "    .dataframe tbody tr th:only-of-type {\n",
       "        vertical-align: middle;\n",
       "    }\n",
       "\n",
       "    .dataframe tbody tr th {\n",
       "        vertical-align: top;\n",
       "    }\n",
       "\n",
       "    .dataframe thead th {\n",
       "        text-align: right;\n",
       "    }\n",
       "</style>\n",
       "<table border=\"1\" class=\"dataframe\">\n",
       "  <thead>\n",
       "    <tr style=\"text-align: right;\">\n",
       "      <th></th>\n",
       "      <th>Strain</th>\n",
       "      <th>Type</th>\n",
       "      <th>Rating</th>\n",
       "      <th>Effects</th>\n",
       "      <th>Flavor</th>\n",
       "      <th>Description</th>\n",
       "    </tr>\n",
       "  </thead>\n",
       "  <tbody>\n",
       "    <tr>\n",
       "      <th>0</th>\n",
       "      <td>100-Og</td>\n",
       "      <td>hybrid</td>\n",
       "      <td>4.0</td>\n",
       "      <td>Creative,Energetic,Tingly,Euphoric,Relaxed</td>\n",
       "      <td>Earthy,Sweet,Citrus</td>\n",
       "      <td>$100 OG is a 50/50 hybrid strain that packs a ...</td>\n",
       "    </tr>\n",
       "    <tr>\n",
       "      <th>1</th>\n",
       "      <td>98-White-Widow</td>\n",
       "      <td>hybrid</td>\n",
       "      <td>4.7</td>\n",
       "      <td>Relaxed,Aroused,Creative,Happy,Energetic</td>\n",
       "      <td>Flowery,Violet,Diesel</td>\n",
       "      <td>The ‘98 Aloha White Widow is an especially pot...</td>\n",
       "    </tr>\n",
       "    <tr>\n",
       "      <th>2</th>\n",
       "      <td>1024</td>\n",
       "      <td>sativa</td>\n",
       "      <td>4.4</td>\n",
       "      <td>Uplifted,Happy,Relaxed,Energetic,Creative</td>\n",
       "      <td>Spicy/Herbal,Sage,Woody</td>\n",
       "      <td>1024 is a sativa-dominant hybrid bred in Spain...</td>\n",
       "    </tr>\n",
       "    <tr>\n",
       "      <th>3</th>\n",
       "      <td>13-Dawgs</td>\n",
       "      <td>hybrid</td>\n",
       "      <td>4.2</td>\n",
       "      <td>Tingly,Creative,Hungry,Relaxed,Uplifted</td>\n",
       "      <td>Apricot,Citrus,Grapefruit</td>\n",
       "      <td>13 Dawgs is a hybrid of G13 and Chemdawg genet...</td>\n",
       "    </tr>\n",
       "    <tr>\n",
       "      <th>4</th>\n",
       "      <td>24K-Gold</td>\n",
       "      <td>hybrid</td>\n",
       "      <td>4.6</td>\n",
       "      <td>Happy,Relaxed,Euphoric,Uplifted,Talkative</td>\n",
       "      <td>Citrus,Earthy,Orange</td>\n",
       "      <td>Also known as Kosher Tangie, 24k Gold is a 60%...</td>\n",
       "    </tr>\n",
       "  </tbody>\n",
       "</table>\n",
       "</div>"
      ],
      "text/plain": [
       "           Strain    Type  Rating                                     Effects  \\\n",
       "0          100-Og  hybrid     4.0  Creative,Energetic,Tingly,Euphoric,Relaxed   \n",
       "1  98-White-Widow  hybrid     4.7    Relaxed,Aroused,Creative,Happy,Energetic   \n",
       "2            1024  sativa     4.4   Uplifted,Happy,Relaxed,Energetic,Creative   \n",
       "3        13-Dawgs  hybrid     4.2     Tingly,Creative,Hungry,Relaxed,Uplifted   \n",
       "4        24K-Gold  hybrid     4.6   Happy,Relaxed,Euphoric,Uplifted,Talkative   \n",
       "\n",
       "                      Flavor  \\\n",
       "0        Earthy,Sweet,Citrus   \n",
       "1      Flowery,Violet,Diesel   \n",
       "2    Spicy/Herbal,Sage,Woody   \n",
       "3  Apricot,Citrus,Grapefruit   \n",
       "4       Citrus,Earthy,Orange   \n",
       "\n",
       "                                         Description  \n",
       "0  $100 OG is a 50/50 hybrid strain that packs a ...  \n",
       "1  The ‘98 Aloha White Widow is an especially pot...  \n",
       "2  1024 is a sativa-dominant hybrid bred in Spain...  \n",
       "3  13 Dawgs is a hybrid of G13 and Chemdawg genet...  \n",
       "4  Also known as Kosher Tangie, 24k Gold is a 60%...  "
      ]
     },
     "execution_count": 4,
     "metadata": {},
     "output_type": "execute_result"
    }
   ],
   "source": [
    "df.head()"
   ]
  },
  {
   "cell_type": "code",
   "execution_count": 5,
   "metadata": {
    "colab": {
     "base_uri": "https://localhost:8080/"
    },
    "id": "pCPQH2ZNlW9T",
    "outputId": "2d30fe6f-5de7-438d-819d-922f36f9c924"
   },
   "outputs": [
    {
     "data": {
      "text/plain": [
       "Strain          0\n",
       "Type            0\n",
       "Rating          0\n",
       "Effects         0\n",
       "Flavor         46\n",
       "Description    33\n",
       "dtype: int64"
      ]
     },
     "execution_count": 5,
     "metadata": {},
     "output_type": "execute_result"
    }
   ],
   "source": [
    "df.isnull().sum()"
   ]
  },
  {
   "cell_type": "code",
   "execution_count": 6,
   "metadata": {
    "colab": {
     "base_uri": "https://localhost:8080/",
     "height": 424
    },
    "id": "dK7KoYJEl1bU",
    "outputId": "7db0d1c4-518c-4498-cebe-246d36ddd701"
   },
   "outputs": [
    {
     "data": {
      "text/html": [
       "<div>\n",
       "<style scoped>\n",
       "    .dataframe tbody tr th:only-of-type {\n",
       "        vertical-align: middle;\n",
       "    }\n",
       "\n",
       "    .dataframe tbody tr th {\n",
       "        vertical-align: top;\n",
       "    }\n",
       "\n",
       "    .dataframe thead th {\n",
       "        text-align: right;\n",
       "    }\n",
       "</style>\n",
       "<table border=\"1\" class=\"dataframe\">\n",
       "  <thead>\n",
       "    <tr style=\"text-align: right;\">\n",
       "      <th></th>\n",
       "      <th>Strain</th>\n",
       "      <th>Type</th>\n",
       "      <th>Rating</th>\n",
       "      <th>Effects</th>\n",
       "      <th>Flavor</th>\n",
       "      <th>Description</th>\n",
       "    </tr>\n",
       "  </thead>\n",
       "  <tbody>\n",
       "    <tr>\n",
       "      <th>103</th>\n",
       "      <td>Amethyst</td>\n",
       "      <td>hybrid</td>\n",
       "      <td>3.9</td>\n",
       "      <td>Energetic,Creative,Giggly,Hungry,Happy</td>\n",
       "      <td>NaN</td>\n",
       "      <td>Amethyst is a hybrid cannabis strain from the ...</td>\n",
       "    </tr>\n",
       "    <tr>\n",
       "      <th>123</th>\n",
       "      <td>Arabian-Gold</td>\n",
       "      <td>sativa</td>\n",
       "      <td>4.1</td>\n",
       "      <td>Euphoric,Tingly,Giggly,Sleepy,Creative</td>\n",
       "      <td>NaN</td>\n",
       "      <td>Arabian Gold is a heavy sativa strain of myste...</td>\n",
       "    </tr>\n",
       "    <tr>\n",
       "      <th>160</th>\n",
       "      <td>Bad-Azz-Kush</td>\n",
       "      <td>hybrid</td>\n",
       "      <td>5.0</td>\n",
       "      <td>None</td>\n",
       "      <td>NaN</td>\n",
       "      <td>Bad Azz Kush by Barney’s Farm was created with...</td>\n",
       "    </tr>\n",
       "    <tr>\n",
       "      <th>163</th>\n",
       "      <td>Banana-Candy</td>\n",
       "      <td>indica</td>\n",
       "      <td>4.2</td>\n",
       "      <td>Relaxed,Euphoric,Uplifted,Creative,Happy</td>\n",
       "      <td>Tree,Fruit,Earthy,Sweet</td>\n",
       "      <td>NaN</td>\n",
       "    </tr>\n",
       "    <tr>\n",
       "      <th>215</th>\n",
       "      <td>Birds-Eye</td>\n",
       "      <td>sativa</td>\n",
       "      <td>5.0</td>\n",
       "      <td>Happy,Uplifted,Energetic,Euphoric,Relaxed</td>\n",
       "      <td>NaN</td>\n",
       "      <td>Birds Eye is a variety of Jack Herer grown by ...</td>\n",
       "    </tr>\n",
       "    <tr>\n",
       "      <th>...</th>\n",
       "      <td>...</td>\n",
       "      <td>...</td>\n",
       "      <td>...</td>\n",
       "      <td>...</td>\n",
       "      <td>...</td>\n",
       "      <td>...</td>\n",
       "    </tr>\n",
       "    <tr>\n",
       "      <th>2237</th>\n",
       "      <td>Violeta</td>\n",
       "      <td>hybrid</td>\n",
       "      <td>0.0</td>\n",
       "      <td>None</td>\n",
       "      <td>NaN</td>\n",
       "      <td>Violeta by Ace Seeds is an indica-dominant hyb...</td>\n",
       "    </tr>\n",
       "    <tr>\n",
       "      <th>2248</th>\n",
       "      <td>Walrus-Kush</td>\n",
       "      <td>hybrid</td>\n",
       "      <td>4.3</td>\n",
       "      <td>Happy,Giggly,Uplifted,Creative,Hungry</td>\n",
       "      <td>NaN</td>\n",
       "      <td>While normally difficult to ignore, this Walru...</td>\n",
       "    </tr>\n",
       "    <tr>\n",
       "      <th>2257</th>\n",
       "      <td>Wembley</td>\n",
       "      <td>indica</td>\n",
       "      <td>4.0</td>\n",
       "      <td>None</td>\n",
       "      <td>NaN</td>\n",
       "      <td>Wembley by Pyramid Seeds is an indica-dominant...</td>\n",
       "    </tr>\n",
       "    <tr>\n",
       "      <th>2309</th>\n",
       "      <td>White-Walrus</td>\n",
       "      <td>hybrid</td>\n",
       "      <td>2.5</td>\n",
       "      <td>Talkative,Uplifted,Creative,Energetic,Euphoric</td>\n",
       "      <td>NaN</td>\n",
       "      <td>White Walrus is a phenotype of Chernobyl, grow...</td>\n",
       "    </tr>\n",
       "    <tr>\n",
       "      <th>2321</th>\n",
       "      <td>Wonderwoman-Og</td>\n",
       "      <td>indica</td>\n",
       "      <td>4.0</td>\n",
       "      <td>Relaxed,Tingly,Euphoric,Aroused,Happy</td>\n",
       "      <td>Flowery,Menthol,Citrus</td>\n",
       "      <td>NaN</td>\n",
       "    </tr>\n",
       "  </tbody>\n",
       "</table>\n",
       "<p>74 rows × 6 columns</p>\n",
       "</div>"
      ],
      "text/plain": [
       "              Strain    Type  Rating  \\\n",
       "103         Amethyst  hybrid     3.9   \n",
       "123     Arabian-Gold  sativa     4.1   \n",
       "160     Bad-Azz-Kush  hybrid     5.0   \n",
       "163     Banana-Candy  indica     4.2   \n",
       "215        Birds-Eye  sativa     5.0   \n",
       "...              ...     ...     ...   \n",
       "2237         Violeta  hybrid     0.0   \n",
       "2248     Walrus-Kush  hybrid     4.3   \n",
       "2257         Wembley  indica     4.0   \n",
       "2309    White-Walrus  hybrid     2.5   \n",
       "2321  Wonderwoman-Og  indica     4.0   \n",
       "\n",
       "                                             Effects                   Flavor  \\\n",
       "103           Energetic,Creative,Giggly,Hungry,Happy                      NaN   \n",
       "123           Euphoric,Tingly,Giggly,Sleepy,Creative                      NaN   \n",
       "160                                             None                      NaN   \n",
       "163         Relaxed,Euphoric,Uplifted,Creative,Happy  Tree,Fruit,Earthy,Sweet   \n",
       "215        Happy,Uplifted,Energetic,Euphoric,Relaxed                      NaN   \n",
       "...                                              ...                      ...   \n",
       "2237                                            None                      NaN   \n",
       "2248           Happy,Giggly,Uplifted,Creative,Hungry                      NaN   \n",
       "2257                                            None                      NaN   \n",
       "2309  Talkative,Uplifted,Creative,Energetic,Euphoric                      NaN   \n",
       "2321           Relaxed,Tingly,Euphoric,Aroused,Happy   Flowery,Menthol,Citrus   \n",
       "\n",
       "                                            Description  \n",
       "103   Amethyst is a hybrid cannabis strain from the ...  \n",
       "123   Arabian Gold is a heavy sativa strain of myste...  \n",
       "160   Bad Azz Kush by Barney’s Farm was created with...  \n",
       "163                                                 NaN  \n",
       "215   Birds Eye is a variety of Jack Herer grown by ...  \n",
       "...                                                 ...  \n",
       "2237  Violeta by Ace Seeds is an indica-dominant hyb...  \n",
       "2248  While normally difficult to ignore, this Walru...  \n",
       "2257  Wembley by Pyramid Seeds is an indica-dominant...  \n",
       "2309  White Walrus is a phenotype of Chernobyl, grow...  \n",
       "2321                                                NaN  \n",
       "\n",
       "[74 rows x 6 columns]"
      ]
     },
     "execution_count": 6,
     "metadata": {},
     "output_type": "execute_result"
    }
   ],
   "source": [
    "#  Shows all rows that contain NaN values using a mask\n",
    "\n",
    "mask = False\n",
    "for col in df.columns: \n",
    "    mask = mask | df[col].isnull()\n",
    "null_df = df[mask]\n",
    "null_df"
   ]
  },
  {
   "cell_type": "code",
   "execution_count": 7,
   "metadata": {
    "colab": {
     "base_uri": "https://localhost:8080/"
    },
    "id": "kcoHa636TGg3",
    "outputId": "fce6107e-384e-48a1-920b-4d2a4efe72b0"
   },
   "outputs": [
    {
     "data": {
      "text/plain": [
       "46"
      ]
     },
     "execution_count": 7,
     "metadata": {},
     "output_type": "execute_result"
    }
   ],
   "source": [
    "null_df['Flavor'].isnull().sum()"
   ]
  },
  {
   "cell_type": "code",
   "execution_count": 8,
   "metadata": {},
   "outputs": [
    {
     "data": {
      "text/plain": [
       "(74, 6)"
      ]
     },
     "execution_count": 8,
     "metadata": {},
     "output_type": "execute_result"
    }
   ],
   "source": [
    "null_df.shape"
   ]
  },
  {
   "cell_type": "code",
   "execution_count": 9,
   "metadata": {
    "colab": {
     "base_uri": "https://localhost:8080/"
    },
    "id": "W3s_W0sDnDjX",
    "outputId": "fdb66930-4067-47bc-cd9e-d4bf07da6123"
   },
   "outputs": [
    {
     "data": {
      "text/plain": [
       "2.5      1\n",
       "3.1      1\n",
       "1.0      1\n",
       "2.8      1\n",
       "2.0      2\n",
       "3.3      3\n",
       "3.2      3\n",
       "3.4      5\n",
       "3.5      9\n",
       "3.6     11\n",
       "3.0     13\n",
       "3.7     16\n",
       "3.8     23\n",
       "3.9     29\n",
       "4.9     59\n",
       "0.0     71\n",
       "4.1    101\n",
       "4.0    104\n",
       "4.8    159\n",
       "4.7    164\n",
       "5.0    210\n",
       "4.2    225\n",
       "4.6    242\n",
       "4.4    284\n",
       "4.3    297\n",
       "4.5    317\n",
       "Name: Rating, dtype: int64"
      ]
     },
     "execution_count": 9,
     "metadata": {},
     "output_type": "execute_result"
    }
   ],
   "source": [
    "df['Rating'].value_counts(ascending=True)"
   ]
  },
  {
   "cell_type": "code",
   "execution_count": 10,
   "metadata": {
    "colab": {
     "base_uri": "https://localhost:8080/"
    },
    "id": "3vSPLsoL-Rxa",
    "outputId": "346ab2f9-6f90-40a1-8686-b8f45f892c61"
   },
   "outputs": [
    {
     "data": {
      "text/plain": [
       "Index(['Strain', 'Type', 'Rating', 'Effects', 'Flavor', 'Description'], dtype='object')"
      ]
     },
     "execution_count": 10,
     "metadata": {},
     "output_type": "execute_result"
    }
   ],
   "source": [
    "df.columns"
   ]
  },
  {
   "cell_type": "code",
   "execution_count": 11,
   "metadata": {
    "colab": {
     "base_uri": "https://localhost:8080/",
     "height": 206
    },
    "id": "Q3abmpuE-15V",
    "outputId": "b02f468b-96ba-4801-e310-f9bebb1bf51f"
   },
   "outputs": [
    {
     "data": {
      "text/html": [
       "<div>\n",
       "<style scoped>\n",
       "    .dataframe tbody tr th:only-of-type {\n",
       "        vertical-align: middle;\n",
       "    }\n",
       "\n",
       "    .dataframe tbody tr th {\n",
       "        vertical-align: top;\n",
       "    }\n",
       "\n",
       "    .dataframe thead th {\n",
       "        text-align: right;\n",
       "    }\n",
       "</style>\n",
       "<table border=\"1\" class=\"dataframe\">\n",
       "  <thead>\n",
       "    <tr style=\"text-align: right;\">\n",
       "      <th></th>\n",
       "      <th>Strain</th>\n",
       "      <th>Type</th>\n",
       "      <th>Rating</th>\n",
       "      <th>Effects</th>\n",
       "      <th>Flavor</th>\n",
       "      <th>Description</th>\n",
       "    </tr>\n",
       "  </thead>\n",
       "  <tbody>\n",
       "    <tr>\n",
       "      <th>0</th>\n",
       "      <td>100-Og</td>\n",
       "      <td>hybrid</td>\n",
       "      <td>4.0</td>\n",
       "      <td>Creative,Energetic,Tingly,Euphoric,Relaxed</td>\n",
       "      <td>Earthy,Sweet,Citrus</td>\n",
       "      <td>$100 OG is a 50/50 hybrid strain that packs a ...</td>\n",
       "    </tr>\n",
       "    <tr>\n",
       "      <th>1</th>\n",
       "      <td>98-White-Widow</td>\n",
       "      <td>hybrid</td>\n",
       "      <td>4.7</td>\n",
       "      <td>Relaxed,Aroused,Creative,Happy,Energetic</td>\n",
       "      <td>Flowery,Violet,Diesel</td>\n",
       "      <td>The ‘98 Aloha White Widow is an especially pot...</td>\n",
       "    </tr>\n",
       "    <tr>\n",
       "      <th>2</th>\n",
       "      <td>1024</td>\n",
       "      <td>sativa</td>\n",
       "      <td>4.4</td>\n",
       "      <td>Uplifted,Happy,Relaxed,Energetic,Creative</td>\n",
       "      <td>Spicy/Herbal,Sage,Woody</td>\n",
       "      <td>1024 is a sativa-dominant hybrid bred in Spain...</td>\n",
       "    </tr>\n",
       "    <tr>\n",
       "      <th>3</th>\n",
       "      <td>13-Dawgs</td>\n",
       "      <td>hybrid</td>\n",
       "      <td>4.2</td>\n",
       "      <td>Tingly,Creative,Hungry,Relaxed,Uplifted</td>\n",
       "      <td>Apricot,Citrus,Grapefruit</td>\n",
       "      <td>13 Dawgs is a hybrid of G13 and Chemdawg genet...</td>\n",
       "    </tr>\n",
       "    <tr>\n",
       "      <th>4</th>\n",
       "      <td>24K-Gold</td>\n",
       "      <td>hybrid</td>\n",
       "      <td>4.6</td>\n",
       "      <td>Happy,Relaxed,Euphoric,Uplifted,Talkative</td>\n",
       "      <td>Citrus,Earthy,Orange</td>\n",
       "      <td>Also known as Kosher Tangie, 24k Gold is a 60%...</td>\n",
       "    </tr>\n",
       "  </tbody>\n",
       "</table>\n",
       "</div>"
      ],
      "text/plain": [
       "           Strain    Type  Rating                                     Effects  \\\n",
       "0          100-Og  hybrid     4.0  Creative,Energetic,Tingly,Euphoric,Relaxed   \n",
       "1  98-White-Widow  hybrid     4.7    Relaxed,Aroused,Creative,Happy,Energetic   \n",
       "2            1024  sativa     4.4   Uplifted,Happy,Relaxed,Energetic,Creative   \n",
       "3        13-Dawgs  hybrid     4.2     Tingly,Creative,Hungry,Relaxed,Uplifted   \n",
       "4        24K-Gold  hybrid     4.6   Happy,Relaxed,Euphoric,Uplifted,Talkative   \n",
       "\n",
       "                      Flavor  \\\n",
       "0        Earthy,Sweet,Citrus   \n",
       "1      Flowery,Violet,Diesel   \n",
       "2    Spicy/Herbal,Sage,Woody   \n",
       "3  Apricot,Citrus,Grapefruit   \n",
       "4       Citrus,Earthy,Orange   \n",
       "\n",
       "                                         Description  \n",
       "0  $100 OG is a 50/50 hybrid strain that packs a ...  \n",
       "1  The ‘98 Aloha White Widow is an especially pot...  \n",
       "2  1024 is a sativa-dominant hybrid bred in Spain...  \n",
       "3  13 Dawgs is a hybrid of G13 and Chemdawg genet...  \n",
       "4  Also known as Kosher Tangie, 24k Gold is a 60%...  "
      ]
     },
     "execution_count": 11,
     "metadata": {},
     "output_type": "execute_result"
    }
   ],
   "source": [
    "df.head()"
   ]
  },
  {
   "cell_type": "code",
   "execution_count": 12,
   "metadata": {
    "colab": {
     "base_uri": "https://localhost:8080/",
     "height": 73
    },
    "id": "xoW4q9II4GmY",
    "outputId": "5c592d1c-886a-4792-dbc2-fbf628d90625"
   },
   "outputs": [
    {
     "data": {
      "text/plain": [
       "nan"
      ]
     },
     "execution_count": 12,
     "metadata": {},
     "output_type": "execute_result"
    }
   ],
   "source": [
    "df['Flavor'][103]"
   ]
  },
  {
   "cell_type": "code",
   "execution_count": 13,
   "metadata": {
    "colab": {
     "base_uri": "https://localhost:8080/"
    },
    "id": "D6fI6Ujp_ilK",
    "outputId": "988b2961-cf36-4922-d0ee-179f1caf9a84"
   },
   "outputs": [
    {
     "data": {
      "text/plain": [
       "(2351, 6)"
      ]
     },
     "execution_count": 13,
     "metadata": {},
     "output_type": "execute_result"
    }
   ],
   "source": [
    "df.shape"
   ]
  },
  {
   "cell_type": "code",
   "execution_count": 14,
   "metadata": {
    "colab": {
     "base_uri": "https://localhost:8080/",
     "height": 36
    },
    "id": "1t81txcmnmtn",
    "outputId": "8ac061ca-5915-44f3-ddaf-158b3450964d"
   },
   "outputs": [
    {
     "data": {
      "text/plain": [
       "'Hawaiian Delight has a strong and musky aroma, hashy finish with a pleasant after taste.'"
      ]
     },
     "execution_count": 14,
     "metadata": {},
     "output_type": "execute_result"
    }
   ],
   "source": [
    "df.Description[1000]"
   ]
  },
  {
   "cell_type": "code",
   "execution_count": 15,
   "metadata": {
    "colab": {
     "base_uri": "https://localhost:8080/",
     "height": 73
    },
    "id": "IzihqD8dcsVy",
    "outputId": "f41b8500-1174-4637-e595-6df80901b9b8"
   },
   "outputs": [
    {
     "data": {
      "text/plain": [
       "'13 Dawgs is a hybrid of G13 and Chemdawg genetics bred by Canadian LP Delta 9 BioTech. The two potent strains mix to create a balance between indica and sativa effects. 13 Dawgs has a sweet earthy musk that brings a blend of woody\\xa0citrus flavors. The effects of 13 Dawgs induce a happy, relaxed body buzz with a creative and focused mind that counters depression and stimulates the appetite.'"
      ]
     },
     "execution_count": 15,
     "metadata": {},
     "output_type": "execute_result"
    }
   ],
   "source": [
    "df.Description[3]"
   ]
  },
  {
   "cell_type": "code",
   "execution_count": 16,
   "metadata": {
    "colab": {
     "base_uri": "https://localhost:8080/"
    },
    "id": "AfgGKDrElBG2",
    "outputId": "19815752-0470-43c0-bae7-624a60b766fd"
   },
   "outputs": [
    {
     "name": "stdout",
     "output_type": "stream",
     "text": [
      "<class 'pandas.core.frame.DataFrame'>\n",
      "RangeIndex: 2351 entries, 0 to 2350\n",
      "Data columns (total 6 columns):\n",
      " #   Column       Non-Null Count  Dtype  \n",
      "---  ------       --------------  -----  \n",
      " 0   Strain       2351 non-null   object \n",
      " 1   Type         2351 non-null   object \n",
      " 2   Rating       2351 non-null   float64\n",
      " 3   Effects      2351 non-null   object \n",
      " 4   Flavor       2305 non-null   object \n",
      " 5   Description  2318 non-null   object \n",
      "dtypes: float64(1), object(5)\n",
      "memory usage: 110.3+ KB\n"
     ]
    }
   ],
   "source": [
    "df.info()"
   ]
  },
  {
   "cell_type": "markdown",
   "metadata": {
    "id": "n4kFS--w5Wnz"
   },
   "source": [
    "## Creating **Helper Functions** for NLP"
   ]
  },
  {
   "cell_type": "markdown",
   "metadata": {
    "id": "AflMKATH5uE7"
   },
   "source": [
    "get_lemmas --> return lemmas from a string"
   ]
  },
  {
   "cell_type": "code",
   "execution_count": 17,
   "metadata": {
    "id": "Ba6cOD9ckbHO"
   },
   "outputs": [],
   "source": [
    "#  SPAIN IS REGISTERING AS PAIN!!! MAKE A DROP WORD \n",
    "STOP_WORDS = nlp.Defaults.stop_words.union([' ', 'spain', 'los', 'sap', 'mother', \n",
    "                                            'petite', 'tonic', 'so', 'ash', \n",
    "                                            'rain', 'in', 'app', 'hyper', \n",
    "                                            'tension', '\\xa0 ', ' ', '\\xa0'])\n",
    "\n",
    "                                            #'b', 'c', 'd', \n",
    "                                            #'e', 'f', 'g', 'h', 'i', 'j', 'k', \n",
    "                                            #'l', 'm', 'n', 'o', 'p', 'q', 'r', \n",
    "                                            #'s', 't', 'u', 'v', 'w', 'x', 'y', \n",
    "                                            #'z', \n",
    "def get_lemmas(text):\n",
    "  \"\"\"Returns `lemmas` in a list\"\"\"\n",
    "  tokens = []\n",
    "  doc = nlp(text)\n",
    "\n",
    "  for token in doc:\n",
    "    if (token.is_stop == False) & (token.is_punct == False) & (token.pos_!= 'PRON') & (token.text.lower() not in STOP_WORDS):\n",
    "      tokens.append(token.lemma_)\n",
    "\n",
    "  return tokens\n",
    "\n",
    "\n"
   ]
  },
  {
   "cell_type": "code",
   "execution_count": 18,
   "metadata": {
    "colab": {
     "base_uri": "https://localhost:8080/"
    },
    "id": "OO92h69O_QXV",
    "outputId": "cf34932a-59a0-4b98-ff7a-087f5fa949aa"
   },
   "outputs": [
    {
     "data": {
      "text/plain": [
       "2.5      1\n",
       "3.1      1\n",
       "1.0      1\n",
       "2.8      1\n",
       "2.0      2\n",
       "3.3      3\n",
       "3.2      3\n",
       "3.4      5\n",
       "3.5      9\n",
       "3.6     11\n",
       "3.0     13\n",
       "3.7     16\n",
       "3.8     23\n",
       "3.9     29\n",
       "4.9     59\n",
       "0.0     71\n",
       "4.1    101\n",
       "4.0    104\n",
       "4.8    159\n",
       "4.7    164\n",
       "5.0    210\n",
       "4.2    225\n",
       "4.6    242\n",
       "4.4    284\n",
       "4.3    297\n",
       "4.5    317\n",
       "Name: Rating, dtype: int64"
      ]
     },
     "execution_count": 18,
     "metadata": {},
     "output_type": "execute_result"
    }
   ],
   "source": [
    "df['Rating'].value_counts(ascending=True)"
   ]
  },
  {
   "cell_type": "markdown",
   "metadata": {
    "id": "btRVZdp4RsIy"
   },
   "source": [
    "##  Wrangle the DataFrame"
   ]
  },
  {
   "cell_type": "code",
   "execution_count": 19,
   "metadata": {
    "id": "59fLYE2jPTpZ"
   },
   "outputs": [],
   "source": [
    "# import re\n",
    "\n",
    "def wrangle(df):\n",
    "  df = df.copy()\n",
    "  \n",
    "  #  Only rows with values greater than 2.0 stay\n",
    "  # df = df[df['Rating'] > 2.0]\n",
    "\n",
    "  df = df.fillna(\"\")\n",
    "\n",
    "  # concatenating strings of text using `cat`\n",
    "  df['FullText'] = df['Description'].str.cat(df['Type'], sep=\" \")\n",
    "  df['FullText'] = df['FullText'].str.cat(df['Effects'], sep=\" \")\n",
    "  df['FullText'] = df['FullText'].str.cat(df['Flavor'], sep=\" \")\n",
    "\n",
    "  #  This line combines the entire row into a string exluding floats and integers call df['text']\n",
    "  df['FullText'] = df['FullText'].str.cat(df['Description'], sep=\" \")\n",
    "\n",
    "  # Renaming columns\n",
    "  df.columns = ['Name', 'Type', 'Rating', 'Effects', 'Flavor', 'Description', 'FullText']\n",
    "\n",
    "  \n",
    "\n",
    "  df['cleaned_name'] = df['Name'].apply(lambda x: \"\".join(x))\n",
    "  df['cleaned_name'] = df['cleaned_name'].apply(lambda x: x.replace(\"-\",\" \"))\n",
    "  df['cleaned_name'] = df['cleaned_name'].apply(lambda x: x.lower())\n",
    "\n",
    "\n",
    "  #List of dupicate columns BELOW - Don't Reference this because \n",
    "  #column names changed later on\n",
    "  #['Name', 'Type', 'Rating', 'Effects', 'Flavor', \n",
    "  #'Description', 'FullText', 'lemmas', 'cleaned_name', 'count_text']\n",
    "\n",
    "  cols = [\"cleaned_name\", \"Rating\", \"Type\", \"Effects\", \n",
    "               \"Flavor\", \"Description\", \"FullText\"]\n",
    "  df = df[cols]\n",
    "  \n",
    "\n",
    "  ls_need_lemmas = ['Type', 'Effects', 'Flavor', 'FullText']\n",
    "\n",
    "  \n",
    "  for val in ls_need_lemmas:\n",
    "    df[val] = df[val].apply(get_lemmas)\n",
    "    df[val] = df[val].map(lambda x: list(set(map(str.lower, x))))\n",
    "    # df[val] = df[val].apply(lambda x: re.sub('[^a-zA-Z 0-9]', ' ',x))\n",
    "    df[val] = df[val].str.join(\", \")\n",
    "\n",
    "\n",
    "  #  Rename columns\n",
    "  df.columns = ['Strain', \n",
    "                'Rating',\n",
    "                'Type', \n",
    "                'Effects', \n",
    "                'Flavor', \n",
    "                'Description', \n",
    "                'FullText']\n",
    "\n",
    "  df['tokens'] = df['FullText'].apply(get_lemmas)\n",
    "\n",
    "  \n",
    "  condition = [df['Rating'].between(4.5, 5.0), \n",
    "               df['Rating'].between(3.2, 4.5),\n",
    "               df['Rating'].between(0, 3.2)]\n",
    "  value_rating_basket = ['Great', 'Good', 'Bad']\n",
    "  df['Rating Category'] = np.select(condition, value_rating_basket, 0)\n",
    "\n",
    "\n",
    "  ls_dosage = ['dose', 'dosage', 'potency', 'potent']\n",
    "    \n",
    "  df['Dosage_in_Descrip'] = df['FullText'].str.findall(f\"({'|'.join(ls_dosage)})\").str.join(', ').replace('', np.NaN)\n",
    "  df['Dosage_in_Descrip'].fillna('none', inplace=True)\n",
    "\n",
    "\n",
    "  #  Pulls out words that describe `Ailments` from `FullText` column\n",
    "\n",
    "  values_issues = {'sore', 'migraine', 'rash', 'allergy', \n",
    "                   'inflammation', 'pain', 'seizure','catatonic'\n",
    "                   'spasm', 'appetite', 'weight', 'cramp'\n",
    "                   'cold', 'influenza', 'glaucoma', 'arthritis', 'sclerosis',\n",
    "                   'stress', 'ache', 'insomnia', 'sad', \n",
    "                   'cancer', 'anxiety', 'foggy',\n",
    "                   'epilepsy', 'nausea', 'depression', 'sleep', \n",
    "                   'chemotherapy', 'soreness'\n",
    "                   'add', 'adhd', 'ocd', 'hypertension', 'indigestion'}\n",
    "\n",
    "  #  Flags `Issues` values(ABOVE)\n",
    "  df['Flagged Ailments'] = df['FullText'].apply(lambda x: sum(i in values_issues for i in x.split(\", \")))\n",
    "\n",
    "  \n",
    "\n",
    "  ls_values_issues = ['sore', 'migraine', 'rash', 'allergy', \n",
    "                'inflammation', 'pain', 'seizure', 'catatonic' \n",
    "                'spasm', 'appetite', 'weight', 'cramp'\n",
    "                'cold', 'influenza', 'glaucoma', 'arthritis', 'sclerosis',\n",
    "                'stress', 'ache', 'insomnia', 'sad', \n",
    "                'cancer', 'anxiety', 'foggy',\n",
    "                'epilepsy', 'nausea', 'depression', 'sleep', \n",
    "                'chemotherapy', 'soreness' \n",
    "                'add', 'adhd', 'ocd', 'hypertension', 'indigestion']\n",
    "\n",
    "  df['Ailments'] = (df['FullText'].str.findall(f\"({'|'.join(ls_values_issues)})\").str.join(', ').replace('', np.NaN))\n",
    "  df['Ailments'] = df['Ailments'].fillna(0)\n",
    "\n",
    " \n",
    "  df['count_ailments'] = df['Ailments'].str.count(',').add(1)\n",
    "  df['count_ailments'] = df['count_ailments'].fillna(0)\n",
    "\n",
    "  #  this counted the text in `FullText` - Ended up not using this\n",
    "  df['count_text'] = df['FullText'].apply(lambda x: len(x)) \n",
    "  df['Strain'] = df['Strain'].apply(lambda x: x.title())\n",
    "  df['Type'] = df['Type'].apply(lambda x: x.title())\n",
    "  df['Effects'] = df['Effects'].apply(lambda x: x.title())\n",
    "  df['Flavor'] = df['Flavor'].apply(lambda x: x.title())\n",
    "    \n",
    "  return df"
   ]
  },
  {
   "cell_type": "code",
   "execution_count": 20,
   "metadata": {
    "id": "b-C2YHofRX2u"
   },
   "outputs": [],
   "source": [
    "#  Applying the wrangle function\n",
    "test_df = wrangle(df)"
   ]
  },
  {
   "cell_type": "code",
   "execution_count": 21,
   "metadata": {},
   "outputs": [
    {
     "data": {
      "text/html": [
       "<div>\n",
       "<style scoped>\n",
       "    .dataframe tbody tr th:only-of-type {\n",
       "        vertical-align: middle;\n",
       "    }\n",
       "\n",
       "    .dataframe tbody tr th {\n",
       "        vertical-align: top;\n",
       "    }\n",
       "\n",
       "    .dataframe thead th {\n",
       "        text-align: right;\n",
       "    }\n",
       "</style>\n",
       "<table border=\"1\" class=\"dataframe\">\n",
       "  <thead>\n",
       "    <tr style=\"text-align: right;\">\n",
       "      <th></th>\n",
       "      <th>Strain</th>\n",
       "      <th>Rating</th>\n",
       "      <th>Type</th>\n",
       "      <th>Effects</th>\n",
       "      <th>Flavor</th>\n",
       "      <th>Description</th>\n",
       "      <th>FullText</th>\n",
       "      <th>tokens</th>\n",
       "      <th>Rating Category</th>\n",
       "      <th>Dosage_in_Descrip</th>\n",
       "      <th>Flagged Ailments</th>\n",
       "      <th>Ailments</th>\n",
       "      <th>count_ailments</th>\n",
       "      <th>count_text</th>\n",
       "    </tr>\n",
       "  </thead>\n",
       "  <tbody>\n",
       "    <tr>\n",
       "      <th>0</th>\n",
       "      <td>100 Og</td>\n",
       "      <td>4.0</td>\n",
       "      <td>Hybrid</td>\n",
       "      <td>Tingly, Relaxed, Energetic, Euphoric, Creative</td>\n",
       "      <td>Earthy, Citrus, Sweet</td>\n",
       "      <td>$100 OG is a 50/50 hybrid strain that packs a ...</td>\n",
       "      <td>50/50, strong, strain, pack, tend, 100, show, ...</td>\n",
       "      <td>[50/50, strong, strain, pack, tend, 100, alert...</td>\n",
       "      <td>Good</td>\n",
       "      <td>none</td>\n",
       "      <td>1</td>\n",
       "      <td>pain</td>\n",
       "      <td>1.0</td>\n",
       "      <td>335</td>\n",
       "    </tr>\n",
       "    <tr>\n",
       "      <th>1</th>\n",
       "      <td>98 White Widow</td>\n",
       "      <td>4.7</td>\n",
       "      <td>Hybrid</td>\n",
       "      <td>Aroused, Relaxed, Energetic, Happy, Creative</td>\n",
       "      <td>Violet, Flowery, Diesel</td>\n",
       "      <td>The ‘98 Aloha White Widow is an especially pot...</td>\n",
       "      <td>hawaiian, violet, renown, aloha, diesel, rich,...</td>\n",
       "      <td>[hawaiian, violet, renown, aloha, diesel, rich...</td>\n",
       "      <td>Great</td>\n",
       "      <td>potent</td>\n",
       "      <td>0</td>\n",
       "      <td>0</td>\n",
       "      <td>0.0</td>\n",
       "      <td>483</td>\n",
       "    </tr>\n",
       "    <tr>\n",
       "      <th>2</th>\n",
       "      <td>1024</td>\n",
       "      <td>4.4</td>\n",
       "      <td>Sativa</td>\n",
       "      <td>Relaxed, Energetic, Happy, Creative, Uplifted</td>\n",
       "      <td>Herbal, Spicy, Woody, Sage</td>\n",
       "      <td>1024 is a sativa-dominant hybrid bred in Spain...</td>\n",
       "      <td>woody, dominant, co., fruit, sweet, subtle, re...</td>\n",
       "      <td>[woody, dominant, co., fruit, sweet, subtle, r...</td>\n",
       "      <td>Good</td>\n",
       "      <td>none</td>\n",
       "      <td>0</td>\n",
       "      <td>0</td>\n",
       "      <td>0.0</td>\n",
       "      <td>402</td>\n",
       "    </tr>\n",
       "    <tr>\n",
       "      <th>3</th>\n",
       "      <td>13 Dawgs</td>\n",
       "      <td>4.2</td>\n",
       "      <td>Hybrid</td>\n",
       "      <td>Tingly, Relaxed, Hungry, Creative, Uplifted</td>\n",
       "      <td>Apricot, Grapefruit, Citrus</td>\n",
       "      <td>13 Dawgs is a hybrid of G13 and Chemdawg genet...</td>\n",
       "      <td>lp, strain, woody, balance, delta, sweet, dawg...</td>\n",
       "      <td>[lp, strain, woody, balance, delta, sweet, daw...</td>\n",
       "      <td>Good</td>\n",
       "      <td>potent</td>\n",
       "      <td>2</td>\n",
       "      <td>depression, appetite</td>\n",
       "      <td>2.0</td>\n",
       "      <td>351</td>\n",
       "    </tr>\n",
       "    <tr>\n",
       "      <th>4</th>\n",
       "      <td>24K Gold</td>\n",
       "      <td>4.6</td>\n",
       "      <td>Hybrid</td>\n",
       "      <td>Relaxed, Happy, Talkative, Euphoric, Uplifted</td>\n",
       "      <td>Earthy, Citrus, Orange</td>\n",
       "      <td>Also known as Kosher Tangie, 24k Gold is a 60%...</td>\n",
       "      <td>combine, strong, strain, dominant, cycle, tang...</td>\n",
       "      <td>[combine, strong, strain, dominant, cycle, tan...</td>\n",
       "      <td>Great</td>\n",
       "      <td>none</td>\n",
       "      <td>0</td>\n",
       "      <td>0</td>\n",
       "      <td>0.0</td>\n",
       "      <td>428</td>\n",
       "    </tr>\n",
       "  </tbody>\n",
       "</table>\n",
       "</div>"
      ],
      "text/plain": [
       "           Strain  Rating    Type  \\\n",
       "0          100 Og     4.0  Hybrid   \n",
       "1  98 White Widow     4.7  Hybrid   \n",
       "2            1024     4.4  Sativa   \n",
       "3        13 Dawgs     4.2  Hybrid   \n",
       "4        24K Gold     4.6  Hybrid   \n",
       "\n",
       "                                          Effects  \\\n",
       "0  Tingly, Relaxed, Energetic, Euphoric, Creative   \n",
       "1    Aroused, Relaxed, Energetic, Happy, Creative   \n",
       "2   Relaxed, Energetic, Happy, Creative, Uplifted   \n",
       "3     Tingly, Relaxed, Hungry, Creative, Uplifted   \n",
       "4   Relaxed, Happy, Talkative, Euphoric, Uplifted   \n",
       "\n",
       "                        Flavor  \\\n",
       "0        Earthy, Citrus, Sweet   \n",
       "1      Violet, Flowery, Diesel   \n",
       "2   Herbal, Spicy, Woody, Sage   \n",
       "3  Apricot, Grapefruit, Citrus   \n",
       "4       Earthy, Citrus, Orange   \n",
       "\n",
       "                                         Description  \\\n",
       "0  $100 OG is a 50/50 hybrid strain that packs a ...   \n",
       "1  The ‘98 Aloha White Widow is an especially pot...   \n",
       "2  1024 is a sativa-dominant hybrid bred in Spain...   \n",
       "3  13 Dawgs is a hybrid of G13 and Chemdawg genet...   \n",
       "4  Also known as Kosher Tangie, 24k Gold is a 60%...   \n",
       "\n",
       "                                            FullText  \\\n",
       "0  50/50, strong, strain, pack, tend, 100, show, ...   \n",
       "1  hawaiian, violet, renown, aloha, diesel, rich,...   \n",
       "2  woody, dominant, co., fruit, sweet, subtle, re...   \n",
       "3  lp, strain, woody, balance, delta, sweet, dawg...   \n",
       "4  combine, strong, strain, dominant, cycle, tang...   \n",
       "\n",
       "                                              tokens Rating Category  \\\n",
       "0  [50/50, strong, strain, pack, tend, 100, alert...            Good   \n",
       "1  [hawaiian, violet, renown, aloha, diesel, rich...           Great   \n",
       "2  [woody, dominant, co., fruit, sweet, subtle, r...            Good   \n",
       "3  [lp, strain, woody, balance, delta, sweet, daw...            Good   \n",
       "4  [combine, strong, strain, dominant, cycle, tan...           Great   \n",
       "\n",
       "  Dosage_in_Descrip  Flagged Ailments              Ailments  count_ailments  \\\n",
       "0              none                 1                  pain             1.0   \n",
       "1            potent                 0                     0             0.0   \n",
       "2              none                 0                     0             0.0   \n",
       "3            potent                 2  depression, appetite             2.0   \n",
       "4              none                 0                     0             0.0   \n",
       "\n",
       "   count_text  \n",
       "0         335  \n",
       "1         483  \n",
       "2         402  \n",
       "3         351  \n",
       "4         428  "
      ]
     },
     "execution_count": 21,
     "metadata": {},
     "output_type": "execute_result"
    }
   ],
   "source": [
    "test_df.head()"
   ]
  },
  {
   "cell_type": "code",
   "execution_count": 22,
   "metadata": {},
   "outputs": [
    {
     "data": {
      "text/plain": [
       "'combine, strong, strain, dominant, cycle, tangie, sweet, kush, coloration, 24, talkative, gold, level, offer, novice, flower, exhibit, vape, know, create, kosher, la, experienced, legendary, indica, range, flavor, aroma, citrus, thc, unique, need, sativa, orange, champion, relaxed, definitely, stretchy, dark, vegetative, happy, euphoric, indoors, grow, 60, hand, 18, 24k, tall, smoke, hybrid, phenotype, user, earthy, uplifted'"
      ]
     },
     "execution_count": 22,
     "metadata": {},
     "output_type": "execute_result"
    }
   ],
   "source": [
    "test_df.FullText[4]"
   ]
  },
  {
   "cell_type": "code",
   "execution_count": 23,
   "metadata": {},
   "outputs": [
    {
     "data": {
      "text/html": [
       "<div>\n",
       "<style scoped>\n",
       "    .dataframe tbody tr th:only-of-type {\n",
       "        vertical-align: middle;\n",
       "    }\n",
       "\n",
       "    .dataframe tbody tr th {\n",
       "        vertical-align: top;\n",
       "    }\n",
       "\n",
       "    .dataframe thead th {\n",
       "        text-align: right;\n",
       "    }\n",
       "</style>\n",
       "<table border=\"1\" class=\"dataframe\">\n",
       "  <thead>\n",
       "    <tr style=\"text-align: right;\">\n",
       "      <th></th>\n",
       "      <th>Strain</th>\n",
       "      <th>Rating</th>\n",
       "      <th>Type</th>\n",
       "      <th>Effects</th>\n",
       "      <th>Flavor</th>\n",
       "      <th>Description</th>\n",
       "      <th>FullText</th>\n",
       "      <th>tokens</th>\n",
       "      <th>Rating Category</th>\n",
       "      <th>Dosage_in_Descrip</th>\n",
       "      <th>Flagged Ailments</th>\n",
       "      <th>Ailments</th>\n",
       "      <th>count_ailments</th>\n",
       "      <th>count_text</th>\n",
       "    </tr>\n",
       "  </thead>\n",
       "  <tbody>\n",
       "    <tr>\n",
       "      <th>2346</th>\n",
       "      <td>Zeus Og</td>\n",
       "      <td>4.7</td>\n",
       "      <td>Hybrid</td>\n",
       "      <td>Relaxed, Energetic, Happy, Euphoric, Uplifted</td>\n",
       "      <td>Pine, Earthy, Woody</td>\n",
       "      <td>Zeus OG is a hybrid cross between Pineapple OG...</td>\n",
       "      <td>woody, best, pine, 2014, zeus, take, pineapple...</td>\n",
       "      <td>[woody, good, pine, 2014, zeus, pineapple, gre...</td>\n",
       "      <td>Great</td>\n",
       "      <td>none</td>\n",
       "      <td>0</td>\n",
       "      <td>0</td>\n",
       "      <td>0.0</td>\n",
       "      <td>229</td>\n",
       "    </tr>\n",
       "    <tr>\n",
       "      <th>2347</th>\n",
       "      <td>Zkittlez</td>\n",
       "      <td>4.6</td>\n",
       "      <td>Indica</td>\n",
       "      <td>Relaxed, Happy, Euphoric, Uplifted, Sleepy</td>\n",
       "      <td>Berry, Grape, Sweet</td>\n",
       "      <td>Zkittlez is an indica-dominant mix of Grape Ap...</td>\n",
       "      <td>hue, hogz, 2015, strain, dominant, time, ape, ...</td>\n",
       "      <td>[hue, hogz, 2015, strain, dominant, time, ape,...</td>\n",
       "      <td>Great</td>\n",
       "      <td>none</td>\n",
       "      <td>0</td>\n",
       "      <td>sleep</td>\n",
       "      <td>1.0</td>\n",
       "      <td>497</td>\n",
       "    </tr>\n",
       "    <tr>\n",
       "      <th>2348</th>\n",
       "      <td>Zombie Kush</td>\n",
       "      <td>5.0</td>\n",
       "      <td>Indica</td>\n",
       "      <td>Relaxed, Happy, Talkative, Euphoric, Sleepy</td>\n",
       "      <td>Herbal, Spicy, Earthy, Sweet</td>\n",
       "      <td>Zombie Kush by Ripper Seeds comes from two dif...</td>\n",
       "      <td>hue, sideral, snappy, x, time, zombie, 2017, s...</td>\n",
       "      <td>[hue, sideral, snappy, x, time, zombie, 2017, ...</td>\n",
       "      <td>Great</td>\n",
       "      <td>potent</td>\n",
       "      <td>0</td>\n",
       "      <td>sleep</td>\n",
       "      <td>1.0</td>\n",
       "      <td>431</td>\n",
       "    </tr>\n",
       "    <tr>\n",
       "      <th>2349</th>\n",
       "      <td>Zombie Og</td>\n",
       "      <td>4.4</td>\n",
       "      <td>Indica</td>\n",
       "      <td>Relaxed, Hungry, Happy, Euphoric, Sleepy</td>\n",
       "      <td>Pungent, Earthy, Sweet</td>\n",
       "      <td>If you’re looking to transform into a flesh-ea...</td>\n",
       "      <td>transform, strong, flesh, cold, strain, eat, z...</td>\n",
       "      <td>[transform, strong, flesh, cold, strain, eat, ...</td>\n",
       "      <td>Good</td>\n",
       "      <td>none</td>\n",
       "      <td>1</td>\n",
       "      <td>sleep, pain</td>\n",
       "      <td>2.0</td>\n",
       "      <td>351</td>\n",
       "    </tr>\n",
       "    <tr>\n",
       "      <th>2350</th>\n",
       "      <td>Zoom Pie</td>\n",
       "      <td>4.6</td>\n",
       "      <td>Indica</td>\n",
       "      <td>Relaxed, Hungry, Happy, Uplifted, Sleepy</td>\n",
       "      <td>Pungent, Berry, Earthy</td>\n",
       "      <td>Zoom Pie (also known as Zombie Pie) is a heavy...</td>\n",
       "      <td>skunky, strain, dominant, zoom, stress, discom...</td>\n",
       "      <td>[skunky, strain, dominant, zoom, stress, disco...</td>\n",
       "      <td>Great</td>\n",
       "      <td>potency, dose</td>\n",
       "      <td>3</td>\n",
       "      <td>stress, depression, sleep, appetite</td>\n",
       "      <td>4.0</td>\n",
       "      <td>512</td>\n",
       "    </tr>\n",
       "  </tbody>\n",
       "</table>\n",
       "</div>"
      ],
      "text/plain": [
       "           Strain  Rating    Type  \\\n",
       "2346      Zeus Og     4.7  Hybrid   \n",
       "2347     Zkittlez     4.6  Indica   \n",
       "2348  Zombie Kush     5.0  Indica   \n",
       "2349    Zombie Og     4.4  Indica   \n",
       "2350     Zoom Pie     4.6  Indica   \n",
       "\n",
       "                                            Effects  \\\n",
       "2346  Relaxed, Energetic, Happy, Euphoric, Uplifted   \n",
       "2347     Relaxed, Happy, Euphoric, Uplifted, Sleepy   \n",
       "2348    Relaxed, Happy, Talkative, Euphoric, Sleepy   \n",
       "2349       Relaxed, Hungry, Happy, Euphoric, Sleepy   \n",
       "2350       Relaxed, Hungry, Happy, Uplifted, Sleepy   \n",
       "\n",
       "                            Flavor  \\\n",
       "2346           Pine, Earthy, Woody   \n",
       "2347           Berry, Grape, Sweet   \n",
       "2348  Herbal, Spicy, Earthy, Sweet   \n",
       "2349        Pungent, Earthy, Sweet   \n",
       "2350        Pungent, Berry, Earthy   \n",
       "\n",
       "                                            Description  \\\n",
       "2346  Zeus OG is a hybrid cross between Pineapple OG...   \n",
       "2347  Zkittlez is an indica-dominant mix of Grape Ap...   \n",
       "2348  Zombie Kush by Ripper Seeds comes from two dif...   \n",
       "2349  If you’re looking to transform into a flesh-ea...   \n",
       "2350  Zoom Pie (also known as Zombie Pie) is a heavy...   \n",
       "\n",
       "                                               FullText  \\\n",
       "2346  woody, best, pine, 2014, zeus, take, pineapple...   \n",
       "2347  hue, hogz, 2015, strain, dominant, time, ape, ...   \n",
       "2348  hue, sideral, snappy, x, time, zombie, 2017, s...   \n",
       "2349  transform, strong, flesh, cold, strain, eat, z...   \n",
       "2350  skunky, strain, dominant, zoom, stress, discom...   \n",
       "\n",
       "                                                 tokens Rating Category  \\\n",
       "2346  [woody, good, pine, 2014, zeus, pineapple, gre...           Great   \n",
       "2347  [hue, hogz, 2015, strain, dominant, time, ape,...           Great   \n",
       "2348  [hue, sideral, snappy, x, time, zombie, 2017, ...           Great   \n",
       "2349  [transform, strong, flesh, cold, strain, eat, ...            Good   \n",
       "2350  [skunky, strain, dominant, zoom, stress, disco...           Great   \n",
       "\n",
       "     Dosage_in_Descrip  Flagged Ailments                             Ailments  \\\n",
       "2346              none                 0                                    0   \n",
       "2347              none                 0                                sleep   \n",
       "2348            potent                 0                                sleep   \n",
       "2349              none                 1                          sleep, pain   \n",
       "2350     potency, dose                 3  stress, depression, sleep, appetite   \n",
       "\n",
       "      count_ailments  count_text  \n",
       "2346             0.0         229  \n",
       "2347             1.0         497  \n",
       "2348             1.0         431  \n",
       "2349             2.0         351  \n",
       "2350             4.0         512  "
      ]
     },
     "execution_count": 23,
     "metadata": {},
     "output_type": "execute_result"
    }
   ],
   "source": [
    "test_df.tail()"
   ]
  },
  {
   "cell_type": "code",
   "execution_count": 24,
   "metadata": {},
   "outputs": [
    {
     "data": {
      "text/plain": [
       "'woody, dominant, co., fruit, sweet, subtle, reason, musk, breeder, regardless, note, uplifting, bouquet, specific, seeds, herbal, energetic, mix, flavor, have, fill, thc, spicy, odor, sativa, relaxed, 1024, incense, happy, pungent, creative, effect, guard, similar, produce, genetics, claim, powerhouse, burn, genetic, hybrid, medical, secret, phenotype, room, heritage, security, breed, sage, uplifted'"
      ]
     },
     "execution_count": 24,
     "metadata": {},
     "output_type": "execute_result"
    }
   ],
   "source": [
    "test_df['FullText'][2]"
   ]
  },
  {
   "cell_type": "code",
   "execution_count": 25,
   "metadata": {},
   "outputs": [],
   "source": [
    "import re"
   ]
  },
  {
   "cell_type": "code",
   "execution_count": 26,
   "metadata": {},
   "outputs": [],
   "source": [
    "def remove_data(text):\n",
    "\n",
    "    # remove non-alphanumeric\n",
    "    nonalpha = re.sub(r\"\\b[a-zA-Z]\\b\", \"\", text)\n",
    "    #nonalpha = re.sub('[^1-9]', ' ', text)\n",
    "    # make all text lowercase\n",
    "    \n",
    "    return nonalpha"
   ]
  },
  {
   "cell_type": "code",
   "execution_count": 27,
   "metadata": {},
   "outputs": [],
   "source": [
    "test_df['FullText'] = test_df['FullText'].apply(remove_data)"
   ]
  },
  {
   "cell_type": "code",
   "execution_count": 28,
   "metadata": {},
   "outputs": [],
   "source": [
    "condition = [test_df['FullText'].str.contains(\"dose\"), \n",
    "             test_df['FullText'].str.contains(\"dosage\"),          \n",
    "             test_df['FullText'].str.contains(\"sleep\"),\n",
    "             test_df['FullText'].str.contains(\"anxiety\"),\n",
    "             test_df['FullText'].str.contains(\"appetite\"),\n",
    "             test_df['Rating Category'].str.contains(\"Great\"),\n",
    "             test_df['Dosage_in_Descrip'].str.contains(\"none\"),]\n",
    "             \n",
    "value_dose_basket = ['I', 'I', 'II-III', 'I', 'II', 'I', 'II']\n",
    "test_df['Dosage Size'] = np.select(condition, value_dose_basket, \"None\")                               "
   ]
  },
  {
   "cell_type": "code",
   "execution_count": 29,
   "metadata": {},
   "outputs": [
    {
     "data": {
      "text/plain": [
       "I         836\n",
       "II-III    763\n",
       "II        608\n",
       "None      144\n",
       "Name: Dosage Size, dtype: int64"
      ]
     },
     "execution_count": 29,
     "metadata": {},
     "output_type": "execute_result"
    }
   ],
   "source": [
    "test_df['Dosage Size'].value_counts()"
   ]
  },
  {
   "cell_type": "code",
   "execution_count": 30,
   "metadata": {},
   "outputs": [
    {
     "data": {
      "text/html": [
       "<div>\n",
       "<style scoped>\n",
       "    .dataframe tbody tr th:only-of-type {\n",
       "        vertical-align: middle;\n",
       "    }\n",
       "\n",
       "    .dataframe tbody tr th {\n",
       "        vertical-align: top;\n",
       "    }\n",
       "\n",
       "    .dataframe thead th {\n",
       "        text-align: right;\n",
       "    }\n",
       "</style>\n",
       "<table border=\"1\" class=\"dataframe\">\n",
       "  <thead>\n",
       "    <tr style=\"text-align: right;\">\n",
       "      <th></th>\n",
       "      <th>Strain</th>\n",
       "      <th>Rating</th>\n",
       "      <th>Type</th>\n",
       "      <th>Effects</th>\n",
       "      <th>Flavor</th>\n",
       "      <th>Description</th>\n",
       "      <th>FullText</th>\n",
       "      <th>tokens</th>\n",
       "      <th>Rating Category</th>\n",
       "      <th>Dosage_in_Descrip</th>\n",
       "      <th>Flagged Ailments</th>\n",
       "      <th>Ailments</th>\n",
       "      <th>count_ailments</th>\n",
       "      <th>count_text</th>\n",
       "      <th>Dosage Size</th>\n",
       "    </tr>\n",
       "  </thead>\n",
       "  <tbody>\n",
       "    <tr>\n",
       "      <th>2346</th>\n",
       "      <td>Zeus Og</td>\n",
       "      <td>4.7</td>\n",
       "      <td>Hybrid</td>\n",
       "      <td>Relaxed, Energetic, Happy, Euphoric, Uplifted</td>\n",
       "      <td>Pine, Earthy, Woody</td>\n",
       "      <td>Zeus OG is a hybrid cross between Pineapple OG...</td>\n",
       "      <td>woody, best, pine, 2014, zeus, take, pineapple...</td>\n",
       "      <td>[woody, good, pine, 2014, zeus, pineapple, gre...</td>\n",
       "      <td>Great</td>\n",
       "      <td>none</td>\n",
       "      <td>0</td>\n",
       "      <td>0</td>\n",
       "      <td>0.0</td>\n",
       "      <td>229</td>\n",
       "      <td>I</td>\n",
       "    </tr>\n",
       "    <tr>\n",
       "      <th>2347</th>\n",
       "      <td>Zkittlez</td>\n",
       "      <td>4.6</td>\n",
       "      <td>Indica</td>\n",
       "      <td>Relaxed, Happy, Euphoric, Uplifted, Sleepy</td>\n",
       "      <td>Berry, Grape, Sweet</td>\n",
       "      <td>Zkittlez is an indica-dominant mix of Grape Ap...</td>\n",
       "      <td>hue, hogz, 2015, strain, dominant, time, ape, ...</td>\n",
       "      <td>[hue, hogz, 2015, strain, dominant, time, ape,...</td>\n",
       "      <td>Great</td>\n",
       "      <td>none</td>\n",
       "      <td>0</td>\n",
       "      <td>sleep</td>\n",
       "      <td>1.0</td>\n",
       "      <td>497</td>\n",
       "      <td>II-III</td>\n",
       "    </tr>\n",
       "    <tr>\n",
       "      <th>2348</th>\n",
       "      <td>Zombie Kush</td>\n",
       "      <td>5.0</td>\n",
       "      <td>Indica</td>\n",
       "      <td>Relaxed, Happy, Talkative, Euphoric, Sleepy</td>\n",
       "      <td>Herbal, Spicy, Earthy, Sweet</td>\n",
       "      <td>Zombie Kush by Ripper Seeds comes from two dif...</td>\n",
       "      <td>hue, sideral, snappy, , time, zombie, 2017, sw...</td>\n",
       "      <td>[hue, sideral, snappy, x, time, zombie, 2017, ...</td>\n",
       "      <td>Great</td>\n",
       "      <td>potent</td>\n",
       "      <td>0</td>\n",
       "      <td>sleep</td>\n",
       "      <td>1.0</td>\n",
       "      <td>431</td>\n",
       "      <td>II-III</td>\n",
       "    </tr>\n",
       "    <tr>\n",
       "      <th>2349</th>\n",
       "      <td>Zombie Og</td>\n",
       "      <td>4.4</td>\n",
       "      <td>Indica</td>\n",
       "      <td>Relaxed, Hungry, Happy, Euphoric, Sleepy</td>\n",
       "      <td>Pungent, Earthy, Sweet</td>\n",
       "      <td>If you’re looking to transform into a flesh-ea...</td>\n",
       "      <td>transform, strong, flesh, cold, strain, eat, z...</td>\n",
       "      <td>[transform, strong, flesh, cold, strain, eat, ...</td>\n",
       "      <td>Good</td>\n",
       "      <td>none</td>\n",
       "      <td>1</td>\n",
       "      <td>sleep, pain</td>\n",
       "      <td>2.0</td>\n",
       "      <td>351</td>\n",
       "      <td>II-III</td>\n",
       "    </tr>\n",
       "    <tr>\n",
       "      <th>2350</th>\n",
       "      <td>Zoom Pie</td>\n",
       "      <td>4.6</td>\n",
       "      <td>Indica</td>\n",
       "      <td>Relaxed, Hungry, Happy, Uplifted, Sleepy</td>\n",
       "      <td>Pungent, Berry, Earthy</td>\n",
       "      <td>Zoom Pie (also known as Zombie Pie) is a heavy...</td>\n",
       "      <td>skunky, strain, dominant, zoom, stress, discom...</td>\n",
       "      <td>[skunky, strain, dominant, zoom, stress, disco...</td>\n",
       "      <td>Great</td>\n",
       "      <td>potency, dose</td>\n",
       "      <td>3</td>\n",
       "      <td>stress, depression, sleep, appetite</td>\n",
       "      <td>4.0</td>\n",
       "      <td>512</td>\n",
       "      <td>I</td>\n",
       "    </tr>\n",
       "  </tbody>\n",
       "</table>\n",
       "</div>"
      ],
      "text/plain": [
       "           Strain  Rating    Type  \\\n",
       "2346      Zeus Og     4.7  Hybrid   \n",
       "2347     Zkittlez     4.6  Indica   \n",
       "2348  Zombie Kush     5.0  Indica   \n",
       "2349    Zombie Og     4.4  Indica   \n",
       "2350     Zoom Pie     4.6  Indica   \n",
       "\n",
       "                                            Effects  \\\n",
       "2346  Relaxed, Energetic, Happy, Euphoric, Uplifted   \n",
       "2347     Relaxed, Happy, Euphoric, Uplifted, Sleepy   \n",
       "2348    Relaxed, Happy, Talkative, Euphoric, Sleepy   \n",
       "2349       Relaxed, Hungry, Happy, Euphoric, Sleepy   \n",
       "2350       Relaxed, Hungry, Happy, Uplifted, Sleepy   \n",
       "\n",
       "                            Flavor  \\\n",
       "2346           Pine, Earthy, Woody   \n",
       "2347           Berry, Grape, Sweet   \n",
       "2348  Herbal, Spicy, Earthy, Sweet   \n",
       "2349        Pungent, Earthy, Sweet   \n",
       "2350        Pungent, Berry, Earthy   \n",
       "\n",
       "                                            Description  \\\n",
       "2346  Zeus OG is a hybrid cross between Pineapple OG...   \n",
       "2347  Zkittlez is an indica-dominant mix of Grape Ap...   \n",
       "2348  Zombie Kush by Ripper Seeds comes from two dif...   \n",
       "2349  If you’re looking to transform into a flesh-ea...   \n",
       "2350  Zoom Pie (also known as Zombie Pie) is a heavy...   \n",
       "\n",
       "                                               FullText  \\\n",
       "2346  woody, best, pine, 2014, zeus, take, pineapple...   \n",
       "2347  hue, hogz, 2015, strain, dominant, time, ape, ...   \n",
       "2348  hue, sideral, snappy, , time, zombie, 2017, sw...   \n",
       "2349  transform, strong, flesh, cold, strain, eat, z...   \n",
       "2350  skunky, strain, dominant, zoom, stress, discom...   \n",
       "\n",
       "                                                 tokens Rating Category  \\\n",
       "2346  [woody, good, pine, 2014, zeus, pineapple, gre...           Great   \n",
       "2347  [hue, hogz, 2015, strain, dominant, time, ape,...           Great   \n",
       "2348  [hue, sideral, snappy, x, time, zombie, 2017, ...           Great   \n",
       "2349  [transform, strong, flesh, cold, strain, eat, ...            Good   \n",
       "2350  [skunky, strain, dominant, zoom, stress, disco...           Great   \n",
       "\n",
       "     Dosage_in_Descrip  Flagged Ailments                             Ailments  \\\n",
       "2346              none                 0                                    0   \n",
       "2347              none                 0                                sleep   \n",
       "2348            potent                 0                                sleep   \n",
       "2349              none                 1                          sleep, pain   \n",
       "2350     potency, dose                 3  stress, depression, sleep, appetite   \n",
       "\n",
       "      count_ailments  count_text Dosage Size  \n",
       "2346             0.0         229           I  \n",
       "2347             1.0         497      II-III  \n",
       "2348             1.0         431      II-III  \n",
       "2349             2.0         351      II-III  \n",
       "2350             4.0         512           I  "
      ]
     },
     "execution_count": 30,
     "metadata": {},
     "output_type": "execute_result"
    }
   ],
   "source": [
    "test_df.tail()"
   ]
  },
  {
   "cell_type": "code",
   "execution_count": 31,
   "metadata": {},
   "outputs": [
    {
     "data": {
      "text/plain": [
       "I         836\n",
       "II-III    763\n",
       "II        608\n",
       "None      144\n",
       "Name: Dosage Size, dtype: int64"
      ]
     },
     "execution_count": 31,
     "metadata": {},
     "output_type": "execute_result"
    }
   ],
   "source": [
    "test_df['Dosage Size'].value_counts()"
   ]
  },
  {
   "cell_type": "code",
   "execution_count": 32,
   "metadata": {
    "colab": {
     "base_uri": "https://localhost:8080/",
     "height": 175
    },
    "id": "6V-Lj0os_Sw5",
    "outputId": "2d76e50d-6a98-41af-de8e-ad3fcf3bceb7"
   },
   "outputs": [
    {
     "data": {
      "text/html": [
       "<div>\n",
       "<style scoped>\n",
       "    .dataframe tbody tr th:only-of-type {\n",
       "        vertical-align: middle;\n",
       "    }\n",
       "\n",
       "    .dataframe tbody tr th {\n",
       "        vertical-align: top;\n",
       "    }\n",
       "\n",
       "    .dataframe thead th {\n",
       "        text-align: right;\n",
       "    }\n",
       "</style>\n",
       "<table border=\"1\" class=\"dataframe\">\n",
       "  <thead>\n",
       "    <tr style=\"text-align: right;\">\n",
       "      <th></th>\n",
       "      <th>Rating</th>\n",
       "      <th>Flagged Ailments</th>\n",
       "      <th>count_ailments</th>\n",
       "      <th>count_text</th>\n",
       "    </tr>\n",
       "  </thead>\n",
       "  <tbody>\n",
       "    <tr>\n",
       "      <th>Rating</th>\n",
       "      <td>1.000000</td>\n",
       "      <td>0.055134</td>\n",
       "      <td>0.082938</td>\n",
       "      <td>0.117640</td>\n",
       "    </tr>\n",
       "    <tr>\n",
       "      <th>Flagged Ailments</th>\n",
       "      <td>0.055134</td>\n",
       "      <td>1.000000</td>\n",
       "      <td>0.922214</td>\n",
       "      <td>0.269000</td>\n",
       "    </tr>\n",
       "    <tr>\n",
       "      <th>count_ailments</th>\n",
       "      <td>0.082938</td>\n",
       "      <td>0.922214</td>\n",
       "      <td>1.000000</td>\n",
       "      <td>0.257817</td>\n",
       "    </tr>\n",
       "    <tr>\n",
       "      <th>count_text</th>\n",
       "      <td>0.117640</td>\n",
       "      <td>0.269000</td>\n",
       "      <td>0.257817</td>\n",
       "      <td>1.000000</td>\n",
       "    </tr>\n",
       "  </tbody>\n",
       "</table>\n",
       "</div>"
      ],
      "text/plain": [
       "                    Rating  Flagged Ailments  count_ailments  count_text\n",
       "Rating            1.000000          0.055134        0.082938    0.117640\n",
       "Flagged Ailments  0.055134          1.000000        0.922214    0.269000\n",
       "count_ailments    0.082938          0.922214        1.000000    0.257817\n",
       "count_text        0.117640          0.269000        0.257817    1.000000"
      ]
     },
     "execution_count": 32,
     "metadata": {},
     "output_type": "execute_result"
    }
   ],
   "source": [
    "test_df.corr()"
   ]
  },
  {
   "cell_type": "code",
   "execution_count": 33,
   "metadata": {},
   "outputs": [
    {
     "data": {
      "text/html": [
       "<div>\n",
       "<style scoped>\n",
       "    .dataframe tbody tr th:only-of-type {\n",
       "        vertical-align: middle;\n",
       "    }\n",
       "\n",
       "    .dataframe tbody tr th {\n",
       "        vertical-align: top;\n",
       "    }\n",
       "\n",
       "    .dataframe thead th {\n",
       "        text-align: right;\n",
       "    }\n",
       "</style>\n",
       "<table border=\"1\" class=\"dataframe\">\n",
       "  <thead>\n",
       "    <tr style=\"text-align: right;\">\n",
       "      <th></th>\n",
       "      <th>Strain</th>\n",
       "      <th>Rating</th>\n",
       "      <th>Type</th>\n",
       "      <th>Effects</th>\n",
       "      <th>Flavor</th>\n",
       "      <th>Description</th>\n",
       "      <th>FullText</th>\n",
       "      <th>tokens</th>\n",
       "      <th>Rating Category</th>\n",
       "      <th>Dosage_in_Descrip</th>\n",
       "      <th>Flagged Ailments</th>\n",
       "      <th>Ailments</th>\n",
       "      <th>count_ailments</th>\n",
       "      <th>count_text</th>\n",
       "      <th>Dosage Size</th>\n",
       "    </tr>\n",
       "  </thead>\n",
       "  <tbody>\n",
       "    <tr>\n",
       "      <th>0</th>\n",
       "      <td>100 Og</td>\n",
       "      <td>4.0</td>\n",
       "      <td>Hybrid</td>\n",
       "      <td>Tingly, Relaxed, Energetic, Euphoric, Creative</td>\n",
       "      <td>Earthy, Citrus, Sweet</td>\n",
       "      <td>$100 OG is a 50/50 hybrid strain that packs a ...</td>\n",
       "      <td>50/50, strong, strain, pack, tend, 100, show, ...</td>\n",
       "      <td>[50/50, strong, strain, pack, tend, 100, alert...</td>\n",
       "      <td>Good</td>\n",
       "      <td>none</td>\n",
       "      <td>1</td>\n",
       "      <td>pain</td>\n",
       "      <td>1.0</td>\n",
       "      <td>335</td>\n",
       "      <td>II</td>\n",
       "    </tr>\n",
       "    <tr>\n",
       "      <th>1</th>\n",
       "      <td>98 White Widow</td>\n",
       "      <td>4.7</td>\n",
       "      <td>Hybrid</td>\n",
       "      <td>Aroused, Relaxed, Energetic, Happy, Creative</td>\n",
       "      <td>Violet, Flowery, Diesel</td>\n",
       "      <td>The ‘98 Aloha White Widow is an especially pot...</td>\n",
       "      <td>hawaiian, violet, renown, aloha, diesel, rich,...</td>\n",
       "      <td>[hawaiian, violet, renown, aloha, diesel, rich...</td>\n",
       "      <td>Great</td>\n",
       "      <td>potent</td>\n",
       "      <td>0</td>\n",
       "      <td>0</td>\n",
       "      <td>0.0</td>\n",
       "      <td>483</td>\n",
       "      <td>I</td>\n",
       "    </tr>\n",
       "    <tr>\n",
       "      <th>2</th>\n",
       "      <td>1024</td>\n",
       "      <td>4.4</td>\n",
       "      <td>Sativa</td>\n",
       "      <td>Relaxed, Energetic, Happy, Creative, Uplifted</td>\n",
       "      <td>Herbal, Spicy, Woody, Sage</td>\n",
       "      <td>1024 is a sativa-dominant hybrid bred in Spain...</td>\n",
       "      <td>woody, dominant, co., fruit, sweet, subtle, re...</td>\n",
       "      <td>[woody, dominant, co., fruit, sweet, subtle, r...</td>\n",
       "      <td>Good</td>\n",
       "      <td>none</td>\n",
       "      <td>0</td>\n",
       "      <td>0</td>\n",
       "      <td>0.0</td>\n",
       "      <td>402</td>\n",
       "      <td>II</td>\n",
       "    </tr>\n",
       "    <tr>\n",
       "      <th>3</th>\n",
       "      <td>13 Dawgs</td>\n",
       "      <td>4.2</td>\n",
       "      <td>Hybrid</td>\n",
       "      <td>Tingly, Relaxed, Hungry, Creative, Uplifted</td>\n",
       "      <td>Apricot, Grapefruit, Citrus</td>\n",
       "      <td>13 Dawgs is a hybrid of G13 and Chemdawg genet...</td>\n",
       "      <td>lp, strain, woody, balance, delta, sweet, dawg...</td>\n",
       "      <td>[lp, strain, woody, balance, delta, sweet, daw...</td>\n",
       "      <td>Good</td>\n",
       "      <td>potent</td>\n",
       "      <td>2</td>\n",
       "      <td>depression, appetite</td>\n",
       "      <td>2.0</td>\n",
       "      <td>351</td>\n",
       "      <td>II</td>\n",
       "    </tr>\n",
       "    <tr>\n",
       "      <th>4</th>\n",
       "      <td>24K Gold</td>\n",
       "      <td>4.6</td>\n",
       "      <td>Hybrid</td>\n",
       "      <td>Relaxed, Happy, Talkative, Euphoric, Uplifted</td>\n",
       "      <td>Earthy, Citrus, Orange</td>\n",
       "      <td>Also known as Kosher Tangie, 24k Gold is a 60%...</td>\n",
       "      <td>combine, strong, strain, dominant, cycle, tang...</td>\n",
       "      <td>[combine, strong, strain, dominant, cycle, tan...</td>\n",
       "      <td>Great</td>\n",
       "      <td>none</td>\n",
       "      <td>0</td>\n",
       "      <td>0</td>\n",
       "      <td>0.0</td>\n",
       "      <td>428</td>\n",
       "      <td>I</td>\n",
       "    </tr>\n",
       "  </tbody>\n",
       "</table>\n",
       "</div>"
      ],
      "text/plain": [
       "           Strain  Rating    Type  \\\n",
       "0          100 Og     4.0  Hybrid   \n",
       "1  98 White Widow     4.7  Hybrid   \n",
       "2            1024     4.4  Sativa   \n",
       "3        13 Dawgs     4.2  Hybrid   \n",
       "4        24K Gold     4.6  Hybrid   \n",
       "\n",
       "                                          Effects  \\\n",
       "0  Tingly, Relaxed, Energetic, Euphoric, Creative   \n",
       "1    Aroused, Relaxed, Energetic, Happy, Creative   \n",
       "2   Relaxed, Energetic, Happy, Creative, Uplifted   \n",
       "3     Tingly, Relaxed, Hungry, Creative, Uplifted   \n",
       "4   Relaxed, Happy, Talkative, Euphoric, Uplifted   \n",
       "\n",
       "                        Flavor  \\\n",
       "0        Earthy, Citrus, Sweet   \n",
       "1      Violet, Flowery, Diesel   \n",
       "2   Herbal, Spicy, Woody, Sage   \n",
       "3  Apricot, Grapefruit, Citrus   \n",
       "4       Earthy, Citrus, Orange   \n",
       "\n",
       "                                         Description  \\\n",
       "0  $100 OG is a 50/50 hybrid strain that packs a ...   \n",
       "1  The ‘98 Aloha White Widow is an especially pot...   \n",
       "2  1024 is a sativa-dominant hybrid bred in Spain...   \n",
       "3  13 Dawgs is a hybrid of G13 and Chemdawg genet...   \n",
       "4  Also known as Kosher Tangie, 24k Gold is a 60%...   \n",
       "\n",
       "                                            FullText  \\\n",
       "0  50/50, strong, strain, pack, tend, 100, show, ...   \n",
       "1  hawaiian, violet, renown, aloha, diesel, rich,...   \n",
       "2  woody, dominant, co., fruit, sweet, subtle, re...   \n",
       "3  lp, strain, woody, balance, delta, sweet, dawg...   \n",
       "4  combine, strong, strain, dominant, cycle, tang...   \n",
       "\n",
       "                                              tokens Rating Category  \\\n",
       "0  [50/50, strong, strain, pack, tend, 100, alert...            Good   \n",
       "1  [hawaiian, violet, renown, aloha, diesel, rich...           Great   \n",
       "2  [woody, dominant, co., fruit, sweet, subtle, r...            Good   \n",
       "3  [lp, strain, woody, balance, delta, sweet, daw...            Good   \n",
       "4  [combine, strong, strain, dominant, cycle, tan...           Great   \n",
       "\n",
       "  Dosage_in_Descrip  Flagged Ailments              Ailments  count_ailments  \\\n",
       "0              none                 1                  pain             1.0   \n",
       "1            potent                 0                     0             0.0   \n",
       "2              none                 0                     0             0.0   \n",
       "3            potent                 2  depression, appetite             2.0   \n",
       "4              none                 0                     0             0.0   \n",
       "\n",
       "   count_text Dosage Size  \n",
       "0         335          II  \n",
       "1         483           I  \n",
       "2         402          II  \n",
       "3         351          II  \n",
       "4         428           I  "
      ]
     },
     "execution_count": 33,
     "metadata": {},
     "output_type": "execute_result"
    }
   ],
   "source": [
    "test_df.head()"
   ]
  },
  {
   "cell_type": "code",
   "execution_count": 34,
   "metadata": {},
   "outputs": [
    {
     "data": {
      "text/plain": [
       "none                       1713\n",
       "potent                      356\n",
       "potency                     141\n",
       "dose                         49\n",
       "dosage                       22\n",
       "potent, potency              21\n",
       "potent, dose                 16\n",
       "potent, dosage                8\n",
       "potent, potent                6\n",
       "potency, dose                 6\n",
       "potency, potent               4\n",
       "potency, dosage               3\n",
       "potent, potency, dosage       2\n",
       "potent, potent, dose          1\n",
       "dose, dosage                  1\n",
       "dosage, dose                  1\n",
       "potent, potent, dosage        1\n",
       "Name: Dosage_in_Descrip, dtype: int64"
      ]
     },
     "execution_count": 34,
     "metadata": {},
     "output_type": "execute_result"
    }
   ],
   "source": [
    "test_df['Dosage_in_Descrip'].value_counts()"
   ]
  },
  {
   "cell_type": "code",
   "execution_count": 35,
   "metadata": {},
   "outputs": [],
   "source": [
    "# dosage_df = dosage_df.sort_values(by=['Rating'], ascending=False)\n",
    "# dosage_df.reset_index(inplace=True, drop=True)\n",
    "# dosage_df.head()"
   ]
  },
  {
   "cell_type": "code",
   "execution_count": 36,
   "metadata": {
    "colab": {
     "base_uri": "https://localhost:8080/",
     "height": 573
    },
    "id": "OsfAVMhYiq6C",
    "outputId": "0157ecc1-7ea8-408f-a50e-68867ff6b296"
   },
   "outputs": [],
   "source": [
    "# dosage_df.tail()"
   ]
  },
  {
   "cell_type": "code",
   "execution_count": 37,
   "metadata": {
    "colab": {
     "base_uri": "https://localhost:8080/",
     "height": 1000
    },
    "id": "f_rthNbxJXOH",
    "outputId": "53eb08d7-8387-401b-8284-3a187fdfc363"
   },
   "outputs": [],
   "source": [
    "# dosage_df['Description'][100]"
   ]
  },
  {
   "cell_type": "code",
   "execution_count": 38,
   "metadata": {
    "colab": {
     "base_uri": "https://localhost:8080/"
    },
    "id": "Q_MtSJu2Ot_N",
    "outputId": "95582747-2177-4cc6-8690-449a6c9c584f"
   },
   "outputs": [
    {
     "data": {
      "text/plain": [
       "True     1499\n",
       "False     852\n",
       "Name: comparison_column, dtype: int64"
      ]
     },
     "execution_count": 38,
     "metadata": {},
     "output_type": "execute_result"
    }
   ],
   "source": [
    "test_df['comparison_column'] = np.where(test_df[\"Flagged Ailments\"] == test_df[\"count_ailments\"], True, False)\n",
    "# test_df['comparison_column'].tail(30)\n",
    "\n",
    "test_df['comparison_column'].value_counts()\n",
    "\n",
    "# test_df.tail()"
   ]
  },
  {
   "cell_type": "code",
   "execution_count": 39,
   "metadata": {
    "colab": {
     "base_uri": "https://localhost:8080/"
    },
    "id": "R2FvKWmrQaEE",
    "outputId": "0011cc70-a04f-4f36-960d-cd805ef26f9d"
   },
   "outputs": [
    {
     "data": {
      "text/plain": [
       "['strain',\n",
       " 'dominant',\n",
       " 'organiks',\n",
       " 'aka',\n",
       " 'rare',\n",
       " 'inferno',\n",
       " 'pine',\n",
       " 'day',\n",
       " 'potent',\n",
       " 'end',\n",
       " 'note',\n",
       " 'earth',\n",
       " 'open',\n",
       " 'cruz',\n",
       " 'cross',\n",
       " 'border',\n",
       " 'create',\n",
       " 'coast',\n",
       " 'know',\n",
       " 'enjoy',\n",
       " 'reach',\n",
       " 'indica',\n",
       " 'heavyweight',\n",
       " 'flavor',\n",
       " '30',\n",
       " 'aroma',\n",
       " 'fuel',\n",
       " 'especially',\n",
       " 'sleepy',\n",
       " 'f1',\n",
       " 'mainstay',\n",
       " 'continue',\n",
       " 'consumption',\n",
       " 'thc',\n",
       " 'pure',\n",
       " 'consumer',\n",
       " '831',\n",
       " 'deep',\n",
       " 'sfv',\n",
       " 'combination',\n",
       " 'lemon',\n",
       " 'santa',\n",
       " 'imbue',\n",
       " 'near',\n",
       " 'relaxation',\n",
       " 'og',\n",
       " 'west',\n",
       " 'cut',\n",
       " 'develop',\n",
       " 'beware']"
      ]
     },
     "execution_count": 39,
     "metadata": {},
     "output_type": "execute_result"
    }
   ],
   "source": [
    "test_df['tokens'][16]"
   ]
  },
  {
   "cell_type": "code",
   "execution_count": 40,
   "metadata": {
    "colab": {
     "base_uri": "https://localhost:8080/",
     "height": 110
    },
    "id": "lpV-M--oR83g",
    "outputId": "b0a70fc8-04e8-4f3f-ef97-fa06398b0b4c"
   },
   "outputs": [
    {
     "data": {
      "text/plain": [
       "'Zkittlez is an indica-dominant mix of Grape Ape and Grapefruit that is crossed with another undisclosed strain to produce this candy-flavored cannabis bred by 3rd Gen Family and Terp Hogz. This award-winning combination took 1st Place at the 2016 Emerald Cup and\\xa01st Place Indica at the 2015 Cannabis Cups in San Francisco and in Michigan. The chunky colas explode in a spectrum of light green hues and emit a sweet, tropical blend of fruit flavors. The effects of Zkittlez are surprisingly uplifting for an indica, leaving consumers focused, alert, and happy while relaxing the body to help unwind any time of day.'"
      ]
     },
     "execution_count": 40,
     "metadata": {},
     "output_type": "execute_result"
    }
   ],
   "source": [
    "test_df['Description'][2347]"
   ]
  },
  {
   "cell_type": "code",
   "execution_count": 41,
   "metadata": {
    "colab": {
     "base_uri": "https://localhost:8080/"
    },
    "id": "7ucO13ia1C9U",
    "outputId": "254c7f14-2f83-44ed-d2b9-95cfe84eec6b"
   },
   "outputs": [
    {
     "data": {
      "text/plain": [
       "nausea, cancer, insomnia                                1\n",
       "glaucoma, migraine, depression, inflammation, adhd      1\n",
       "appetite, stress                                        1\n",
       "stress, weight, appetite, anxiety                       1\n",
       "migraine, sleep, inflammation, pain, appetite           1\n",
       "                                                     ... \n",
       "sleep, pain                                            46\n",
       "pain                                                   69\n",
       "stress                                                 83\n",
       "sleep                                                 356\n",
       "0                                                     883\n",
       "Name: Ailments, Length: 395, dtype: int64"
      ]
     },
     "execution_count": 41,
     "metadata": {},
     "output_type": "execute_result"
    }
   ],
   "source": [
    "test_df['Ailments'].value_counts(ascending=True)\n"
   ]
  },
  {
   "cell_type": "code",
   "execution_count": 42,
   "metadata": {
    "colab": {
     "base_uri": "https://localhost:8080/"
    },
    "id": "nqbOSA8PiZAA",
    "outputId": "abc0207d-14c4-4cba-d6a5-c6af76f9f6b3"
   },
   "outputs": [
    {
     "name": "stdout",
     "output_type": "stream",
     "text": [
      "Stop Here!\n"
     ]
    }
   ],
   "source": [
    "print(\"Stop Here!\")"
   ]
  },
  {
   "cell_type": "code",
   "execution_count": 43,
   "metadata": {
    "id": "pKBGULQHAep1"
   },
   "outputs": [],
   "source": [
    "good = test_df['Rating'] >= 4.3\n",
    "\n",
    "good_df = test_df[good]\n",
    "bad_df = test_df[~good]"
   ]
  },
  {
   "cell_type": "code",
   "execution_count": 44,
   "metadata": {
    "colab": {
     "base_uri": "https://localhost:8080/"
    },
    "id": "2EDmH3GRCmBF",
    "outputId": "eb717066-49d2-4a33-c067-42cd64adc25b"
   },
   "outputs": [
    {
     "name": "stdout",
     "output_type": "stream",
     "text": [
      "(1732, 16)\n"
     ]
    }
   ],
   "source": [
    "print(good_df.shape)\n",
    "# good_df.head()"
   ]
  },
  {
   "cell_type": "code",
   "execution_count": 45,
   "metadata": {
    "colab": {
     "base_uri": "https://localhost:8080/"
    },
    "id": "CWlKckilCqmB",
    "outputId": "d0003126-d76c-4274-b80b-842fa8bc8be4"
   },
   "outputs": [
    {
     "name": "stdout",
     "output_type": "stream",
     "text": [
      "(619, 16)\n"
     ]
    }
   ],
   "source": [
    "print(bad_df.shape)\n",
    "# bad_df.head()"
   ]
  },
  {
   "cell_type": "code",
   "execution_count": 46,
   "metadata": {
    "colab": {
     "base_uri": "https://localhost:8080/"
    },
    "id": "4GeFHOumGHbB",
    "outputId": "668b7702-4024-45f5-a0cf-49a1155cd73d"
   },
   "outputs": [
    {
     "data": {
      "text/plain": [
       "[('happy', 1470),\n",
       " ('strain', 1385),\n",
       " ('relaxed', 1309),\n",
       " ('euphoric', 1299),\n",
       " ('uplifted', 1175),\n",
       " ('sweet', 1062),\n",
       " ('hybrid', 1055),\n",
       " ('effect', 970),\n",
       " ('earthy', 931),\n",
       " ('indica', 868),\n",
       " ('cross', 789),\n",
       " ('aroma', 723),\n",
       " ('dominant', 711),\n",
       " ('sativa', 653),\n",
       " ('creative', 625),\n",
       " ('sleepy', 562),\n",
       " ('body', 534),\n",
       " ('flavor', 528),\n",
       " ('citrus', 517),\n",
       " ('energetic', 504)]"
      ]
     },
     "execution_count": 46,
     "metadata": {},
     "output_type": "execute_result"
    }
   ],
   "source": [
    "from collections import Counter\n",
    "\n",
    "good = good_df.copy()\n",
    "# The object `Counter` takes an iterable, but you can instaniate an empty one and update it. \n",
    "good_word_counts = Counter()\n",
    "\n",
    "# Update it based on a split of each of our documents\n",
    "good[\"word_count\"] = good['tokens'].apply(lambda tokens: good_word_counts.update(tokens))\n",
    "\n",
    "# Print out the 10 most common words\n",
    "good_word_counts.most_common(20)"
   ]
  },
  {
   "cell_type": "code",
   "execution_count": 47,
   "metadata": {
    "colab": {
     "base_uri": "https://localhost:8080/"
    },
    "id": "BmVH51I3FFGI",
    "outputId": "459390e3-c817-4a1d-a135-8422dad70a75"
   },
   "outputs": [
    {
     "data": {
      "text/plain": [
       "[('strain', 461),\n",
       " ('happy', 422),\n",
       " ('relaxed', 387),\n",
       " ('euphoric', 382),\n",
       " ('hybrid', 375),\n",
       " ('uplifted', 344),\n",
       " ('sweet', 338),\n",
       " ('effect', 335),\n",
       " ('earthy', 319),\n",
       " ('indica', 300),\n",
       " ('cross', 275),\n",
       " ('sativa', 238),\n",
       " ('aroma', 231),\n",
       " ('dominant', 214),\n",
       " ('creative', 197),\n",
       " ('seed', 192),\n",
       " ('sleepy', 184),\n",
       " ('energetic', 183),\n",
       " ('flower', 181),\n",
       " ('citrus', 178)]"
      ]
     },
     "execution_count": 47,
     "metadata": {},
     "output_type": "execute_result"
    }
   ],
   "source": [
    "from collections import Counter\n",
    "bad = bad_df.copy()\n",
    "# The object `Counter` takes an iterable, but you can instaniate an empty one and update it. \n",
    "bad_word_counts = Counter()\n",
    "\n",
    "# Update it based on a split of each of our documents\n",
    "bad[\"word_count\"] = bad['tokens'].apply(lambda tokens: bad_word_counts.update(tokens))\n",
    "\n",
    "# Print out the 10 most common words\n",
    "bad_word_counts.most_common(20)"
   ]
  },
  {
   "cell_type": "code",
   "execution_count": 48,
   "metadata": {
    "id": "Oj6a_cAVbafm"
   },
   "outputs": [],
   "source": [
    "def count(docs):\n",
    "  \"\"\"\n",
    "  Calculates some basic statistics about tokens in our corpus (i.e. corpus means collections text data)\n",
    "  \"\"\"\n",
    "\n",
    "  word_counts = Counter()\n",
    "  appears_in = Counter()\n",
    "\n",
    "  total_docs = len(docs)\n",
    "\n",
    "  for doc in docs:\n",
    "      word_counts.update(doc)\n",
    "      appears_in.update(set(doc))\n",
    "\n",
    "  temp = zip(word_counts.keys(), word_counts.values())\n",
    "\n",
    "  wc = pd.DataFrame(temp, columns = ['word', 'count'])\n",
    "\n",
    "  wc['rank'] = wc['count'].rank(method='first', ascending=False)\n",
    "  total = wc['count'].sum()\n",
    "\n",
    "  wc['pct_total'] = wc['count'].apply(lambda x: x / total)\n",
    "\n",
    "  wc = wc.sort_values(by='rank')\n",
    "  wc['cul_pct_total'] = wc['pct_total'].cumsum()\n",
    "\n",
    "  t2 = zip(appears_in.keys(), appears_in.values())\n",
    "  ac = pd.DataFrame(t2, columns=['word', 'appears_in'])\n",
    "  wc = ac.merge(wc, on='word')\n",
    "\n",
    "  wc['appears_in_pct'] = wc['appears_in'].apply(lambda x: x / total_docs)\n",
    "\n",
    "  return wc.sort_values(by='rank')"
   ]
  },
  {
   "cell_type": "code",
   "execution_count": 49,
   "metadata": {
    "id": "cSNgTfcfGDgF"
   },
   "outputs": [],
   "source": [
    "wc_good = count(good['tokens'])\n",
    "wc_bad = count(bad['tokens'])"
   ]
  },
  {
   "cell_type": "code",
   "execution_count": 50,
   "metadata": {
    "colab": {
     "base_uri": "https://localhost:8080/"
    },
    "id": "wWjXgoULGyt6",
    "outputId": "21a285c4-bd3e-4f4c-994e-c0bbf78d01bc"
   },
   "outputs": [
    {
     "data": {
      "text/plain": [
       "Index(['word', 'appears_in_bad', 'count_bad', 'rank_bad', 'pct_total_bad',\n",
       "       'cul_pct_total_bad', 'appears_in_pct_bad'],\n",
       "      dtype='object')"
      ]
     },
     "execution_count": 50,
     "metadata": {},
     "output_type": "execute_result"
    }
   ],
   "source": [
    "wc_bad.columns = ['word','appears_in_bad','count_bad','rank_bad','pct_total_bad','cul_pct_total_bad','appears_in_pct_bad']\n",
    "wc_bad.columns"
   ]
  },
  {
   "cell_type": "code",
   "execution_count": 51,
   "metadata": {
    "id": "tGyCVTQVHKFr"
   },
   "outputs": [],
   "source": [
    "wc_total_2 = pd.merge(wc_good, wc_bad, how = 'outer', on='word')"
   ]
  },
  {
   "cell_type": "code",
   "execution_count": 52,
   "metadata": {
    "id": "0NJKrt3aHOzE"
   },
   "outputs": [],
   "source": [
    "wc_total_2 = wc_total_2.fillna(value = 0)"
   ]
  },
  {
   "cell_type": "code",
   "execution_count": 53,
   "metadata": {
    "id": "N-mwTTUcHR8f"
   },
   "outputs": [],
   "source": [
    "wc_total_2['difference'] = abs(wc_total_2['appears_in_pct'] - wc_total_2['appears_in_pct_bad'])\n",
    "wc_total_2 = wc_total_2.sort_values(by='difference')"
   ]
  },
  {
   "cell_type": "code",
   "execution_count": 54,
   "metadata": {
    "id": "74gmg0_1Hmpp"
   },
   "outputs": [],
   "source": [
    "worst_ten_words = wc_total_2.head(10).reset_index()\n",
    "best_ten_words = wc_total_2.tail(10).reset_index()"
   ]
  },
  {
   "cell_type": "code",
   "execution_count": 55,
   "metadata": {
    "colab": {
     "base_uri": "https://localhost:8080/",
     "height": 383
    },
    "id": "DBcN99fRHo78",
    "outputId": "5205e068-dff3-4964-a9dc-c41f68622482"
   },
   "outputs": [
    {
     "data": {
      "text/html": [
       "<div>\n",
       "<style scoped>\n",
       "    .dataframe tbody tr th:only-of-type {\n",
       "        vertical-align: middle;\n",
       "    }\n",
       "\n",
       "    .dataframe tbody tr th {\n",
       "        vertical-align: top;\n",
       "    }\n",
       "\n",
       "    .dataframe thead th {\n",
       "        text-align: right;\n",
       "    }\n",
       "</style>\n",
       "<table border=\"1\" class=\"dataframe\">\n",
       "  <thead>\n",
       "    <tr style=\"text-align: right;\">\n",
       "      <th></th>\n",
       "      <th>word</th>\n",
       "      <th>appears_in</th>\n",
       "      <th>count</th>\n",
       "      <th>rank</th>\n",
       "      <th>pct_total</th>\n",
       "      <th>cul_pct_total</th>\n",
       "      <th>appears_in_pct</th>\n",
       "      <th>appears_in_bad</th>\n",
       "      <th>count_bad</th>\n",
       "      <th>rank_bad</th>\n",
       "      <th>pct_total_bad</th>\n",
       "      <th>cul_pct_total_bad</th>\n",
       "      <th>appears_in_pct_bad</th>\n",
       "      <th>difference</th>\n",
       "    </tr>\n",
       "  </thead>\n",
       "  <tbody>\n",
       "    <tr>\n",
       "      <th>0</th>\n",
       "      <td>buddha</td>\n",
       "      <td>14.0</td>\n",
       "      <td>14.0</td>\n",
       "      <td>860.0</td>\n",
       "      <td>0.000170</td>\n",
       "      <td>0.820438</td>\n",
       "      <td>0.008083</td>\n",
       "      <td>5.0</td>\n",
       "      <td>5.0</td>\n",
       "      <td>805.0</td>\n",
       "      <td>0.000186</td>\n",
       "      <td>0.822728</td>\n",
       "      <td>0.008078</td>\n",
       "      <td>0.000006</td>\n",
       "    </tr>\n",
       "    <tr>\n",
       "      <th>1</th>\n",
       "      <td>coloration</td>\n",
       "      <td>14.0</td>\n",
       "      <td>14.0</td>\n",
       "      <td>843.0</td>\n",
       "      <td>0.000170</td>\n",
       "      <td>0.817548</td>\n",
       "      <td>0.008083</td>\n",
       "      <td>5.0</td>\n",
       "      <td>5.0</td>\n",
       "      <td>811.0</td>\n",
       "      <td>0.000186</td>\n",
       "      <td>0.823845</td>\n",
       "      <td>0.008078</td>\n",
       "      <td>0.000006</td>\n",
       "    </tr>\n",
       "    <tr>\n",
       "      <th>2</th>\n",
       "      <td>hitter</td>\n",
       "      <td>14.0</td>\n",
       "      <td>14.0</td>\n",
       "      <td>840.0</td>\n",
       "      <td>0.000170</td>\n",
       "      <td>0.817038</td>\n",
       "      <td>0.008083</td>\n",
       "      <td>5.0</td>\n",
       "      <td>5.0</td>\n",
       "      <td>820.0</td>\n",
       "      <td>0.000186</td>\n",
       "      <td>0.825519</td>\n",
       "      <td>0.008078</td>\n",
       "      <td>0.000006</td>\n",
       "    </tr>\n",
       "    <tr>\n",
       "      <th>3</th>\n",
       "      <td>general</td>\n",
       "      <td>14.0</td>\n",
       "      <td>14.0</td>\n",
       "      <td>863.0</td>\n",
       "      <td>0.000170</td>\n",
       "      <td>0.820948</td>\n",
       "      <td>0.008083</td>\n",
       "      <td>5.0</td>\n",
       "      <td>5.0</td>\n",
       "      <td>765.0</td>\n",
       "      <td>0.000186</td>\n",
       "      <td>0.815286</td>\n",
       "      <td>0.008078</td>\n",
       "      <td>0.000006</td>\n",
       "    </tr>\n",
       "    <tr>\n",
       "      <th>4</th>\n",
       "      <td>critical</td>\n",
       "      <td>14.0</td>\n",
       "      <td>14.0</td>\n",
       "      <td>883.0</td>\n",
       "      <td>0.000170</td>\n",
       "      <td>0.824349</td>\n",
       "      <td>0.008083</td>\n",
       "      <td>5.0</td>\n",
       "      <td>5.0</td>\n",
       "      <td>857.0</td>\n",
       "      <td>0.000186</td>\n",
       "      <td>0.832403</td>\n",
       "      <td>0.008078</td>\n",
       "      <td>0.000006</td>\n",
       "    </tr>\n",
       "    <tr>\n",
       "      <th>5</th>\n",
       "      <td>overwhelming</td>\n",
       "      <td>14.0</td>\n",
       "      <td>14.0</td>\n",
       "      <td>885.0</td>\n",
       "      <td>0.000170</td>\n",
       "      <td>0.824689</td>\n",
       "      <td>0.008083</td>\n",
       "      <td>5.0</td>\n",
       "      <td>5.0</td>\n",
       "      <td>812.0</td>\n",
       "      <td>0.000186</td>\n",
       "      <td>0.824031</td>\n",
       "      <td>0.008078</td>\n",
       "      <td>0.000006</td>\n",
       "    </tr>\n",
       "    <tr>\n",
       "      <th>6</th>\n",
       "      <td>challenge</td>\n",
       "      <td>14.0</td>\n",
       "      <td>14.0</td>\n",
       "      <td>853.0</td>\n",
       "      <td>0.000170</td>\n",
       "      <td>0.819248</td>\n",
       "      <td>0.008083</td>\n",
       "      <td>5.0</td>\n",
       "      <td>5.0</td>\n",
       "      <td>864.0</td>\n",
       "      <td>0.000186</td>\n",
       "      <td>0.833705</td>\n",
       "      <td>0.008078</td>\n",
       "      <td>0.000006</td>\n",
       "    </tr>\n",
       "    <tr>\n",
       "      <th>7</th>\n",
       "      <td>power</td>\n",
       "      <td>28.0</td>\n",
       "      <td>28.0</td>\n",
       "      <td>473.0</td>\n",
       "      <td>0.000340</td>\n",
       "      <td>0.729638</td>\n",
       "      <td>0.016166</td>\n",
       "      <td>10.0</td>\n",
       "      <td>10.0</td>\n",
       "      <td>459.0</td>\n",
       "      <td>0.000372</td>\n",
       "      <td>0.733571</td>\n",
       "      <td>0.016155</td>\n",
       "      <td>0.000011</td>\n",
       "    </tr>\n",
       "    <tr>\n",
       "      <th>8</th>\n",
       "      <td>calyx</td>\n",
       "      <td>28.0</td>\n",
       "      <td>28.0</td>\n",
       "      <td>469.0</td>\n",
       "      <td>0.000340</td>\n",
       "      <td>0.728277</td>\n",
       "      <td>0.016166</td>\n",
       "      <td>10.0</td>\n",
       "      <td>10.0</td>\n",
       "      <td>470.0</td>\n",
       "      <td>0.000372</td>\n",
       "      <td>0.737665</td>\n",
       "      <td>0.016155</td>\n",
       "      <td>0.000011</td>\n",
       "    </tr>\n",
       "    <tr>\n",
       "      <th>9</th>\n",
       "      <td>condition</td>\n",
       "      <td>25.0</td>\n",
       "      <td>25.0</td>\n",
       "      <td>517.0</td>\n",
       "      <td>0.000304</td>\n",
       "      <td>0.743749</td>\n",
       "      <td>0.014434</td>\n",
       "      <td>9.0</td>\n",
       "      <td>9.0</td>\n",
       "      <td>513.0</td>\n",
       "      <td>0.000335</td>\n",
       "      <td>0.752177</td>\n",
       "      <td>0.014540</td>\n",
       "      <td>0.000105</td>\n",
       "    </tr>\n",
       "  </tbody>\n",
       "</table>\n",
       "</div>"
      ],
      "text/plain": [
       "           word  appears_in  count   rank  pct_total  cul_pct_total  \\\n",
       "0        buddha        14.0   14.0  860.0   0.000170       0.820438   \n",
       "1    coloration        14.0   14.0  843.0   0.000170       0.817548   \n",
       "2        hitter        14.0   14.0  840.0   0.000170       0.817038   \n",
       "3       general        14.0   14.0  863.0   0.000170       0.820948   \n",
       "4      critical        14.0   14.0  883.0   0.000170       0.824349   \n",
       "5  overwhelming        14.0   14.0  885.0   0.000170       0.824689   \n",
       "6     challenge        14.0   14.0  853.0   0.000170       0.819248   \n",
       "7         power        28.0   28.0  473.0   0.000340       0.729638   \n",
       "8         calyx        28.0   28.0  469.0   0.000340       0.728277   \n",
       "9     condition        25.0   25.0  517.0   0.000304       0.743749   \n",
       "\n",
       "   appears_in_pct  appears_in_bad  count_bad  rank_bad  pct_total_bad  \\\n",
       "0        0.008083             5.0        5.0     805.0       0.000186   \n",
       "1        0.008083             5.0        5.0     811.0       0.000186   \n",
       "2        0.008083             5.0        5.0     820.0       0.000186   \n",
       "3        0.008083             5.0        5.0     765.0       0.000186   \n",
       "4        0.008083             5.0        5.0     857.0       0.000186   \n",
       "5        0.008083             5.0        5.0     812.0       0.000186   \n",
       "6        0.008083             5.0        5.0     864.0       0.000186   \n",
       "7        0.016166            10.0       10.0     459.0       0.000372   \n",
       "8        0.016166            10.0       10.0     470.0       0.000372   \n",
       "9        0.014434             9.0        9.0     513.0       0.000335   \n",
       "\n",
       "   cul_pct_total_bad  appears_in_pct_bad  difference  \n",
       "0           0.822728            0.008078    0.000006  \n",
       "1           0.823845            0.008078    0.000006  \n",
       "2           0.825519            0.008078    0.000006  \n",
       "3           0.815286            0.008078    0.000006  \n",
       "4           0.832403            0.008078    0.000006  \n",
       "5           0.824031            0.008078    0.000006  \n",
       "6           0.833705            0.008078    0.000006  \n",
       "7           0.733571            0.016155    0.000011  \n",
       "8           0.737665            0.016155    0.000011  \n",
       "9           0.752177            0.014540    0.000105  "
      ]
     },
     "execution_count": 55,
     "metadata": {},
     "output_type": "execute_result"
    }
   ],
   "source": [
    "worst_ten_words = worst_ten_words.drop('index', axis=1)\n",
    "worst_ten_words"
   ]
  },
  {
   "cell_type": "code",
   "execution_count": 56,
   "metadata": {
    "id": "wxDly36-Ho_k"
   },
   "outputs": [],
   "source": [
    "best_ten_words = best_ten_words.drop('index', axis=1)\n",
    "best_ten_words = best_ten_words[::-1]"
   ]
  },
  {
   "cell_type": "code",
   "execution_count": 57,
   "metadata": {
    "colab": {
     "base_uri": "https://localhost:8080/",
     "height": 383
    },
    "id": "NJwx04keIM8C",
    "outputId": "5653dac2-a979-4099-875c-fe8e1b2e7c58"
   },
   "outputs": [
    {
     "data": {
      "text/html": [
       "<div>\n",
       "<style scoped>\n",
       "    .dataframe tbody tr th:only-of-type {\n",
       "        vertical-align: middle;\n",
       "    }\n",
       "\n",
       "    .dataframe tbody tr th {\n",
       "        vertical-align: top;\n",
       "    }\n",
       "\n",
       "    .dataframe thead th {\n",
       "        text-align: right;\n",
       "    }\n",
       "</style>\n",
       "<table border=\"1\" class=\"dataframe\">\n",
       "  <thead>\n",
       "    <tr style=\"text-align: right;\">\n",
       "      <th></th>\n",
       "      <th>word</th>\n",
       "      <th>appears_in</th>\n",
       "      <th>count</th>\n",
       "      <th>rank</th>\n",
       "      <th>pct_total</th>\n",
       "      <th>cul_pct_total</th>\n",
       "      <th>appears_in_pct</th>\n",
       "      <th>appears_in_bad</th>\n",
       "      <th>count_bad</th>\n",
       "      <th>rank_bad</th>\n",
       "      <th>pct_total_bad</th>\n",
       "      <th>cul_pct_total_bad</th>\n",
       "      <th>appears_in_pct_bad</th>\n",
       "      <th>difference</th>\n",
       "    </tr>\n",
       "  </thead>\n",
       "  <tbody>\n",
       "    <tr>\n",
       "      <th>9</th>\n",
       "      <td>happy</td>\n",
       "      <td>1470.0</td>\n",
       "      <td>1470.0</td>\n",
       "      <td>1.0</td>\n",
       "      <td>0.017852</td>\n",
       "      <td>0.017852</td>\n",
       "      <td>0.848730</td>\n",
       "      <td>422.0</td>\n",
       "      <td>422.0</td>\n",
       "      <td>2.0</td>\n",
       "      <td>0.015703</td>\n",
       "      <td>0.032857</td>\n",
       "      <td>0.681745</td>\n",
       "      <td>0.166985</td>\n",
       "    </tr>\n",
       "    <tr>\n",
       "      <th>8</th>\n",
       "      <td>euphoric</td>\n",
       "      <td>1299.0</td>\n",
       "      <td>1299.0</td>\n",
       "      <td>4.0</td>\n",
       "      <td>0.015775</td>\n",
       "      <td>0.066343</td>\n",
       "      <td>0.750000</td>\n",
       "      <td>382.0</td>\n",
       "      <td>382.0</td>\n",
       "      <td>4.0</td>\n",
       "      <td>0.014214</td>\n",
       "      <td>0.061472</td>\n",
       "      <td>0.617124</td>\n",
       "      <td>0.132876</td>\n",
       "    </tr>\n",
       "    <tr>\n",
       "      <th>7</th>\n",
       "      <td>relaxed</td>\n",
       "      <td>1309.0</td>\n",
       "      <td>1309.0</td>\n",
       "      <td>3.0</td>\n",
       "      <td>0.015897</td>\n",
       "      <td>0.050568</td>\n",
       "      <td>0.755774</td>\n",
       "      <td>387.0</td>\n",
       "      <td>387.0</td>\n",
       "      <td>3.0</td>\n",
       "      <td>0.014401</td>\n",
       "      <td>0.047258</td>\n",
       "      <td>0.625202</td>\n",
       "      <td>0.130572</td>\n",
       "    </tr>\n",
       "    <tr>\n",
       "      <th>6</th>\n",
       "      <td>uplifted</td>\n",
       "      <td>1175.0</td>\n",
       "      <td>1175.0</td>\n",
       "      <td>5.0</td>\n",
       "      <td>0.014269</td>\n",
       "      <td>0.080612</td>\n",
       "      <td>0.678406</td>\n",
       "      <td>344.0</td>\n",
       "      <td>344.0</td>\n",
       "      <td>6.0</td>\n",
       "      <td>0.012800</td>\n",
       "      <td>0.088227</td>\n",
       "      <td>0.555735</td>\n",
       "      <td>0.122671</td>\n",
       "    </tr>\n",
       "    <tr>\n",
       "      <th>5</th>\n",
       "      <td>berry</td>\n",
       "      <td>373.0</td>\n",
       "      <td>374.0</td>\n",
       "      <td>31.0</td>\n",
       "      <td>0.004542</td>\n",
       "      <td>0.273192</td>\n",
       "      <td>0.215358</td>\n",
       "      <td>78.0</td>\n",
       "      <td>78.0</td>\n",
       "      <td>61.0</td>\n",
       "      <td>0.002902</td>\n",
       "      <td>0.374786</td>\n",
       "      <td>0.126010</td>\n",
       "      <td>0.089348</td>\n",
       "    </tr>\n",
       "    <tr>\n",
       "      <th>4</th>\n",
       "      <td>pain</td>\n",
       "      <td>449.0</td>\n",
       "      <td>449.0</td>\n",
       "      <td>26.0</td>\n",
       "      <td>0.005453</td>\n",
       "      <td>0.249050</td>\n",
       "      <td>0.259238</td>\n",
       "      <td>108.0</td>\n",
       "      <td>108.0</td>\n",
       "      <td>34.0</td>\n",
       "      <td>0.004019</td>\n",
       "      <td>0.284327</td>\n",
       "      <td>0.174475</td>\n",
       "      <td>0.084763</td>\n",
       "    </tr>\n",
       "    <tr>\n",
       "      <th>3</th>\n",
       "      <td>og</td>\n",
       "      <td>398.0</td>\n",
       "      <td>399.0</td>\n",
       "      <td>29.0</td>\n",
       "      <td>0.004845</td>\n",
       "      <td>0.263975</td>\n",
       "      <td>0.229792</td>\n",
       "      <td>94.0</td>\n",
       "      <td>94.0</td>\n",
       "      <td>42.0</td>\n",
       "      <td>0.003498</td>\n",
       "      <td>0.314244</td>\n",
       "      <td>0.151858</td>\n",
       "      <td>0.077934</td>\n",
       "    </tr>\n",
       "    <tr>\n",
       "      <th>2</th>\n",
       "      <td>sweet</td>\n",
       "      <td>1062.0</td>\n",
       "      <td>1062.0</td>\n",
       "      <td>6.0</td>\n",
       "      <td>0.012897</td>\n",
       "      <td>0.093509</td>\n",
       "      <td>0.613164</td>\n",
       "      <td>338.0</td>\n",
       "      <td>338.0</td>\n",
       "      <td>7.0</td>\n",
       "      <td>0.012577</td>\n",
       "      <td>0.100804</td>\n",
       "      <td>0.546042</td>\n",
       "      <td>0.067122</td>\n",
       "    </tr>\n",
       "    <tr>\n",
       "      <th>1</th>\n",
       "      <td>dominant</td>\n",
       "      <td>711.0</td>\n",
       "      <td>711.0</td>\n",
       "      <td>13.0</td>\n",
       "      <td>0.008634</td>\n",
       "      <td>0.166944</td>\n",
       "      <td>0.410508</td>\n",
       "      <td>214.0</td>\n",
       "      <td>214.0</td>\n",
       "      <td>14.0</td>\n",
       "      <td>0.007963</td>\n",
       "      <td>0.171951</td>\n",
       "      <td>0.345719</td>\n",
       "      <td>0.064789</td>\n",
       "    </tr>\n",
       "    <tr>\n",
       "      <th>0</th>\n",
       "      <td>grow</td>\n",
       "      <td>236.0</td>\n",
       "      <td>239.0</td>\n",
       "      <td>59.0</td>\n",
       "      <td>0.002902</td>\n",
       "      <td>0.366507</td>\n",
       "      <td>0.136259</td>\n",
       "      <td>123.0</td>\n",
       "      <td>123.0</td>\n",
       "      <td>30.0</td>\n",
       "      <td>0.004577</td>\n",
       "      <td>0.267545</td>\n",
       "      <td>0.198708</td>\n",
       "      <td>0.062449</td>\n",
       "    </tr>\n",
       "  </tbody>\n",
       "</table>\n",
       "</div>"
      ],
      "text/plain": [
       "       word  appears_in   count  rank  pct_total  cul_pct_total  \\\n",
       "9     happy      1470.0  1470.0   1.0   0.017852       0.017852   \n",
       "8  euphoric      1299.0  1299.0   4.0   0.015775       0.066343   \n",
       "7   relaxed      1309.0  1309.0   3.0   0.015897       0.050568   \n",
       "6  uplifted      1175.0  1175.0   5.0   0.014269       0.080612   \n",
       "5     berry       373.0   374.0  31.0   0.004542       0.273192   \n",
       "4      pain       449.0   449.0  26.0   0.005453       0.249050   \n",
       "3        og       398.0   399.0  29.0   0.004845       0.263975   \n",
       "2     sweet      1062.0  1062.0   6.0   0.012897       0.093509   \n",
       "1  dominant       711.0   711.0  13.0   0.008634       0.166944   \n",
       "0      grow       236.0   239.0  59.0   0.002902       0.366507   \n",
       "\n",
       "   appears_in_pct  appears_in_bad  count_bad  rank_bad  pct_total_bad  \\\n",
       "9        0.848730           422.0      422.0       2.0       0.015703   \n",
       "8        0.750000           382.0      382.0       4.0       0.014214   \n",
       "7        0.755774           387.0      387.0       3.0       0.014401   \n",
       "6        0.678406           344.0      344.0       6.0       0.012800   \n",
       "5        0.215358            78.0       78.0      61.0       0.002902   \n",
       "4        0.259238           108.0      108.0      34.0       0.004019   \n",
       "3        0.229792            94.0       94.0      42.0       0.003498   \n",
       "2        0.613164           338.0      338.0       7.0       0.012577   \n",
       "1        0.410508           214.0      214.0      14.0       0.007963   \n",
       "0        0.136259           123.0      123.0      30.0       0.004577   \n",
       "\n",
       "   cul_pct_total_bad  appears_in_pct_bad  difference  \n",
       "9           0.032857            0.681745    0.166985  \n",
       "8           0.061472            0.617124    0.132876  \n",
       "7           0.047258            0.625202    0.130572  \n",
       "6           0.088227            0.555735    0.122671  \n",
       "5           0.374786            0.126010    0.089348  \n",
       "4           0.284327            0.174475    0.084763  \n",
       "3           0.314244            0.151858    0.077934  \n",
       "2           0.100804            0.546042    0.067122  \n",
       "1           0.171951            0.345719    0.064789  \n",
       "0           0.267545            0.198708    0.062449  "
      ]
     },
     "execution_count": 57,
     "metadata": {},
     "output_type": "execute_result"
    }
   ],
   "source": [
    "best_ten_words"
   ]
  },
  {
   "cell_type": "code",
   "execution_count": 58,
   "metadata": {
    "id": "J-FUPUaTMvma"
   },
   "outputs": [],
   "source": [
    "from sklearn.metrics.pairwise import cosine_similarity\n",
    "from sklearn.neighbors import NearestNeighbors\n",
    "from sklearn.decomposition import PCA"
   ]
  },
  {
   "cell_type": "markdown",
   "metadata": {},
   "source": [
    "##  Create Pipeline"
   ]
  },
  {
   "cell_type": "code",
   "execution_count": 59,
   "metadata": {
    "colab": {
     "base_uri": "https://localhost:8080/",
     "height": 290
    },
    "id": "lr5X4paDKm8M",
    "outputId": "2897ddb2-17fe-4e74-ff73-9e4c40a171bd"
   },
   "outputs": [
    {
     "data": {
      "text/html": [
       "<div>\n",
       "<style scoped>\n",
       "    .dataframe tbody tr th:only-of-type {\n",
       "        vertical-align: middle;\n",
       "    }\n",
       "\n",
       "    .dataframe tbody tr th {\n",
       "        vertical-align: top;\n",
       "    }\n",
       "\n",
       "    .dataframe thead th {\n",
       "        text-align: right;\n",
       "    }\n",
       "</style>\n",
       "<table border=\"1\" class=\"dataframe\">\n",
       "  <thead>\n",
       "    <tr style=\"text-align: right;\">\n",
       "      <th></th>\n",
       "      <th>-13</th>\n",
       "      <th>1</th>\n",
       "      <th>1 muscle</th>\n",
       "      <th>1 sativa</th>\n",
       "      <th>1 sleepy</th>\n",
       "      <th>1 thc</th>\n",
       "      <th>10</th>\n",
       "      <th>10 cross</th>\n",
       "      <th>10 know</th>\n",
       "      <th>10 large</th>\n",
       "      <th>...</th>\n",
       "      <th>potency</th>\n",
       "      <th>potent</th>\n",
       "      <th>purple</th>\n",
       "      <th>talkative</th>\n",
       "      <th>trichome</th>\n",
       "      <th>cookie</th>\n",
       "      <th>dominant</th>\n",
       "      <th>strain</th>\n",
       "      <th></th>\n",
       "      <th></th>\n",
       "    </tr>\n",
       "  </thead>\n",
       "  <tbody>\n",
       "    <tr>\n",
       "      <th>0</th>\n",
       "      <td>0.0</td>\n",
       "      <td>0.0</td>\n",
       "      <td>0.0</td>\n",
       "      <td>0.0</td>\n",
       "      <td>0.0</td>\n",
       "      <td>0.0</td>\n",
       "      <td>0.0</td>\n",
       "      <td>0.0</td>\n",
       "      <td>0.0</td>\n",
       "      <td>0.0</td>\n",
       "      <td>...</td>\n",
       "      <td>0.0</td>\n",
       "      <td>0.0</td>\n",
       "      <td>0.0</td>\n",
       "      <td>0.0</td>\n",
       "      <td>0.0</td>\n",
       "      <td>0.0</td>\n",
       "      <td>0.0</td>\n",
       "      <td>0.0</td>\n",
       "      <td>0.0</td>\n",
       "      <td>0.0</td>\n",
       "    </tr>\n",
       "    <tr>\n",
       "      <th>1</th>\n",
       "      <td>0.0</td>\n",
       "      <td>0.0</td>\n",
       "      <td>0.0</td>\n",
       "      <td>0.0</td>\n",
       "      <td>0.0</td>\n",
       "      <td>0.0</td>\n",
       "      <td>0.0</td>\n",
       "      <td>0.0</td>\n",
       "      <td>0.0</td>\n",
       "      <td>0.0</td>\n",
       "      <td>...</td>\n",
       "      <td>0.0</td>\n",
       "      <td>0.0</td>\n",
       "      <td>0.0</td>\n",
       "      <td>0.0</td>\n",
       "      <td>0.0</td>\n",
       "      <td>0.0</td>\n",
       "      <td>0.0</td>\n",
       "      <td>0.0</td>\n",
       "      <td>0.0</td>\n",
       "      <td>0.0</td>\n",
       "    </tr>\n",
       "    <tr>\n",
       "      <th>2</th>\n",
       "      <td>0.0</td>\n",
       "      <td>0.0</td>\n",
       "      <td>0.0</td>\n",
       "      <td>0.0</td>\n",
       "      <td>0.0</td>\n",
       "      <td>0.0</td>\n",
       "      <td>0.0</td>\n",
       "      <td>0.0</td>\n",
       "      <td>0.0</td>\n",
       "      <td>0.0</td>\n",
       "      <td>...</td>\n",
       "      <td>0.0</td>\n",
       "      <td>0.0</td>\n",
       "      <td>0.0</td>\n",
       "      <td>0.0</td>\n",
       "      <td>0.0</td>\n",
       "      <td>0.0</td>\n",
       "      <td>0.0</td>\n",
       "      <td>0.0</td>\n",
       "      <td>0.0</td>\n",
       "      <td>0.0</td>\n",
       "    </tr>\n",
       "    <tr>\n",
       "      <th>3</th>\n",
       "      <td>0.0</td>\n",
       "      <td>0.0</td>\n",
       "      <td>0.0</td>\n",
       "      <td>0.0</td>\n",
       "      <td>0.0</td>\n",
       "      <td>0.0</td>\n",
       "      <td>0.0</td>\n",
       "      <td>0.0</td>\n",
       "      <td>0.0</td>\n",
       "      <td>0.0</td>\n",
       "      <td>...</td>\n",
       "      <td>0.0</td>\n",
       "      <td>0.0</td>\n",
       "      <td>0.0</td>\n",
       "      <td>0.0</td>\n",
       "      <td>0.0</td>\n",
       "      <td>0.0</td>\n",
       "      <td>0.0</td>\n",
       "      <td>0.0</td>\n",
       "      <td>0.0</td>\n",
       "      <td>0.0</td>\n",
       "    </tr>\n",
       "    <tr>\n",
       "      <th>4</th>\n",
       "      <td>0.0</td>\n",
       "      <td>0.0</td>\n",
       "      <td>0.0</td>\n",
       "      <td>0.0</td>\n",
       "      <td>0.0</td>\n",
       "      <td>0.0</td>\n",
       "      <td>0.0</td>\n",
       "      <td>0.0</td>\n",
       "      <td>0.0</td>\n",
       "      <td>0.0</td>\n",
       "      <td>...</td>\n",
       "      <td>0.0</td>\n",
       "      <td>0.0</td>\n",
       "      <td>0.0</td>\n",
       "      <td>0.0</td>\n",
       "      <td>0.0</td>\n",
       "      <td>0.0</td>\n",
       "      <td>0.0</td>\n",
       "      <td>0.0</td>\n",
       "      <td>0.0</td>\n",
       "      <td>0.0</td>\n",
       "    </tr>\n",
       "  </tbody>\n",
       "</table>\n",
       "<p>5 rows × 5350 columns</p>\n",
       "</div>"
      ],
      "text/plain": [
       "   -13    1  1 muscle  1 sativa  1 sleepy  1 thc   10  10 cross  10 know  \\\n",
       "0  0.0  0.0       0.0       0.0       0.0    0.0  0.0       0.0      0.0   \n",
       "1  0.0  0.0       0.0       0.0       0.0    0.0  0.0       0.0      0.0   \n",
       "2  0.0  0.0       0.0       0.0       0.0    0.0  0.0       0.0      0.0   \n",
       "3  0.0  0.0       0.0       0.0       0.0    0.0  0.0       0.0      0.0   \n",
       "4  0.0  0.0       0.0       0.0       0.0    0.0  0.0       0.0      0.0   \n",
       "\n",
       "   10 large  ...      potency      potent      purple      talkative  \\\n",
       "0       0.0  ...          0.0         0.0         0.0            0.0   \n",
       "1       0.0  ...          0.0         0.0         0.0            0.0   \n",
       "2       0.0  ...          0.0         0.0         0.0            0.0   \n",
       "3       0.0  ...          0.0         0.0         0.0            0.0   \n",
       "4       0.0  ...          0.0         0.0         0.0            0.0   \n",
       "\n",
       "       trichome     cookie     dominant     strain             \n",
       "0           0.0        0.0          0.0        0.0  0.0   0.0  \n",
       "1           0.0        0.0          0.0        0.0  0.0   0.0  \n",
       "2           0.0        0.0          0.0        0.0  0.0   0.0  \n",
       "3           0.0        0.0          0.0        0.0  0.0   0.0  \n",
       "4           0.0        0.0          0.0        0.0  0.0   0.0  \n",
       "\n",
       "[5 rows x 5350 columns]"
      ]
     },
     "execution_count": 59,
     "metadata": {},
     "output_type": "execute_result"
    }
   ],
   "source": [
    "from sklearn.feature_extraction.text import CountVectorizer, TfidfVectorizer\n",
    "\n",
    "# Create Pipeline Components\n",
    "# Tunning Parameters\n",
    "# Instantiate vectorizer object\n",
    "data = test_df['FullText']\n",
    "tfidf = TfidfVectorizer(stop_words='english', \n",
    "                        ngram_range=(1,2),\n",
    "                        max_df=.95,\n",
    "                        min_df=5,\n",
    "                        tokenizer=get_lemmas)\n",
    "# Create a vocabulary and get word counts per document\n",
    "dtm = tfidf.fit_transform(data) # Similiar to fit_predict\n",
    "# Print word counts\n",
    "# Get feature names to use as dataframe column headers\n",
    "dtm = pd.DataFrame(dtm.todense(), columns=tfidf.get_feature_names())\n",
    "# View Feature Matrix as DataFrame\n",
    "dtm.head()"
   ]
  },
  {
   "cell_type": "code",
   "execution_count": 60,
   "metadata": {
    "colab": {
     "base_uri": "https://localhost:8080/",
     "height": 695
    },
    "id": "XE2_Ll6kMBDe",
    "outputId": "42e84320-b819-4658-cb14-675a7db17444"
   },
   "outputs": [
    {
     "name": "stdout",
     "output_type": "stream",
     "text": [
      "(44, 7)\n"
     ]
    },
    {
     "data": {
      "text/html": [
       "<div>\n",
       "<style scoped>\n",
       "    .dataframe tbody tr th:only-of-type {\n",
       "        vertical-align: middle;\n",
       "    }\n",
       "\n",
       "    .dataframe tbody tr th {\n",
       "        vertical-align: top;\n",
       "    }\n",
       "\n",
       "    .dataframe thead th {\n",
       "        text-align: right;\n",
       "    }\n",
       "</style>\n",
       "<table border=\"1\" class=\"dataframe\">\n",
       "  <thead>\n",
       "    <tr style=\"text-align: right;\">\n",
       "      <th></th>\n",
       "      <th>word</th>\n",
       "      <th>appears_in</th>\n",
       "      <th>count</th>\n",
       "      <th>rank</th>\n",
       "      <th>pct_total</th>\n",
       "      <th>cul_pct_total</th>\n",
       "      <th>appears_in_pct</th>\n",
       "    </tr>\n",
       "  </thead>\n",
       "  <tbody>\n",
       "    <tr>\n",
       "      <th>7</th>\n",
       "      <td>e</td>\n",
       "      <td>3800</td>\n",
       "      <td>6674</td>\n",
       "      <td>1.0</td>\n",
       "      <td>0.122495</td>\n",
       "      <td>0.122495</td>\n",
       "      <td>1.616333</td>\n",
       "    </tr>\n",
       "    <tr>\n",
       "      <th>12</th>\n",
       "      <td>a</td>\n",
       "      <td>2962</td>\n",
       "      <td>4116</td>\n",
       "      <td>2.0</td>\n",
       "      <td>0.075545</td>\n",
       "      <td>0.198040</td>\n",
       "      <td>1.259889</td>\n",
       "    </tr>\n",
       "    <tr>\n",
       "      <th>19</th>\n",
       "      <td>r</td>\n",
       "      <td>3017</td>\n",
       "      <td>3848</td>\n",
       "      <td>3.0</td>\n",
       "      <td>0.070626</td>\n",
       "      <td>0.268666</td>\n",
       "      <td>1.283284</td>\n",
       "    </tr>\n",
       "    <tr>\n",
       "      <th>13</th>\n",
       "      <td>i</td>\n",
       "      <td>2874</td>\n",
       "      <td>3835</td>\n",
       "      <td>4.0</td>\n",
       "      <td>0.070388</td>\n",
       "      <td>0.339054</td>\n",
       "      <td>1.222459</td>\n",
       "    </tr>\n",
       "    <tr>\n",
       "      <th>11</th>\n",
       "      <td>t</td>\n",
       "      <td>2719</td>\n",
       "      <td>3570</td>\n",
       "      <td>5.0</td>\n",
       "      <td>0.065524</td>\n",
       "      <td>0.404577</td>\n",
       "      <td>1.156529</td>\n",
       "    </tr>\n",
       "    <tr>\n",
       "      <th>3</th>\n",
       "      <td></td>\n",
       "      <td>3210</td>\n",
       "      <td>3243</td>\n",
       "      <td>6.0</td>\n",
       "      <td>0.059522</td>\n",
       "      <td>0.464100</td>\n",
       "      <td>1.365376</td>\n",
       "    </tr>\n",
       "    <tr>\n",
       "      <th>22</th>\n",
       "      <td>n</td>\n",
       "      <td>2425</td>\n",
       "      <td>3104</td>\n",
       "      <td>7.0</td>\n",
       "      <td>0.056971</td>\n",
       "      <td>0.521070</td>\n",
       "      <td>1.031476</td>\n",
       "    </tr>\n",
       "    <tr>\n",
       "      <th>18</th>\n",
       "      <td>o</td>\n",
       "      <td>2312</td>\n",
       "      <td>2954</td>\n",
       "      <td>8.0</td>\n",
       "      <td>0.054218</td>\n",
       "      <td>0.575288</td>\n",
       "      <td>0.983411</td>\n",
       "    </tr>\n",
       "    <tr>\n",
       "      <th>5</th>\n",
       "      <td>s</td>\n",
       "      <td>2089</td>\n",
       "      <td>2688</td>\n",
       "      <td>9.0</td>\n",
       "      <td>0.049336</td>\n",
       "      <td>0.624624</td>\n",
       "      <td>0.888558</td>\n",
       "    </tr>\n",
       "    <tr>\n",
       "      <th>8</th>\n",
       "      <td>l</td>\n",
       "      <td>2173</td>\n",
       "      <td>2647</td>\n",
       "      <td>10.0</td>\n",
       "      <td>0.048583</td>\n",
       "      <td>0.673207</td>\n",
       "      <td>0.924288</td>\n",
       "    </tr>\n",
       "    <tr>\n",
       "      <th>9</th>\n",
       "      <td>c</td>\n",
       "      <td>1924</td>\n",
       "      <td>2245</td>\n",
       "      <td>11.0</td>\n",
       "      <td>0.041205</td>\n",
       "      <td>0.714412</td>\n",
       "      <td>0.818375</td>\n",
       "    </tr>\n",
       "    <tr>\n",
       "      <th>24</th>\n",
       "      <td>d</td>\n",
       "      <td>1691</td>\n",
       "      <td>1904</td>\n",
       "      <td>12.0</td>\n",
       "      <td>0.034946</td>\n",
       "      <td>0.749358</td>\n",
       "      <td>0.719268</td>\n",
       "    </tr>\n",
       "    <tr>\n",
       "      <th>14</th>\n",
       "      <td>p</td>\n",
       "      <td>1478</td>\n",
       "      <td>1848</td>\n",
       "      <td>13.0</td>\n",
       "      <td>0.033918</td>\n",
       "      <td>0.783276</td>\n",
       "      <td>0.628669</td>\n",
       "    </tr>\n",
       "    <tr>\n",
       "      <th>4</th>\n",
       "      <td>u</td>\n",
       "      <td>1551</td>\n",
       "      <td>1742</td>\n",
       "      <td>14.0</td>\n",
       "      <td>0.031973</td>\n",
       "      <td>0.815249</td>\n",
       "      <td>0.659719</td>\n",
       "    </tr>\n",
       "    <tr>\n",
       "      <th>16</th>\n",
       "      <td>h</td>\n",
       "      <td>1340</td>\n",
       "      <td>1523</td>\n",
       "      <td>15.0</td>\n",
       "      <td>0.027953</td>\n",
       "      <td>0.843202</td>\n",
       "      <td>0.569970</td>\n",
       "    </tr>\n",
       "    <tr>\n",
       "      <th>15</th>\n",
       "      <td>y</td>\n",
       "      <td>1301</td>\n",
       "      <td>1412</td>\n",
       "      <td>16.0</td>\n",
       "      <td>0.025916</td>\n",
       "      <td>0.869118</td>\n",
       "      <td>0.553382</td>\n",
       "    </tr>\n",
       "    <tr>\n",
       "      <th>23</th>\n",
       "      <td>g</td>\n",
       "      <td>1088</td>\n",
       "      <td>1211</td>\n",
       "      <td>17.0</td>\n",
       "      <td>0.022227</td>\n",
       "      <td>0.891344</td>\n",
       "      <td>0.462782</td>\n",
       "    </tr>\n",
       "    <tr>\n",
       "      <th>6</th>\n",
       "      <td>m</td>\n",
       "      <td>1032</td>\n",
       "      <td>1122</td>\n",
       "      <td>18.0</td>\n",
       "      <td>0.020593</td>\n",
       "      <td>0.911937</td>\n",
       "      <td>0.438962</td>\n",
       "    </tr>\n",
       "    <tr>\n",
       "      <th>34</th>\n",
       "      <td>f</td>\n",
       "      <td>863</td>\n",
       "      <td>1064</td>\n",
       "      <td>19.0</td>\n",
       "      <td>0.019529</td>\n",
       "      <td>0.931466</td>\n",
       "      <td>0.367078</td>\n",
       "    </tr>\n",
       "    <tr>\n",
       "      <th>36</th>\n",
       "      <td>b</td>\n",
       "      <td>815</td>\n",
       "      <td>885</td>\n",
       "      <td>20.0</td>\n",
       "      <td>0.016243</td>\n",
       "      <td>0.947709</td>\n",
       "      <td>0.346661</td>\n",
       "    </tr>\n",
       "    <tr>\n",
       "      <th>20</th>\n",
       "      <td>w</td>\n",
       "      <td>610</td>\n",
       "      <td>639</td>\n",
       "      <td>21.0</td>\n",
       "      <td>0.011728</td>\n",
       "      <td>0.959438</td>\n",
       "      <td>0.259464</td>\n",
       "    </tr>\n",
       "    <tr>\n",
       "      <th>10</th>\n",
       "      <td>v</td>\n",
       "      <td>599</td>\n",
       "      <td>626</td>\n",
       "      <td>22.0</td>\n",
       "      <td>0.011490</td>\n",
       "      <td>0.970927</td>\n",
       "      <td>0.254785</td>\n",
       "    </tr>\n",
       "    <tr>\n",
       "      <th>21</th>\n",
       "      <td>k</td>\n",
       "      <td>466</td>\n",
       "      <td>517</td>\n",
       "      <td>23.0</td>\n",
       "      <td>0.009489</td>\n",
       "      <td>0.980416</td>\n",
       "      <td>0.198214</td>\n",
       "    </tr>\n",
       "    <tr>\n",
       "      <th>25</th>\n",
       "      <td>x</td>\n",
       "      <td>325</td>\n",
       "      <td>330</td>\n",
       "      <td>24.0</td>\n",
       "      <td>0.006057</td>\n",
       "      <td>0.986473</td>\n",
       "      <td>0.138239</td>\n",
       "    </tr>\n",
       "    <tr>\n",
       "      <th>39</th>\n",
       "      <td>z</td>\n",
       "      <td>97</td>\n",
       "      <td>120</td>\n",
       "      <td>25.0</td>\n",
       "      <td>0.002202</td>\n",
       "      <td>0.988676</td>\n",
       "      <td>0.041259</td>\n",
       "    </tr>\n",
       "    <tr>\n",
       "      <th>17</th>\n",
       "      <td>0</td>\n",
       "      <td>76</td>\n",
       "      <td>102</td>\n",
       "      <td>26.0</td>\n",
       "      <td>0.001872</td>\n",
       "      <td>0.990548</td>\n",
       "      <td>0.032327</td>\n",
       "    </tr>\n",
       "    <tr>\n",
       "      <th>35</th>\n",
       "      <td></td>\n",
       "      <td>41</td>\n",
       "      <td>92</td>\n",
       "      <td>27.0</td>\n",
       "      <td>0.001689</td>\n",
       "      <td>0.992236</td>\n",
       "      <td>0.017439</td>\n",
       "    </tr>\n",
       "    <tr>\n",
       "      <th>1</th>\n",
       "      <td>1</td>\n",
       "      <td>69</td>\n",
       "      <td>75</td>\n",
       "      <td>28.0</td>\n",
       "      <td>0.001377</td>\n",
       "      <td>0.993613</td>\n",
       "      <td>0.029349</td>\n",
       "    </tr>\n",
       "    <tr>\n",
       "      <th>38</th>\n",
       "      <td>q</td>\n",
       "      <td>55</td>\n",
       "      <td>55</td>\n",
       "      <td>29.0</td>\n",
       "      <td>0.001009</td>\n",
       "      <td>0.994622</td>\n",
       "      <td>0.023394</td>\n",
       "    </tr>\n",
       "    <tr>\n",
       "      <th>26</th>\n",
       "      <td>2</td>\n",
       "      <td>50</td>\n",
       "      <td>53</td>\n",
       "      <td>30.0</td>\n",
       "      <td>0.000973</td>\n",
       "      <td>0.995595</td>\n",
       "      <td>0.021268</td>\n",
       "    </tr>\n",
       "    <tr>\n",
       "      <th>40</th>\n",
       "      <td>j</td>\n",
       "      <td>47</td>\n",
       "      <td>47</td>\n",
       "      <td>31.0</td>\n",
       "      <td>0.000863</td>\n",
       "      <td>0.996458</td>\n",
       "      <td>0.019991</td>\n",
       "    </tr>\n",
       "    <tr>\n",
       "      <th>28</th>\n",
       "      <td>5</td>\n",
       "      <td>24</td>\n",
       "      <td>32</td>\n",
       "      <td>32.0</td>\n",
       "      <td>0.000587</td>\n",
       "      <td>0.997045</td>\n",
       "      <td>0.010208</td>\n",
       "    </tr>\n",
       "    <tr>\n",
       "      <th>32</th>\n",
       "      <td>9</td>\n",
       "      <td>24</td>\n",
       "      <td>28</td>\n",
       "      <td>33.0</td>\n",
       "      <td>0.000514</td>\n",
       "      <td>0.997559</td>\n",
       "      <td>0.010208</td>\n",
       "    </tr>\n",
       "    <tr>\n",
       "      <th>31</th>\n",
       "      <td>8</td>\n",
       "      <td>26</td>\n",
       "      <td>26</td>\n",
       "      <td>34.0</td>\n",
       "      <td>0.000477</td>\n",
       "      <td>0.998036</td>\n",
       "      <td>0.011059</td>\n",
       "    </tr>\n",
       "    <tr>\n",
       "      <th>29</th>\n",
       "      <td>6</td>\n",
       "      <td>22</td>\n",
       "      <td>22</td>\n",
       "      <td>35.0</td>\n",
       "      <td>0.000404</td>\n",
       "      <td>0.998440</td>\n",
       "      <td>0.009358</td>\n",
       "    </tr>\n",
       "    <tr>\n",
       "      <th>27</th>\n",
       "      <td>4</td>\n",
       "      <td>21</td>\n",
       "      <td>21</td>\n",
       "      <td>36.0</td>\n",
       "      <td>0.000385</td>\n",
       "      <td>0.998825</td>\n",
       "      <td>0.008932</td>\n",
       "    </tr>\n",
       "    <tr>\n",
       "      <th>30</th>\n",
       "      <td>7</td>\n",
       "      <td>21</td>\n",
       "      <td>21</td>\n",
       "      <td>37.0</td>\n",
       "      <td>0.000385</td>\n",
       "      <td>0.999211</td>\n",
       "      <td>0.008932</td>\n",
       "    </tr>\n",
       "    <tr>\n",
       "      <th>0</th>\n",
       "      <td>3</td>\n",
       "      <td>16</td>\n",
       "      <td>18</td>\n",
       "      <td>38.0</td>\n",
       "      <td>0.000330</td>\n",
       "      <td>0.999541</td>\n",
       "      <td>0.006806</td>\n",
       "    </tr>\n",
       "    <tr>\n",
       "      <th>37</th>\n",
       "      <td>/</td>\n",
       "      <td>14</td>\n",
       "      <td>14</td>\n",
       "      <td>39.0</td>\n",
       "      <td>0.000257</td>\n",
       "      <td>0.999798</td>\n",
       "      <td>0.005955</td>\n",
       "    </tr>\n",
       "    <tr>\n",
       "      <th>2</th>\n",
       "      <td>-</td>\n",
       "      <td>4</td>\n",
       "      <td>4</td>\n",
       "      <td>40.0</td>\n",
       "      <td>0.000073</td>\n",
       "      <td>0.999872</td>\n",
       "      <td>0.001701</td>\n",
       "    </tr>\n",
       "    <tr>\n",
       "      <th>33</th>\n",
       "      <td>:</td>\n",
       "      <td>3</td>\n",
       "      <td>3</td>\n",
       "      <td>41.0</td>\n",
       "      <td>0.000055</td>\n",
       "      <td>0.999927</td>\n",
       "      <td>0.001276</td>\n",
       "    </tr>\n",
       "    <tr>\n",
       "      <th>42</th>\n",
       "      <td>ō</td>\n",
       "      <td>1</td>\n",
       "      <td>2</td>\n",
       "      <td>42.0</td>\n",
       "      <td>0.000037</td>\n",
       "      <td>0.999963</td>\n",
       "      <td>0.000425</td>\n",
       "    </tr>\n",
       "    <tr>\n",
       "      <th>41</th>\n",
       "      <td>.</td>\n",
       "      <td>1</td>\n",
       "      <td>1</td>\n",
       "      <td>43.0</td>\n",
       "      <td>0.000018</td>\n",
       "      <td>0.999982</td>\n",
       "      <td>0.000425</td>\n",
       "    </tr>\n",
       "    <tr>\n",
       "      <th>43</th>\n",
       "      <td>ñ</td>\n",
       "      <td>1</td>\n",
       "      <td>1</td>\n",
       "      <td>44.0</td>\n",
       "      <td>0.000018</td>\n",
       "      <td>1.000000</td>\n",
       "      <td>0.000425</td>\n",
       "    </tr>\n",
       "  </tbody>\n",
       "</table>\n",
       "</div>"
      ],
      "text/plain": [
       "   word  appears_in  count  rank  pct_total  cul_pct_total  appears_in_pct\n",
       "7     e        3800   6674   1.0   0.122495       0.122495        1.616333\n",
       "12    a        2962   4116   2.0   0.075545       0.198040        1.259889\n",
       "19    r        3017   3848   3.0   0.070626       0.268666        1.283284\n",
       "13    i        2874   3835   4.0   0.070388       0.339054        1.222459\n",
       "11    t        2719   3570   5.0   0.065524       0.404577        1.156529\n",
       "3              3210   3243   6.0   0.059522       0.464100        1.365376\n",
       "22    n        2425   3104   7.0   0.056971       0.521070        1.031476\n",
       "18    o        2312   2954   8.0   0.054218       0.575288        0.983411\n",
       "5     s        2089   2688   9.0   0.049336       0.624624        0.888558\n",
       "8     l        2173   2647  10.0   0.048583       0.673207        0.924288\n",
       "9     c        1924   2245  11.0   0.041205       0.714412        0.818375\n",
       "24    d        1691   1904  12.0   0.034946       0.749358        0.719268\n",
       "14    p        1478   1848  13.0   0.033918       0.783276        0.628669\n",
       "4     u        1551   1742  14.0   0.031973       0.815249        0.659719\n",
       "16    h        1340   1523  15.0   0.027953       0.843202        0.569970\n",
       "15    y        1301   1412  16.0   0.025916       0.869118        0.553382\n",
       "23    g        1088   1211  17.0   0.022227       0.891344        0.462782\n",
       "6     m        1032   1122  18.0   0.020593       0.911937        0.438962\n",
       "34    f         863   1064  19.0   0.019529       0.931466        0.367078\n",
       "36    b         815    885  20.0   0.016243       0.947709        0.346661\n",
       "20    w         610    639  21.0   0.011728       0.959438        0.259464\n",
       "10    v         599    626  22.0   0.011490       0.970927        0.254785\n",
       "21    k         466    517  23.0   0.009489       0.980416        0.198214\n",
       "25    x         325    330  24.0   0.006057       0.986473        0.138239\n",
       "39    z          97    120  25.0   0.002202       0.988676        0.041259\n",
       "17    0          76    102  26.0   0.001872       0.990548        0.032327\n",
       "35               41     92  27.0   0.001689       0.992236        0.017439\n",
       "1     1          69     75  28.0   0.001377       0.993613        0.029349\n",
       "38    q          55     55  29.0   0.001009       0.994622        0.023394\n",
       "26    2          50     53  30.0   0.000973       0.995595        0.021268\n",
       "40    j          47     47  31.0   0.000863       0.996458        0.019991\n",
       "28    5          24     32  32.0   0.000587       0.997045        0.010208\n",
       "32    9          24     28  33.0   0.000514       0.997559        0.010208\n",
       "31    8          26     26  34.0   0.000477       0.998036        0.011059\n",
       "29    6          22     22  35.0   0.000404       0.998440        0.009358\n",
       "27    4          21     21  36.0   0.000385       0.998825        0.008932\n",
       "30    7          21     21  37.0   0.000385       0.999211        0.008932\n",
       "0     3          16     18  38.0   0.000330       0.999541        0.006806\n",
       "37    /          14     14  39.0   0.000257       0.999798        0.005955\n",
       "2     -           4      4  40.0   0.000073       0.999872        0.001701\n",
       "33    :           3      3  41.0   0.000055       0.999927        0.001276\n",
       "42    ō           1      2  42.0   0.000037       0.999963        0.000425\n",
       "41    .           1      1  43.0   0.000018       0.999982        0.000425\n",
       "43    ñ           1      1  44.0   0.000018       1.000000        0.000425"
      ]
     },
     "execution_count": 60,
     "metadata": {},
     "output_type": "execute_result"
    }
   ],
   "source": [
    "wc = count(dtm)\n",
    "print(wc.shape)\n",
    "wc"
   ]
  },
  {
   "cell_type": "markdown",
   "metadata": {
    "id": "WMFzIR1tNBiB"
   },
   "source": [
    "##  Train/Test Split - using test_df"
   ]
  },
  {
   "cell_type": "markdown",
   "metadata": {
    "id": "jpVTgG2sL39n"
   },
   "source": [
    "##  Here we need KNN model"
   ]
  },
  {
   "cell_type": "markdown",
   "metadata": {
    "id": "VzeT_dSsLwup"
   },
   "source": [
    "#  (BELOW) Haven't done much with what's below.  Some of the code will be helpful for modeling"
   ]
  },
  {
   "cell_type": "code",
   "execution_count": 61,
   "metadata": {
    "colab": {
     "base_uri": "https://localhost:8080/",
     "height": 426
    },
    "id": "kkKuuXH-me8A",
    "outputId": "f1d41bb8-3197-40b1-ae30-2248c8d36c80"
   },
   "outputs": [
    {
     "data": {
      "text/html": [
       "<div>\n",
       "<style scoped>\n",
       "    .dataframe tbody tr th:only-of-type {\n",
       "        vertical-align: middle;\n",
       "    }\n",
       "\n",
       "    .dataframe tbody tr th {\n",
       "        vertical-align: top;\n",
       "    }\n",
       "\n",
       "    .dataframe thead th {\n",
       "        text-align: right;\n",
       "    }\n",
       "</style>\n",
       "<table border=\"1\" class=\"dataframe\">\n",
       "  <thead>\n",
       "    <tr style=\"text-align: right;\">\n",
       "      <th></th>\n",
       "      <th>word</th>\n",
       "      <th>appears_in</th>\n",
       "      <th>count</th>\n",
       "      <th>rank</th>\n",
       "      <th>pct_total</th>\n",
       "      <th>cul_pct_total</th>\n",
       "      <th>appears_in_pct</th>\n",
       "    </tr>\n",
       "  </thead>\n",
       "  <tbody>\n",
       "    <tr>\n",
       "      <th>84</th>\n",
       "      <td>happy</td>\n",
       "      <td>1892</td>\n",
       "      <td>1892</td>\n",
       "      <td>1.0</td>\n",
       "      <td>0.017323</td>\n",
       "      <td>0.017323</td>\n",
       "      <td>0.804764</td>\n",
       "    </tr>\n",
       "    <tr>\n",
       "      <th>2</th>\n",
       "      <td>strain</td>\n",
       "      <td>1836</td>\n",
       "      <td>1846</td>\n",
       "      <td>2.0</td>\n",
       "      <td>0.016902</td>\n",
       "      <td>0.034225</td>\n",
       "      <td>0.780944</td>\n",
       "    </tr>\n",
       "    <tr>\n",
       "      <th>21</th>\n",
       "      <td>relaxed</td>\n",
       "      <td>1696</td>\n",
       "      <td>1696</td>\n",
       "      <td>3.0</td>\n",
       "      <td>0.015528</td>\n",
       "      <td>0.049753</td>\n",
       "      <td>0.721395</td>\n",
       "    </tr>\n",
       "    <tr>\n",
       "      <th>26</th>\n",
       "      <td>euphoric</td>\n",
       "      <td>1681</td>\n",
       "      <td>1681</td>\n",
       "      <td>4.0</td>\n",
       "      <td>0.015391</td>\n",
       "      <td>0.065144</td>\n",
       "      <td>0.715015</td>\n",
       "    </tr>\n",
       "    <tr>\n",
       "      <th>130</th>\n",
       "      <td>uplifted</td>\n",
       "      <td>1519</td>\n",
       "      <td>1519</td>\n",
       "      <td>5.0</td>\n",
       "      <td>0.013908</td>\n",
       "      <td>0.079052</td>\n",
       "      <td>0.646108</td>\n",
       "    </tr>\n",
       "    <tr>\n",
       "      <th>38</th>\n",
       "      <td>hybrid</td>\n",
       "      <td>1429</td>\n",
       "      <td>1430</td>\n",
       "      <td>6.0</td>\n",
       "      <td>0.013093</td>\n",
       "      <td>0.092145</td>\n",
       "      <td>0.607826</td>\n",
       "    </tr>\n",
       "    <tr>\n",
       "      <th>7</th>\n",
       "      <td>sweet</td>\n",
       "      <td>1400</td>\n",
       "      <td>1400</td>\n",
       "      <td>7.0</td>\n",
       "      <td>0.012818</td>\n",
       "      <td>0.104963</td>\n",
       "      <td>0.595491</td>\n",
       "    </tr>\n",
       "    <tr>\n",
       "      <th>28</th>\n",
       "      <td>effect</td>\n",
       "      <td>1305</td>\n",
       "      <td>1305</td>\n",
       "      <td>8.0</td>\n",
       "      <td>0.011948</td>\n",
       "      <td>0.116912</td>\n",
       "      <td>0.555083</td>\n",
       "    </tr>\n",
       "    <tr>\n",
       "      <th>41</th>\n",
       "      <td>earthy</td>\n",
       "      <td>1250</td>\n",
       "      <td>1250</td>\n",
       "      <td>9.0</td>\n",
       "      <td>0.011445</td>\n",
       "      <td>0.128357</td>\n",
       "      <td>0.531689</td>\n",
       "    </tr>\n",
       "    <tr>\n",
       "      <th>16</th>\n",
       "      <td>indica</td>\n",
       "      <td>1168</td>\n",
       "      <td>1168</td>\n",
       "      <td>10.0</td>\n",
       "      <td>0.010694</td>\n",
       "      <td>0.139051</td>\n",
       "      <td>0.496810</td>\n",
       "    </tr>\n",
       "    <tr>\n",
       "      <th>192</th>\n",
       "      <td>cross</td>\n",
       "      <td>1064</td>\n",
       "      <td>1064</td>\n",
       "      <td>11.0</td>\n",
       "      <td>0.009742</td>\n",
       "      <td>0.148793</td>\n",
       "      <td>0.452573</td>\n",
       "    </tr>\n",
       "    <tr>\n",
       "      <th>173</th>\n",
       "      <td>aroma</td>\n",
       "      <td>954</td>\n",
       "      <td>954</td>\n",
       "      <td>12.0</td>\n",
       "      <td>0.008735</td>\n",
       "      <td>0.157528</td>\n",
       "      <td>0.405785</td>\n",
       "    </tr>\n",
       "  </tbody>\n",
       "</table>\n",
       "</div>"
      ],
      "text/plain": [
       "         word  appears_in  count  rank  pct_total  cul_pct_total  \\\n",
       "84      happy        1892   1892   1.0   0.017323       0.017323   \n",
       "2      strain        1836   1846   2.0   0.016902       0.034225   \n",
       "21    relaxed        1696   1696   3.0   0.015528       0.049753   \n",
       "26   euphoric        1681   1681   4.0   0.015391       0.065144   \n",
       "130  uplifted        1519   1519   5.0   0.013908       0.079052   \n",
       "38     hybrid        1429   1430   6.0   0.013093       0.092145   \n",
       "7       sweet        1400   1400   7.0   0.012818       0.104963   \n",
       "28     effect        1305   1305   8.0   0.011948       0.116912   \n",
       "41     earthy        1250   1250   9.0   0.011445       0.128357   \n",
       "16     indica        1168   1168  10.0   0.010694       0.139051   \n",
       "192     cross        1064   1064  11.0   0.009742       0.148793   \n",
       "173     aroma         954    954  12.0   0.008735       0.157528   \n",
       "\n",
       "     appears_in_pct  \n",
       "84         0.804764  \n",
       "2          0.780944  \n",
       "21         0.721395  \n",
       "26         0.715015  \n",
       "130        0.646108  \n",
       "38         0.607826  \n",
       "7          0.595491  \n",
       "28         0.555083  \n",
       "41         0.531689  \n",
       "16         0.496810  \n",
       "192        0.452573  \n",
       "173        0.405785  "
      ]
     },
     "execution_count": 61,
     "metadata": {},
     "output_type": "execute_result"
    }
   ],
   "source": [
    "# Use the Function\n",
    "wc = count(test_df['tokens'])\n",
    "wc.head(12)"
   ]
  },
  {
   "cell_type": "code",
   "execution_count": 62,
   "metadata": {
    "colab": {
     "base_uri": "https://localhost:8080/",
     "height": 279
    },
    "id": "zPAyFOSEnBzN",
    "outputId": "d0f556cf-c386-4b39-8d58-09c8d3d797e4"
   },
   "outputs": [
    {
     "data": {
      "image/png": "[encoded data removed]",
      "text/plain": [
       "<Figure size 432x288 with 1 Axes>"
      ]
     },
     "metadata": {
      "needs_background": "light"
     },
     "output_type": "display_data"
    }
   ],
   "source": [
    "import seaborn as sns\n",
    "\n",
    "# Cumulative Distribution Plot\n",
    "sns.lineplot(x='rank', y='cul_pct_total', data=wc);"
   ]
  },
  {
   "cell_type": "code",
   "execution_count": 63,
   "metadata": {
    "colab": {
     "base_uri": "https://localhost:8080/"
    },
    "id": "JODF7leqnkX9",
    "outputId": "0b3ad755-e23a-4dbd-aa90-14751073ba5b"
   },
   "outputs": [
    {
     "data": {
      "text/plain": [
       "0.46218148856883884"
      ]
     },
     "execution_count": 63,
     "metadata": {},
     "output_type": "execute_result"
    }
   ],
   "source": [
    "wc[wc['rank'] <= 100]['cul_pct_total'].max()"
   ]
  },
  {
   "cell_type": "code",
   "execution_count": 64,
   "metadata": {
    "colab": {
     "base_uri": "https://localhost:8080/"
    },
    "id": "KS77KvRB1xSq",
    "outputId": "76b9d74e-2843-4be2-a7ed-ee6959d18c50"
   },
   "outputs": [
    {
     "data": {
      "text/plain": [
       "2350"
      ]
     },
     "execution_count": 64,
     "metadata": {},
     "output_type": "execute_result"
    }
   ],
   "source": [
    "test_df['Strain'].nunique()"
   ]
  },
  {
   "cell_type": "code",
   "execution_count": 65,
   "metadata": {
    "colab": {
     "base_uri": "https://localhost:8080/",
     "height": 266
    },
    "id": "awKI1fG4np6Y",
    "outputId": "b82d1210-2245-4b4e-fae9-945e11ad0a6c"
   },
   "outputs": [
    {
     "name": "stdout",
     "output_type": "stream",
     "text": [
      "Requirement already satisfied: squarify in /Users/victoriadebebe/opt/anaconda3/lib/python3.8/site-packages (0.4.3)\n"
     ]
    },
    {
     "data": {
      "image/png": "[encoded data removed]",
      "text/plain": [
       "<Figure size 432x288 with 1 Axes>"
      ]
     },
     "metadata": {
      "needs_background": "light"
     },
     "output_type": "display_data"
    }
   ],
   "source": [
    "# this is an example of a words cloud\n",
    "# you can google for more examples, often more artistic examples \n",
    "\n",
    "!pip install squarify\n",
    "# this is an example of a words cloud\n",
    "# you can google for more examples, often more artistic examples \n",
    "\n",
    "import squarify\n",
    "import matplotlib.pyplot as plt\n",
    "\n",
    "wc_top20 = wc[wc['rank'] <= 20]\n",
    "\n",
    "squarify.plot(sizes=wc_top20['pct_total'], label=wc_top20['word'], alpha=.8 )\n",
    "plt.axis('off')\n",
    "plt.show()"
   ]
  },
  {
   "cell_type": "code",
   "execution_count": 66,
   "metadata": {
    "colab": {
     "base_uri": "https://localhost:8080/"
    },
    "id": "OVOR9GR7rHh8",
    "outputId": "d6b632e9-43fe-49ad-862f-0570d67929cf"
   },
   "outputs": [
    {
     "name": "stdout",
     "output_type": "stream",
     "text": [
      "300\n"
     ]
    },
    {
     "data": {
      "text/plain": [
       "array([-0.61721 ,  0.62113 , -0.3699  , -0.0835  , -0.91292 , -0.2796  ,\n",
       "       -0.89662 ,  0.1076  ,  0.2506  ,  0.47763 , -0.53459 ,  0.22233 ,\n",
       "       -0.48481 ,  0.67175 ,  1.1125  ,  0.015559,  0.26401 ,  2.1954  ,\n",
       "        0.24814 ,  0.31459 , -0.41842 ,  0.036809, -0.43053 , -0.49003 ,\n",
       "       -0.25273 , -0.30245 ,  0.38716 , -0.62239 ,  0.99508 ,  0.14893 ,\n",
       "       -0.33058 , -0.061682,  0.19126 ,  0.31497 , -0.16694 ,  0.51194 ,\n",
       "       -0.3884  , -0.36756 , -0.26294 ,  0.39966 ,  0.30036 , -0.58009 ,\n",
       "       -0.013378,  0.17101 , -0.042521, -0.53452 , -0.41239 , -0.047397,\n",
       "        0.14183 , -0.16304 , -0.12683 ,  0.25132 , -0.43579 , -0.12212 ,\n",
       "        0.45777 ,  0.49899 ,  0.404   , -0.40161 , -0.41003 , -0.46823 ,\n",
       "        0.26705 ,  0.12223 ,  0.63153 ,  0.66171 ,  0.12883 ,  0.27334 ,\n",
       "        0.038646,  0.19017 , -0.22311 , -0.13465 , -0.18316 , -0.40761 ,\n",
       "        0.59861 , -0.079749,  0.8205  , -0.03868 ,  0.33989 , -0.52478 ,\n",
       "        0.18461 , -0.11773 ,  0.2825  , -0.58476 , -0.66726 ,  0.77946 ,\n",
       "       -0.20782 , -0.53035 ,  0.97206 , -0.47363 , -0.014709,  0.59342 ,\n",
       "       -0.035735, -0.13003 ,  0.22736 , -0.171   , -0.12305 , -0.28962 ,\n",
       "        0.74374 , -0.83308 ,  0.14298 , -0.050316, -0.1018  ,  0.63493 ,\n",
       "        0.33403 ,  0.53588 ,  0.47952 , -1.9819  ,  0.83778 , -0.58372 ,\n",
       "       -0.15268 , -0.37747 ,  0.077291, -0.55214 ,  0.27483 ,  0.15972 ,\n",
       "        0.22825 , -0.47054 , -0.64813 , -0.14833 ,  0.45289 ,  0.59107 ,\n",
       "       -0.079408, -0.21471 , -0.36875 ,  0.47777 , -0.10381 , -0.18155 ,\n",
       "       -0.29839 , -0.36842 ,  0.18372 , -0.27602 ,  0.31082 , -0.94249 ,\n",
       "       -0.48054 ,  0.60088 ,  0.65178 , -0.90907 , -0.31034 , -0.075918,\n",
       "        0.86527 , -0.039214,  0.023377,  0.13807 , -0.059062,  0.40386 ,\n",
       "        0.20749 ,  0.091854, -0.23833 ,  0.35462 ,  0.12387 ,  0.1282  ,\n",
       "       -0.058712,  0.25125 ,  0.23752 , -0.39718 , -0.15513 , -0.66861 ,\n",
       "        0.10696 ,  0.25625 , -0.35289 ,  0.022838, -0.041573, -0.5154  ,\n",
       "       -0.28827 ,  0.10434 ,  0.53898 ,  0.44858 ,  0.028601, -0.16775 ,\n",
       "       -0.50741 , -0.0312  ,  0.49383 , -0.60631 , -0.2977  , -0.32983 ,\n",
       "       -0.2676  , -0.26957 , -0.075586, -0.081882,  0.43517 , -0.021972,\n",
       "        0.33592 , -0.1822  , -0.27211 ,  0.34418 ,  0.11098 , -0.36586 ,\n",
       "        0.30438 ,  0.23285 , -0.79192 , -0.15432 , -0.62852 ,  0.39973 ,\n",
       "       -0.26187 , -0.074427, -0.30366 ,  0.18089 ,  0.10379 ,  0.12864 ,\n",
       "        0.35296 , -0.43014 ,  0.02593 ,  0.013503, -0.065286, -0.30551 ,\n",
       "       -0.51937 ,  0.48688 ,  0.12452 , -0.13469 , -0.14244 ,  0.79695 ,\n",
       "       -0.39758 , -0.043642, -0.27666 ,  0.32909 , -0.57007 , -0.69799 ,\n",
       "       -0.01873 ,  0.039743,  0.34657 ,  0.019306, -0.49301 ,  0.26575 ,\n",
       "       -0.62993 , -0.70154 , -0.46439 ,  0.89304 ,  0.54437 ,  0.4907  ,\n",
       "        0.13812 , -0.33415 ,  0.017057,  0.39557 ,  0.2008  , -0.63509 ,\n",
       "       -0.26621 , -0.66919 ,  0.16969 ,  0.083252, -0.13064 ,  0.033893,\n",
       "       -0.47673 ,  0.045201, -0.059926, -0.26915 ,  0.11427 ,  0.46609 ,\n",
       "        0.34283 ,  0.58516 , -0.18112 , -0.30259 ,  0.42479 , -0.68493 ,\n",
       "        0.088122, -0.1098  ,  0.11802 ,  0.42584 , -0.080153, -0.28357 ,\n",
       "        0.25938 ,  0.20336 ,  0.043595, -0.42194 , -0.31873 , -0.21157 ,\n",
       "       -0.024038,  0.1552  , -0.021537,  0.21494 ,  0.40636 , -0.3907  ,\n",
       "        0.46241 ,  0.45767 , -0.6875  , -0.091862,  0.018086, -0.32656 ,\n",
       "       -0.79424 , -0.096507, -0.15432 ,  0.85913 , -0.11041 ,  0.3693  ,\n",
       "        0.37939 , -0.12737 , -0.60748 ,  0.79232 , -0.062406, -0.50086 ,\n",
       "        0.67775 ,  0.30954 ,  0.50901 , -0.40257 , -0.097592,  0.65101 ,\n",
       "        0.18273 ,  0.089854, -0.23693 , -0.71134 , -0.042625,  0.1218  ],\n",
       "      dtype=float32)"
      ]
     },
     "execution_count": 66,
     "metadata": {},
     "output_type": "execute_result"
    }
   ],
   "source": [
    "doc = nlp(\"dosage\")\n",
    "\n",
    "dosage_vector = doc.vector\n",
    "print(len(dosage_vector))\n",
    "dosage_vector"
   ]
  },
  {
   "cell_type": "code",
   "execution_count": 67,
   "metadata": {
    "colab": {
     "base_uri": "https://localhost:8080/"
    },
    "id": "OK9di9_QIeGH",
    "outputId": "f4f51d94-4995-4c27-c86b-76995ca7b5a7"
   },
   "outputs": [
    {
     "data": {
      "text/plain": [
       "(array([[1.30460973, 1.30654067, 1.31468637, 1.31797949, 1.31888547]]),\n",
       " array([[1744,  411,  739, 1360, 1382]]))"
      ]
     },
     "execution_count": 67,
     "metadata": {},
     "output_type": "execute_result"
    }
   ],
   "source": [
    "from sklearn.neighbors import NearestNeighbors\n",
    "\n",
    "# Fit on TFIDF Vectors\n",
    "nn  = NearestNeighbors(n_neighbors=5, algorithm='kd_tree', radius=.5)\n",
    "nn.fit(dtm)\n",
    "review = [\"\"\"I have trouble sleeping and depressed\"\"\"]\n",
    "\n",
    "new = tfidf.transform(review)\n",
    "preds = nn.kneighbors(new.todense())\n",
    "preds"
   ]
  },
  {
   "cell_type": "code",
   "execution_count": 68,
   "metadata": {
    "colab": {
     "base_uri": "https://localhost:8080/"
    },
    "id": "hLYPSMbgpEwO",
    "outputId": "67d51c0b-8296-4fe5-f1ea-6c4f683c59d2"
   },
   "outputs": [
    {
     "data": {
      "text/plain": [
       "Strain                                          East Coast Sour Diesel\n",
       "Rating                                                             4.3\n",
       "Type                                                            Sativa\n",
       "Effects                  Relaxed, Energetic, Happy, Euphoric, Uplifted\n",
       "Flavor                                          Pungent, Lemon, Diesel\n",
       "Description          East Coast Sour Diesel is a fast-acting attitu...\n",
       "FullText             truly, strain, alleviate, want, diesel, cautio...\n",
       "tokens               [truly, strain, alleviate, want, diesel, cauti...\n",
       "Rating Category                                                   Good\n",
       "Dosage_in_Descrip                                                 none\n",
       "Flagged Ailments                                                     2\n",
       "Ailments                                                anxiety, sleep\n",
       "count_ailments                                                       2\n",
       "count_text                                                         289\n",
       "Dosage Size                                                     II-III\n",
       "comparison_column                                                 True\n",
       "Name: 739, dtype: object"
      ]
     },
     "execution_count": 68,
     "metadata": {},
     "output_type": "execute_result"
    }
   ],
   "source": [
    "test_df.loc[739]"
   ]
  },
  {
   "cell_type": "code",
   "execution_count": 69,
   "metadata": {
    "id": "wmeVaYIxsuO-"
   },
   "outputs": [],
   "source": [
    "# Saving the model\n",
    "import pickle\n",
    "\n",
    "filename = \"mvp.product\"\n",
    "pickle.dump(nn, open(filename, \"wb\"))"
   ]
  },
  {
   "cell_type": "code",
   "execution_count": 70,
   "metadata": {
    "colab": {
     "base_uri": "https://localhost:8080/"
    },
    "id": "uQWgzD5YtFVj",
    "outputId": "22335d15-1b08-431e-d6af-ed53368b8509"
   },
   "outputs": [
    {
     "data": {
      "text/plain": [
       "array([[ 710,  729, 1361, 1429, 1125]])"
      ]
     },
     "execution_count": 70,
     "metadata": {},
     "output_type": "execute_result"
    }
   ],
   "source": [
    "#  Loading the model\n",
    "model = pickle.load(open(\"mvp.product\", \"rb\"))\n",
    "review = [\"catatonic\"]\n",
    "tran = tfidf.transform(review)\n",
    "model.kneighbors(tran.todense())[1]"
   ]
  },
  {
   "cell_type": "code",
   "execution_count": 71,
   "metadata": {
    "id": "-Jvhdj5U13F4"
   },
   "outputs": [],
   "source": [
    "\n",
    "def pred(x):\n",
    "    \"\"\"Make prediction and return nested dictionary\n",
    "    \n",
    "       x = string\n",
    "    \"\"\"\n",
    "    # Load mode file and perform prediction\n",
    "    model = pickle.load(open(\"mvp.product\", \"rb\"))\n",
    "    x = [x]\n",
    "    trans = tfidf.transform(x)\n",
    "    pred = model.kneighbors(trans.todense())[1][0]\n",
    "    \n",
    "    #create empty dictionary\n",
    "    pred_dict = {}\n",
    "    \n",
    "    #summary statistics of 5 closest neighbors\n",
    "    for x in pred:\n",
    "        print(\"\\n                 --DISCLAIMER! Dosage Size recommendations will vary between users.--\")\n",
    "        print(\"\\nStrain: \", test_df[\"Strain\"][x])\n",
    "        print(\"Dosage Size: \", test_df[\"Dosage Size\"][x])\n",
    "        print(\"\\nRating Category: \", test_df[\"Rating Category\"][x])\n",
    "        print(\"Rating: \", test_df[\"Rating\"][x])\n",
    "        print(\"\\nType: \", test_df[\"Type\"][x])\n",
    "        print(\"\\nDescription: \", test_df[\"Description\"][x])\n",
    "        print(\"\\nFlavor: \", test_df[\"Flavor\"][x])\n",
    "        print(\"\\nEffects: \", test_df[\"Effects\"][x])\n",
    "        print(\"\\nAilments: \", test_df[\"Ailments\"][x])\n",
    "        print(\"\\n____________________________________\")\n",
    "\n",
    "                # add new dictionary to pred_dict containing predictions\n",
    "        preds_dict ={(1+len(pred_dict)): {\"strain\": test_df[\"Strain\"][x],\n",
    "                                          \"dosage size\": test_df[\"Dosage Size\"][x],\n",
    "                                          \"rating category\": test_df[\"Rating Category\"][x], \n",
    "                                          \"rating\": test_df[\"Rating\"][x],\n",
    "                                          \"type\": test_df[\"Type\"][x],\n",
    "                                          \"description\": test_df[\"Description\"][x],\n",
    "                                          \"flavor\": test_df[\"Flavor\"][x],\n",
    "                                          \"effects\": test_df[\"Effects\"][x],\n",
    "                                          \"ailments\": test_df[\"Ailments\"][x]}}\n",
    "        pred_dict.update(preds_dict)\n",
    "    \n",
    "    return pred, pred_dict"
   ]
  },
  {
   "cell_type": "code",
   "execution_count": 72,
   "metadata": {
    "colab": {
     "base_uri": "https://localhost:8080/"
    },
    "id": "4i27iPNst4Ij",
    "outputId": "055cb592-e7da-40a4-b979-1d7f71f0ad3f"
   },
   "outputs": [
    {
     "name": "stdout",
     "output_type": "stream",
     "text": [
      "\n",
      "                 --DISCLAIMER! Dosage Size recommendations will vary between users.--\n",
      "\n",
      "Strain:  Tembo Kush\n",
      "Dosage Size:  I\n",
      "\n",
      "Rating Category:  Great\n",
      "Rating:  4.5\n",
      "\n",
      "Type:  Hybrid\n",
      "\n",
      "Description:  Tembo Kush is the second of a Signature Series by BUDS Pasco, an indoor hydroponic farm in Washington. It is a sativa-dominant hybrid strain that combines genetics from Elephant, Durban Poison, and OG Kush. Derived from the Swahili word for “elephant,” Tembo Kush is influenced by its Elephant parent’s mammoth-sized buds, yields, and THC content. Durban Poison is an African sativa known for its sweet aroma, high-flying cerebral euphoria, and functional effects that keep you feeling productive, focused, and creative. OG Kush, famous among West Coast breeders for its stress-crushing euphoria, lends Tembo Kush dreamy, happy effects that keep bad moods at bay. Tembo Kush may be potent (with a THC content that can pass 22.5%), but it allows a degree of mental clarity that can be enjoyed any time of the day.\n",
      "\n",
      "Flavor:  Berry, Earthy, Sweet\n",
      "\n",
      "Effects:  Relaxed, Happy, Euphoric, Creative, Focus\n",
      "\n",
      "Ailments:  stress\n",
      "\n",
      "____________________________________\n",
      "\n",
      "                 --DISCLAIMER! Dosage Size recommendations will vary between users.--\n",
      "\n",
      "Strain:  Lime Purple Mist\n",
      "Dosage Size:  II-III\n",
      "\n",
      "Rating Category:  Good\n",
      "Rating:  4.3\n",
      "\n",
      "Type:  Indica\n",
      "\n",
      "Description:  Lime Purple Mist is an indica-dominant strain with deeply relaxing qualities that taper in slowly over time. Its soothing, full-body qualities are a great way to unwind after a long day or for banishing bad moods. The high-THC content of Lime Purple Haze shakes the appetite wide awake, so be sure to have provisions prepared.\n",
      "\n",
      "Flavor:  Berry, Sweet, Lime\n",
      "\n",
      "Effects:  Tingly, Relaxed, Happy, Uplifted, Sleepy\n",
      "\n",
      "Ailments:  sleep, appetite\n",
      "\n",
      "____________________________________\n",
      "\n",
      "                 --DISCLAIMER! Dosage Size recommendations will vary between users.--\n",
      "\n",
      "Strain:  Bad Azz Kush\n",
      "Dosage Size:  I\n",
      "\n",
      "Rating Category:  Great\n",
      "Rating:  5.0\n",
      "\n",
      "Type:  Hybrid\n",
      "\n",
      "Description:  Bad Azz Kush by Barney’s Farm was created with the help of rapper Bad Azz of Dogg Pound Gangsta Crips. While the full story remains untold, Bad Azz contributed to this new Kush cut that brings traditional OG elements to the table while elevating yield and flavor. Bad Azz Kush is known to express hash and berry aromas with an earthy, spicy flavor on the palate. It is a cross of OG Kush, Purple Urkle, and Afghan Kush. This strain’s weighted physical effects and carefree euphoria make it a perfect end of the day smoke. \n",
      "\n",
      "Flavor:  \n",
      "\n",
      "Effects:  \n",
      "\n",
      "Ailments:  weight\n",
      "\n",
      "____________________________________\n",
      "\n",
      "                 --DISCLAIMER! Dosage Size recommendations will vary between users.--\n",
      "\n",
      "Strain:  Blueberry Jack\n",
      "Dosage Size:  II\n",
      "\n",
      "Rating Category:  Good\n",
      "Rating:  4.3\n",
      "\n",
      "Type:  Hybrid\n",
      "\n",
      "Description:  A cross between the legendary Jack Herer and DJ Short Blueberry, Blueberry Jack has something special to offer in both flavor and effect. Sweet, candied blueberry flavors invade on the inhale while the earthy, piney exhale reminds you of this strain’s Jack heritage. A lively sativa buzz typically dominates Blueberry Jack’s effect profile, with just enough physical relaxation to keep you grounded. Blueberry Jack offers an easy escape from stress and bad moods, keeping you positive and motivated through the day.\n",
      "\n",
      "Flavor:  Pine, Berry, Blueberry\n",
      "\n",
      "Effects:  Giggly, Relaxed, Hungry, Happy, Creative\n",
      "\n",
      "Ailments:  stress\n",
      "\n",
      "____________________________________\n",
      "\n",
      "                 --DISCLAIMER! Dosage Size recommendations will vary between users.--\n",
      "\n",
      "Strain:  Dutch Queen\n",
      "Dosage Size:  II\n",
      "\n",
      "Rating Category:  Good\n",
      "Rating:  4.4\n",
      "\n",
      "Type:  Hybrid\n",
      "\n",
      "Description:  Dutch Queen is a hybrid strain bred by Buddy Boy Farms in Washington. A cross between Dutch Treat and Space Queen, Dutch Queen inherits a sweet pine aroma with subtle fruity highlights. The sativa in her promises a light, uplifting euphoria that helps you find energy and focus. Replacing stress with a sense of elevated bliss, Dutch Queen is perfect for unwinding or unraveling bad moods any time of the day. \n",
      "\n",
      "Flavor:  Pungent, Earthy, Sweet\n",
      "\n",
      "Effects:  Tingly, Relaxed, Happy, Talkative, Euphoric\n",
      "\n",
      "Ailments:  stress\n",
      "\n",
      "____________________________________\n"
     ]
    },
    {
     "data": {
      "text/plain": [
       "array([2121, 1290,  160,  340,  725])"
      ]
     },
     "execution_count": 72,
     "metadata": {},
     "output_type": "execute_result"
    }
   ],
   "source": [
    "# preds, pred_dict = pred(\"I have trouble sleeping and pain\")\n",
    "preds, pred_dict = pred(\"Having a bad day feeling down\")\n",
    "preds"
   ]
  },
  {
   "cell_type": "code",
   "execution_count": 73,
   "metadata": {
    "colab": {
     "base_uri": "https://localhost:8080/"
    },
    "id": "fFh4qUEw9Jy3",
    "outputId": "ae4d6f16-f738-4ddc-ede2-ac48c8e68d55"
   },
   "outputs": [
    {
     "data": {
      "text/plain": [
       "{1: {'strain': 'Tembo Kush',\n",
       "  'dosage size': 'I',\n",
       "  'rating category': 'Great',\n",
       "  'rating': 4.5,\n",
       "  'type': 'Hybrid',\n",
       "  'description': 'Tembo Kush is the second of a Signature Series by BUDS Pasco, an indoor hydroponic farm\\xa0in Washington. It\\xa0is a sativa-dominant hybrid strain that combines genetics from Elephant, Durban Poison, and OG Kush. Derived from the Swahili word for “elephant,” Tembo Kush is influenced by its Elephant parent’s mammoth-sized buds, yields, and THC content. Durban Poison is an African sativa known for its sweet aroma, high-flying cerebral euphoria, and functional effects that keep you feeling productive, focused, and creative. OG Kush, famous among West Coast breeders for its stress-crushing euphoria, lends Tembo Kush dreamy, happy effects that keep bad moods at bay. Tembo Kush may be potent (with a THC content that can pass 22.5%), but it allows a degree of mental clarity that can be enjoyed any time of the day.',\n",
       "  'flavor': 'Berry, Earthy, Sweet',\n",
       "  'effects': 'Relaxed, Happy, Euphoric, Creative, Focus',\n",
       "  'ailments': 'stress'},\n",
       " 2: {'strain': 'Lime Purple Mist',\n",
       "  'dosage size': 'II-III',\n",
       "  'rating category': 'Good',\n",
       "  'rating': 4.3,\n",
       "  'type': 'Indica',\n",
       "  'description': 'Lime Purple Mist is an indica-dominant strain with deeply relaxing qualities that taper in slowly over time. Its soothing, full-body qualities are a great way to unwind after a long day or for banishing bad moods. The high-THC content of Lime Purple Haze shakes the appetite wide awake, so be sure to have provisions prepared.',\n",
       "  'flavor': 'Berry, Sweet, Lime',\n",
       "  'effects': 'Tingly, Relaxed, Happy, Uplifted, Sleepy',\n",
       "  'ailments': 'sleep, appetite'},\n",
       " 3: {'strain': 'Bad Azz Kush',\n",
       "  'dosage size': 'I',\n",
       "  'rating category': 'Great',\n",
       "  'rating': 5.0,\n",
       "  'type': 'Hybrid',\n",
       "  'description': 'Bad Azz Kush by Barney’s Farm was created with the help of rapper Bad Azz of Dogg Pound Gangsta Crips. While the full story remains untold, Bad Azz contributed to this new Kush cut that brings traditional OG elements to the table while elevating yield and flavor. Bad Azz Kush is known to express hash and berry aromas with an earthy, spicy flavor on the palate. It is a cross of OG Kush, Purple Urkle, and Afghan Kush. This strain’s weighted physical effects and carefree euphoria make it a perfect end of the day smoke.\\xa0',\n",
       "  'flavor': '',\n",
       "  'effects': '',\n",
       "  'ailments': 'weight'},\n",
       " 4: {'strain': 'Blueberry Jack',\n",
       "  'dosage size': 'II',\n",
       "  'rating category': 'Good',\n",
       "  'rating': 4.3,\n",
       "  'type': 'Hybrid',\n",
       "  'description': 'A cross between the legendary Jack Herer and DJ Short Blueberry, Blueberry Jack has something special to offer in both flavor and effect. Sweet, candied blueberry flavors invade on the inhale while the earthy, piney exhale reminds you of this strain’s Jack heritage. A lively sativa buzz typically dominates Blueberry Jack’s effect profile, with just enough physical relaxation to keep you grounded. Blueberry Jack offers an easy escape from stress and bad moods, keeping you positive and motivated through the day.',\n",
       "  'flavor': 'Pine, Berry, Blueberry',\n",
       "  'effects': 'Giggly, Relaxed, Hungry, Happy, Creative',\n",
       "  'ailments': 'stress'},\n",
       " 5: {'strain': 'Dutch Queen',\n",
       "  'dosage size': 'II',\n",
       "  'rating category': 'Good',\n",
       "  'rating': 4.4,\n",
       "  'type': 'Hybrid',\n",
       "  'description': 'Dutch Queen is a hybrid strain bred by Buddy Boy Farms in Washington. A cross between Dutch Treat and Space Queen, Dutch Queen inherits a sweet pine aroma with subtle fruity highlights. The sativa in her promises a light, uplifting euphoria that helps you find energy and focus. Replacing stress with a sense of elevated bliss, Dutch Queen is perfect for unwinding or unraveling bad moods any time of the day.\\xa0',\n",
       "  'flavor': 'Pungent, Earthy, Sweet',\n",
       "  'effects': 'Tingly, Relaxed, Happy, Talkative, Euphoric',\n",
       "  'ailments': 'stress'}}"
      ]
     },
     "execution_count": 73,
     "metadata": {},
     "output_type": "execute_result"
    }
   ],
   "source": [
    "pred_dict"
   ]
  },
  {
   "cell_type": "code",
   "execution_count": null,
   "metadata": {},
   "outputs": [],
   "source": [
    "# Probabilities to return\n",
    "grid_search.predict_proba([\"I have trouble sleeping skunk orange\"])"
   ]
  },
  {
   "cell_type": "code",
   "execution_count": 75,
   "metadata": {
    "colab": {
     "base_uri": "https://localhost:8080/"
    },
    "id": "weVOxlcA9uyp",
    "outputId": "cc03023c-a50b-4ca3-810d-2fbc8823cb6c"
   },
   "outputs": [],
   "source": [
    "# test_df['FullText'].max()"
   ]
  },
  {
   "cell_type": "code",
   "execution_count": null,
   "metadata": {
    "colab": {
     "base_uri": "https://localhost:8080/",
     "height": 573
    },
    "id": "uU4lmKV__glq",
    "outputId": "172a63fd-82e3-4965-cb2b-07b407ea1b38"
   },
   "outputs": [],
   "source": [
    "test_df.head()"
   ]
  },
  {
   "cell_type": "code",
   "execution_count": null,
   "metadata": {},
   "outputs": [],
   "source": [
    "test_df['FullText'][3]"
   ]
  },
  {
   "cell_type": "code",
   "execution_count": 279,
   "metadata": {
    "colab": {
     "base_uri": "https://localhost:8080/"
    },
    "id": "30gAfZMN9hmQ",
    "outputId": "c5453df4-251b-4237-e1b6-7b32ef28207e"
   },
   "outputs": [
    {
     "data": {
      "text/plain": [
       "1    1212\n",
       "2     699\n",
       "3     440\n",
       "Name: labels, dtype: int64"
      ]
     },
     "execution_count": 279,
     "metadata": {},
     "output_type": "execute_result"
    }
   ],
   "source": [
    "# Create column of labels\n",
    "\n",
    "# dictionary to map over Type column and create labels\n",
    "label_dict = {\"Hybrid\": 1,\n",
    "              \"Indica\": 2,\n",
    "              \"Sativa\": 3\n",
    "              }\n",
    "\n",
    "test_df['labels'] = test_df[\"Type\"].map(label_dict)\n",
    "test_df[\"labels\"].value_counts()"
   ]
  },
  {
   "cell_type": "code",
   "execution_count": 280,
   "metadata": {
    "colab": {
     "base_uri": "https://localhost:8080/"
    },
    "id": "VwcCb53_-6jo",
    "outputId": "7ea67d0b-840d-46cc-ea0d-4c6c744b4a4b"
   },
   "outputs": [
    {
     "name": "stdout",
     "output_type": "stream",
     "text": [
      "Shape: (1322, 15)\n",
      "Shape: (1322,)\n",
      "Shape: (441, 15)\n",
      "Shape: (441,)\n",
      "Shape: (588, 15)\n",
      "Shape: (588,)\n",
      "Shape: (2351,)\n",
      "Shape: (2351,)\n"
     ]
    }
   ],
   "source": [
    "from sklearn.model_selection import train_test_split\n",
    "\n",
    "train, test = train_test_split(test_df, random_state=42, stratify=test_df[\"labels\"])\n",
    "training, validation = train_test_split(train, random_state=42, stratify=train['labels'])\n",
    "\n",
    "X_train = training.drop(columns=[\"labels\", \"tokens\"])\n",
    "y_train = training.pop(\"labels\")\n",
    "\n",
    "X_val = validation.drop(columns=[\"labels\", \"tokens\"])\n",
    "y_val = validation.pop(\"labels\")\n",
    "\n",
    "X_test = test.drop(columns=[\"labels\", \"tokens\"])\n",
    "y_test = test.pop(\"labels\")\n",
    "\n",
    "X_train_cv = test_df.pop(\"FullText\")\n",
    "y_train_cv = test_df.pop(\"labels\")\n",
    "\n",
    "split_ls = [X_train, y_train, X_val, y_val, X_test, y_test, X_train_cv, y_train_cv]\n",
    "\n",
    "for x in split_ls:\n",
    "    print(f\"Shape: {x.shape}\")"
   ]
  },
  {
   "cell_type": "code",
   "execution_count": 282,
   "metadata": {},
   "outputs": [
    {
     "name": "stdout",
     "output_type": "stream",
     "text": [
      "Collecting xgboost\n",
      "  Downloading xgboost-1.3.1-py3-none-macosx_10_14_x86_64.macosx_10_15_x86_64.macosx_11_0_x86_64.whl (1.2 MB)\n",
      "\u001b[K     |████████████████████████████████| 1.2 MB 3.6 MB/s eta 0:00:01\n",
      "\u001b[?25hRequirement already satisfied: numpy in /Users/victoriadebebe/.local/share/virtualenvs/BW4-1tQRhIyQ/lib/python3.8/site-packages (from xgboost) (1.19.4)\n",
      "Requirement already satisfied: scipy in /Users/victoriadebebe/.local/share/virtualenvs/BW4-1tQRhIyQ/lib/python3.8/site-packages (from xgboost) (1.5.4)\n",
      "Installing collected packages: xgboost\n",
      "Successfully installed xgboost-1.3.1\n"
     ]
    }
   ],
   "source": [
    "! pip install xgboost"
   ]
  },
  {
   "cell_type": "code",
   "execution_count": 283,
   "metadata": {
    "colab": {
     "base_uri": "https://localhost:8080/"
    },
    "id": "z6ziVh8mARj2",
    "outputId": "a08f4a0a-e74f-4fa9-f3cf-37d05a4ed5b7"
   },
   "outputs": [
    {
     "name": "stdout",
     "output_type": "stream",
     "text": [
      "Fitting 10 folds for each of 72 candidates, totalling 720 fits\n"
     ]
    },
    {
     "name": "stderr",
     "output_type": "stream",
     "text": [
      "[Parallel(n_jobs=-1)]: Using backend LokyBackend with 16 concurrent workers.\n",
      "[Parallel(n_jobs=-1)]: Done   9 tasks      | elapsed:   20.7s\n",
      "[Parallel(n_jobs=-1)]: Done  18 tasks      | elapsed:   40.3s\n",
      "[Parallel(n_jobs=-1)]: Done  29 tasks      | elapsed:   40.8s\n",
      "[Parallel(n_jobs=-1)]: Done  40 tasks      | elapsed:  1.1min\n",
      "[Parallel(n_jobs=-1)]: Done  53 tasks      | elapsed:  1.6min\n",
      "[Parallel(n_jobs=-1)]: Done  66 tasks      | elapsed:  2.1min\n",
      "[Parallel(n_jobs=-1)]: Done  81 tasks      | elapsed:  2.9min\n",
      "[Parallel(n_jobs=-1)]: Done  96 tasks      | elapsed:  2.9min\n",
      "[Parallel(n_jobs=-1)]: Done 113 tasks      | elapsed:  4.4min\n",
      "[Parallel(n_jobs=-1)]: Done 130 tasks      | elapsed:  5.2min\n",
      "[Parallel(n_jobs=-1)]: Done 149 tasks      | elapsed:  6.2min\n",
      "[Parallel(n_jobs=-1)]: Done 168 tasks      | elapsed:  7.6min\n",
      "[Parallel(n_jobs=-1)]: Done 189 tasks      | elapsed:  9.1min\n",
      "[Parallel(n_jobs=-1)]: Done 210 tasks      | elapsed: 11.4min\n",
      "[Parallel(n_jobs=-1)]: Done 233 tasks      | elapsed: 13.1min\n",
      "[Parallel(n_jobs=-1)]: Done 256 tasks      | elapsed: 13.7min\n",
      "[Parallel(n_jobs=-1)]: Done 281 tasks      | elapsed: 14.6min\n",
      "[Parallel(n_jobs=-1)]: Done 306 tasks      | elapsed: 15.7min\n",
      "[Parallel(n_jobs=-1)]: Done 333 tasks      | elapsed: 16.8min\n",
      "[Parallel(n_jobs=-1)]: Done 360 tasks      | elapsed: 18.5min\n",
      "[Parallel(n_jobs=-1)]: Done 389 tasks      | elapsed: 20.2min\n",
      "[Parallel(n_jobs=-1)]: Done 418 tasks      | elapsed: 23.0min\n",
      "[Parallel(n_jobs=-1)]: Done 449 tasks      | elapsed: 25.4min\n",
      "[Parallel(n_jobs=-1)]: Done 480 tasks      | elapsed: 27.5min\n",
      "[Parallel(n_jobs=-1)]: Done 513 tasks      | elapsed: 28.6min\n",
      "[Parallel(n_jobs=-1)]: Done 546 tasks      | elapsed: 29.9min\n",
      "[Parallel(n_jobs=-1)]: Done 581 tasks      | elapsed: 31.9min\n",
      "[Parallel(n_jobs=-1)]: Done 616 tasks      | elapsed: 33.8min\n",
      "[Parallel(n_jobs=-1)]: Done 653 tasks      | elapsed: 36.3min\n",
      "[Parallel(n_jobs=-1)]: Done 720 out of 720 | elapsed: 41.7min finished\n",
      "/Users/victoriadebebe/.local/share/virtualenvs/BW4-1tQRhIyQ/lib/python3.8/site-packages/xgboost/sklearn.py:892: UserWarning: The use of label encoder in XGBClassifier is deprecated and will be removed in a future release. To remove this warning, do the following: 1) Pass option use_label_encoder=False when constructing XGBClassifier object; and 2) Encode your labels (y) as integers starting with 0, i.e. 0, 1, 2, ..., [num_class - 1].\n",
      "  warnings.warn(label_encoder_deprecation_msg, UserWarning)\n"
     ]
    },
    {
     "name": "stdout",
     "output_type": "stream",
     "text": [
      "[23:08:23] WARNING: /Users/travis/build/dmlc/xgboost/src/learner.cc:1061: Starting in XGBoost 1.3.0, the default evaluation metric used with the objective 'multi:softprob' was changed from 'merror' to 'mlogloss'. Explicitly set eval_metric if you'd like to restore the old behavior.\n"
     ]
    },
    {
     "data": {
      "text/plain": [
       "GridSearchCV(cv=10,\n",
       "             estimator=Pipeline(steps=[('lsi',\n",
       "                                        Pipeline(steps=[('vect',\n",
       "                                                         TfidfVectorizer(ngram_range=(1,\n",
       "                                                                                      2),\n",
       "                                                                         stop_words='english')),\n",
       "                                                        ('svd',\n",
       "                                                         TruncatedSVD(n_components=300,\n",
       "                                                                      n_iter=20))])),\n",
       "                                       ('clf',\n",
       "                                        XGBClassifier(base_score=None,\n",
       "                                                      booster=None,\n",
       "                                                      colsample_bylevel=None,\n",
       "                                                      colsample_bynode=None,\n",
       "                                                      colsample_bytree=None,\n",
       "                                                      gamma=None, gpu_id=None,\n",
       "                                                      importance_type='gain',\n",
       "                                                      in...\n",
       "                                                      num_parallel_tree=None,\n",
       "                                                      random_state=None,\n",
       "                                                      reg_alpha=None,\n",
       "                                                      reg_lambda=None,\n",
       "                                                      scale_pos_weight=None,\n",
       "                                                      subsample=None,\n",
       "                                                      tree_method=None,\n",
       "                                                      validate_parameters=None,\n",
       "                                                      verbosity=None))]),\n",
       "             n_jobs=-1,\n",
       "             param_grid={'clf__max_depth': (5, 10, 15),\n",
       "                         'clf__n_estimators': (200, 500, 1000),\n",
       "                         'lsi__svd__n_components': (10, 55),\n",
       "                         'lsi__vect__max_df': (0.75, 1.0),\n",
       "                         'lsi__vect__min_df': (0.025, 0.05)},\n",
       "             verbose=10)"
      ]
     },
     "execution_count": 283,
     "metadata": {},
     "output_type": "execute_result"
    }
   ],
   "source": [
    "from sklearn.decomposition import TruncatedSVD\n",
    "# from sklearn.ensemble import RandomForestClassifier\n",
    "from sklearn.model_selection import GridSearchCV\n",
    "from sklearn.pipeline import Pipeline\n",
    "from xgboost import XGBClassifier\n",
    "\n",
    "svd = TruncatedSVD(n_components=300, \n",
    "                   algorithm='randomized',\n",
    "                   n_iter=20)\n",
    "\n",
    "vect = TfidfVectorizer(stop_words='english', \n",
    "                       ngram_range=(1,2))\n",
    "clf = XGBClassifier()\n",
    "\n",
    "lsi = Pipeline([('vect', vect), ('svd', svd)])\n",
    "pipe = Pipeline([('lsi', lsi), ('clf', clf)])\n",
    "\n",
    "parameters = {\n",
    "    'lsi__svd__n_components': (10,55),\n",
    "    'lsi__vect__max_df': (0.75, 1.0),\n",
    "    'clf__max_depth': (5,10,15),\n",
    "    'clf__n_estimators': (200, 500, 1000),\n",
    "    'lsi__vect__min_df': (0.025, 0.05)\n",
    "}\n",
    "\n",
    "grid_search = GridSearchCV(pipe, parameters, cv=10, n_jobs=-1, verbose=10)\n",
    "grid_search.fit(X_train_cv, y_train_cv)\n",
    "\n"
   ]
  },
  {
   "cell_type": "code",
   "execution_count": 284,
   "metadata": {
    "colab": {
     "base_uri": "https://localhost:8080/"
    },
    "id": "NHg3Md5cAuEy",
    "outputId": "377690dc-2421-4998-c2c1-9eb89f1f6a52"
   },
   "outputs": [
    {
     "data": {
      "text/plain": [
       "0.7954056978002163"
      ]
     },
     "execution_count": 284,
     "metadata": {},
     "output_type": "execute_result"
    }
   ],
   "source": [
    "grid_search.best_score_"
   ]
  },
  {
   "cell_type": "markdown",
   "metadata": {
    "id": "EK9CTkad55G1"
   },
   "source": [
    "\n",
    "get_word_vectors --> return word vectors using spacy"
   ]
  },
  {
   "cell_type": "code",
   "execution_count": 285,
   "metadata": {
    "id": "71wEtK2jk-z6"
   },
   "outputs": [],
   "source": [
    "def get_word_vectors(words):\n",
    "    # converts a list of words into their word vectors\n",
    "    return [nlp(word).vector for word in words]\n"
   ]
  },
  {
   "cell_type": "markdown",
   "metadata": {
    "id": "TBIx7gWm6BDK"
   },
   "source": [
    "get_words --> creates a word embedding plot/visualization"
   ]
  },
  {
   "cell_type": "code",
   "execution_count": 286,
   "metadata": {
    "id": "ZyPV3f2D0ZRs"
   },
   "outputs": [],
   "source": [
    "def get_words(x):\n",
    "    \n",
    "    \"\"\"Get word vectors froma column of strings and plot\"\"\"\n",
    "    \n",
    "    #create a new column with lemmas\n",
    "    test_df[\"tokens\"] = test_df[x].apply(get_lemmas)\n",
    "    \n",
    "    #create a list of lists from the lemmas column\n",
    "    ls_lemmas = []\n",
    "    for _ in test_df[\"tokens\"]:\n",
    "        ls_lemmas.append(_)\n",
    "    \n",
    "    # create a list of items from the sublist items\n",
    "    ls_lemmas_new = [item for sublist in ls_lemmas for item in sublist]\n",
    "    \n",
    "    # create list of lemmatized words\n",
    "    lemmas = []\n",
    "    for _ in ls_lemmas_new:\n",
    "        _ = get_lemmas(_)\n",
    "        lemmas.append(_)\n",
    "    lemmas= [item for sublist in ls_lemmas for item in sublist]\n",
    "    \n",
    "    # create new list with lowered words\n",
    "    lemmas_1 = []\n",
    "    for _ in lemmas:\n",
    "        _= _.lower()\n",
    "        lemmas_1.append(_)\n",
    "    \n",
    "    # Get rid of duplicates\n",
    "    lemmas = list(set(lemmas_1))\n",
    "    \n",
    "    # intialise pca model and tell it to project data down onto 2 dimensions\n",
    "    pca = PCA(n_components=2)\n",
    "\n",
    "    # fit the pca model to our spacy 300 dim data, this will work out which is the best \n",
    "    # way to project the data down that will best maintain the relative distances \n",
    "    # between data points. It will store these intructioons on how to transform the data.\n",
    "    pca.fit(get_word_vectors(lemmas))\n",
    "\n",
    "    # Tell our (fitted) pca model to transform our 300D data down onto 2D using the \n",
    "    # instructions it learnt during the fit phase.\n",
    "    word_vecs_2d = pca.transform(get_word_vectors(lemmas))\n",
    "    \n",
    "    # create a nice big plot \n",
    "    plt.figure(figsize=(40,30))\n",
    "\n",
    "    # plot the scatter plot of where the words will be\n",
    "    sns.scatterplot(word_vecs_2d[:,0], word_vecs_2d[:,1], size=lemmas, )\n",
    "\n",
    "    # for each word and coordinate pair: draw the text on the plot\n",
    "    for word, coord in zip(lemmas, word_vecs_2d):\n",
    "        x, y = coord\n",
    "        plt.text(x, y, word, size= 30)\n",
    "\n",
    "    # show the plot\n",
    "    plt.show()\n",
    "    \n",
    "    return lemmas   "
   ]
  },
  {
   "cell_type": "code",
   "execution_count": 287,
   "metadata": {},
   "outputs": [
    {
     "name": "stderr",
     "output_type": "stream",
     "text": [
      "/Users/victoriadebebe/.local/share/virtualenvs/BW4-1tQRhIyQ/lib/python3.8/site-packages/seaborn/_decorators.py:36: FutureWarning: Pass the following variables as keyword args: x, y. From version 0.12, the only valid positional argument will be `data`, and passing other arguments without an explicit keyword will result in an error or misinterpretation.\n",
      "  warnings.warn(\n"
     ]
    },
    {
     "data": {
      "image/png": "[encoded data removed]",
      "text/plain": [
       "<Figure size 2880x2160 with 1 Axes>"
      ]
     },
     "metadata": {
      "needs_background": "light"
     },
     "output_type": "display_data"
    },
    {
     "data": {
      "text/plain": [
       "['relax',\n",
       " 'uplifted',\n",
       " 'focused',\n",
       " 'sleepy',\n",
       " 'energetic',\n",
       " 'talkative',\n",
       " 'focus',\n",
       " 'dry',\n",
       " 'hungry',\n",
       " 'tingly',\n",
       " 'giggly',\n",
       " 'creative',\n",
       " 'euphoric',\n",
       " 'happy',\n",
       " 'relaxed',\n",
       " 'mouth',\n",
       " 'arouse']"
      ]
     },
     "execution_count": 287,
     "metadata": {},
     "output_type": "execute_result"
    }
   ],
   "source": [
    "# Word embeddings for cannabis effects\n",
    "get_words(\"Effects\")"
   ]
  },
  {
   "cell_type": "markdown",
   "metadata": {
    "id": "I7RONI4L6dD9"
   },
   "source": [
    "pred --> \n",
    "(1) summary statistics\n",
    "(2) make a prediction that returns a nested dictionary of 5 closest neighbors "
   ]
  },
  {
   "cell_type": "code",
   "execution_count": null,
   "metadata": {
    "id": "9hvlb3D-s8lk"
   },
   "outputs": [],
   "source": [
    "# def pred(x):\n",
    "#   \"\"\"\n",
    "#   Returns a nested dictionary / makes prediction from the model\n",
    "#   x = a string\n",
    "#   \"\"\"\n",
    "#   model = pickle.load(open(\"mvp.pkl\", \"rb\"))\n",
    "#   x = [x]\n",
    "\n",
    "#   transformer = tfidf.transform(x)\n",
    "#   predict = model.kneighbors(trans.todense())[1][0]\n",
    "\n",
    "\n",
    "#   # Empty dictionary\n",
    "#   pred_dictionary ={}\n",
    "\n",
    "#   # Statistics\n",
    "#   for x in pred:\n",
    "#     print(\"\\nStrain: \", test_df[\"Strain\"][x])\n",
    "#     print(\"\\nType: \", test_df[\"Type\"][x])\n",
    "#     print(\"\\nStrength: \", test_df[\"Strength\"][x])\n",
    "#     print(\"\\nDescription: \", test_df[\"Description\"][x])\n",
    "#     print(\"\\nFlavor: \", test_df[\"Flavor\"][x])\n",
    "#     print(\"\\nEffects: \", test_df[\"Effects\"][x])\n",
    "#     print(\"\\nAilments: \", test_df[\"Ailments\"][x])\n",
    "#     print(\"\\n Predicting.....\")"
   ]
  },
  {
   "cell_type": "code",
   "execution_count": null,
   "metadata": {
    "id": "XNv8np2iwYiv"
   },
   "outputs": [],
   "source": [
    "#     preds_dictionary ={\n",
    "#         (1+len(pred_dict)): \n",
    "#         {\"strain\":df_test[\"Strain\"][x],\n",
    "#         \"type\": df_test[\"Type\"][x],\n",
    "#         \"description\": df_test[\"Description\"][x],\n",
    "#         \"flavor\": df_test[\"Flavor\"][x],\n",
    "#         \"effects\": df_test[\"Effects\"][x],\n",
    "#         \"ailments\": df_test[\"Ailment\"][x]}\n",
    "#         }\n",
    "#     pred_dictionary.update(preds_dictionary)\n",
    "\n",
    "# return pred_dictionary, preds_dictionary"
   ]
  },
  {
   "cell_type": "code",
   "execution_count": null,
   "metadata": {
    "id": "aJKEhq0zZkgB"
   },
   "outputs": [],
   "source": []
  }
 ],
 "metadata": {
  "accelerator": "GPU",
  "colab": {
   "collapsed_sections": [],
   "name": "medcabinet.ipynb",
   "provenance": []
  },
  "kernelspec": {
   "display_name": "Python 3",
   "language": "python",
   "name": "python3"
  },
  "language_info": {
   "codemirror_mode": {
    "name": "ipython",
    "version": 3
   },
   "file_extension": ".py",
   "mimetype": "text/x-python",
   "name": "python",
   "nbconvert_exporter": "python",
   "pygments_lexer": "ipython3",
   "version": "3.8.5"
  }
 },
 "nbformat": 4,
 "nbformat_minor": 4
}
